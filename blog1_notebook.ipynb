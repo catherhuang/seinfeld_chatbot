{
 "cells": [
  {
   "cell_type": "code",
   "execution_count": 1,
   "metadata": {
    "scrolled": false
   },
   "outputs": [],
   "source": [
    "#read file \n",
    "import pandas as pd\n",
    "script_df=pd.read_csv('scripts.csv')"
   ]
  },
  {
   "cell_type": "code",
   "execution_count": 2,
   "metadata": {},
   "outputs": [],
   "source": [
    "df=script_df"
   ]
  },
  {
   "cell_type": "code",
   "execution_count": 4,
   "metadata": {},
   "outputs": [
    {
     "data": {
      "text/html": [
       "<div>\n",
       "<style scoped>\n",
       "    .dataframe tbody tr th:only-of-type {\n",
       "        vertical-align: middle;\n",
       "    }\n",
       "\n",
       "    .dataframe tbody tr th {\n",
       "        vertical-align: top;\n",
       "    }\n",
       "\n",
       "    .dataframe thead th {\n",
       "        text-align: right;\n",
       "    }\n",
       "</style>\n",
       "<table border=\"1\" class=\"dataframe\">\n",
       "  <thead>\n",
       "    <tr style=\"text-align: right;\">\n",
       "      <th></th>\n",
       "      <th>Unnamed: 0</th>\n",
       "      <th>Character</th>\n",
       "      <th>Dialogue</th>\n",
       "      <th>EpisodeNo</th>\n",
       "      <th>SEID</th>\n",
       "      <th>Season</th>\n",
       "    </tr>\n",
       "  </thead>\n",
       "  <tbody>\n",
       "    <tr>\n",
       "      <th>0</th>\n",
       "      <td>0</td>\n",
       "      <td>JERRY</td>\n",
       "      <td>Do you know what this is all about? Do you kno...</td>\n",
       "      <td>1.0</td>\n",
       "      <td>S01E01</td>\n",
       "      <td>1.0</td>\n",
       "    </tr>\n",
       "    <tr>\n",
       "      <th>1</th>\n",
       "      <td>1</td>\n",
       "      <td>JERRY</td>\n",
       "      <td>(pointing at Georges shirt) See, to me, that b...</td>\n",
       "      <td>1.0</td>\n",
       "      <td>S01E01</td>\n",
       "      <td>1.0</td>\n",
       "    </tr>\n",
       "    <tr>\n",
       "      <th>2</th>\n",
       "      <td>2</td>\n",
       "      <td>GEORGE</td>\n",
       "      <td>Are you through?</td>\n",
       "      <td>1.0</td>\n",
       "      <td>S01E01</td>\n",
       "      <td>1.0</td>\n",
       "    </tr>\n",
       "    <tr>\n",
       "      <th>3</th>\n",
       "      <td>3</td>\n",
       "      <td>JERRY</td>\n",
       "      <td>You do of course try on, when you buy?</td>\n",
       "      <td>1.0</td>\n",
       "      <td>S01E01</td>\n",
       "      <td>1.0</td>\n",
       "    </tr>\n",
       "    <tr>\n",
       "      <th>4</th>\n",
       "      <td>4</td>\n",
       "      <td>GEORGE</td>\n",
       "      <td>Yes, it was purple, I liked it, I dont actuall...</td>\n",
       "      <td>1.0</td>\n",
       "      <td>S01E01</td>\n",
       "      <td>1.0</td>\n",
       "    </tr>\n",
       "  </tbody>\n",
       "</table>\n",
       "</div>"
      ],
      "text/plain": [
       "   Unnamed: 0 Character                                           Dialogue  \\\n",
       "0           0     JERRY  Do you know what this is all about? Do you kno...   \n",
       "1           1     JERRY  (pointing at Georges shirt) See, to me, that b...   \n",
       "2           2    GEORGE                                   Are you through?   \n",
       "3           3     JERRY             You do of course try on, when you buy?   \n",
       "4           4    GEORGE  Yes, it was purple, I liked it, I dont actuall...   \n",
       "\n",
       "   EpisodeNo    SEID  Season  \n",
       "0        1.0  S01E01     1.0  \n",
       "1        1.0  S01E01     1.0  \n",
       "2        1.0  S01E01     1.0  \n",
       "3        1.0  S01E01     1.0  \n",
       "4        1.0  S01E01     1.0  "
      ]
     },
     "execution_count": 4,
     "metadata": {},
     "output_type": "execute_result"
    }
   ],
   "source": [
    "df.head()"
   ]
  },
  {
   "cell_type": "code",
   "execution_count": 102,
   "metadata": {},
   "outputs": [],
   "source": [
    "# sentiment analysis tool \n",
    "from vaderSentiment.vaderSentiment import SentimentIntensityAnalyzer\n",
    "analyser = SentimentIntensityAnalyzer()\n",
    "#plotting tools \n",
    "import seaborn as sns\n",
    "from matplotlib import pyplot as plt\n",
    "%matplotlib inline\n",
    "import numpy as np"
   ]
  },
  {
   "cell_type": "code",
   "execution_count": 103,
   "metadata": {},
   "outputs": [],
   "source": [
    "import statsmodels.api as sm\n",
    "from sklearn import preprocessing\n",
    "from statsmodels.graphics.mosaicplot import mosaic\n",
    "from sklearn.model_selection import train_test_split\n",
    "from sklearn.linear_model import LinearRegression\n",
    "from sklearn.preprocessing import PolynomialFeatures\n",
    "from sklearn.metrics import mean_squared_error\n",
    "from sklearn.naive_bayes import GaussianNB, BernoulliNB, MultinomialNB\n",
    "from sklearn.metrics import accuracy_score, f1_score\n",
    "from mpl_toolkits.mplot3d import Axes3D\n",
    "from sklearn.manifold import TSNE\n",
    "import nltk\n",
    "from nltk.tokenize import word_tokenize\n",
    "np.random.seed(0)"
   ]
  },
  {
   "cell_type": "code",
   "execution_count": 157,
   "metadata": {},
   "outputs": [],
   "source": [
    "from nltk.corpus import stopwords\n",
    "import string \n",
    "from sklearn.feature_extraction.text import CountVectorizer, TfidfVectorizer"
   ]
  },
  {
   "cell_type": "code",
   "execution_count": 224,
   "metadata": {},
   "outputs": [],
   "source": [
    "main_characters=['GEORGE', 'JERRY', 'ELAINE', 'NEWMAN', 'KRAMER']"
   ]
  },
  {
   "cell_type": "code",
   "execution_count": 245,
   "metadata": {},
   "outputs": [],
   "source": [
    "dial_df_1 = df[(df[\"Character\"]==\"JERRY\")| (df[\"Character\"]==\"ELAINE\") | (df[\"Character\"]==\"GEORGE\") | (df[\"Character\"]==\"KRAMER\") |(df[\"Character\"]==\"NEWMAN\")]\n"
   ]
  },
  {
   "cell_type": "code",
   "execution_count": 105,
   "metadata": {},
   "outputs": [],
   "source": [
    "george_dialogue_df=script_df[script_df.Character=='GEORGE']\n",
    "jerry_dialogue_df=script_df[script_df.Character=='JERRY']\n",
    "elaine_dialogue_df=script_df[script_df.Character=='ELAINE']\n",
    "kramer_dialogue_df=script_df[script_df.Character=='KRAMER']\n",
    "newman_dialogue_df=script_df[script_df.Character=='NEWMAN']\n"
   ]
  },
  {
   "cell_type": "code",
   "execution_count": 375,
   "metadata": {},
   "outputs": [
    {
     "data": {
      "text/plain": [
       "144      Do you handle any of that commercial...real es...\n",
       "458                                                    Hi.\n",
       "461                  Hey Morty! (to Jerry) Salad dressing?\n",
       "467                                 Quo? Thats not a word.\n",
       "491      No, you dont have to challenge that. Thats a w...\n",
       "493                             Quone. To quone something.\n",
       "499      Nah, we need a medical dictionary! If a patien...\n",
       "616      Uh, Jer, well you know, I was cookin and I, I ...\n",
       "618                                   (guiltily) The door.\n",
       "620      Yeah, well, I was gonna bring the spatula righ...\n",
       "622      Well, I got caught up... watching a soap opera...\n",
       "624                                             Wide open!\n",
       "627      Look, Jerry, Im sorry, Im uh- you have insuran...\n",
       "629              (shocked) How can you not have insurance?\n",
       "631      Jerry! Im gonna find your stuff. Im gonna solv...\n",
       "633                         (theatrical) I made a mistake.\n",
       "635                                              Im human.\n",
       "768      Jerry, I think Im on to something. I think I f...\n",
       "770      The last couple a days hes been acting very st...\n",
       "772      Yeah! And get this I just got off the elevator...\n",
       "773                             ..you know, very casually,\n",
       "775      (cont'd) so that he was gonna take me into his...\n",
       "777                                            What stuff?\n",
       "779      No, you dont understand, you see, he swallowed...\n",
       "781                                                  Yeah!\n",
       "857      (to the phone) Oh, theyve got a cure for cance...\n",
       "859                                               Take it.\n",
       "861                                           Its for you.\n",
       "863        Well, its your phone. He wanted to talk to you.\n",
       "865                                         Well, why not?\n",
       "                               ...                        \n",
       "54090    You know, I went swimming and I can't get this...\n",
       "54092                         You're moving to California?\n",
       "54094    Yeah, but Jerry, what happens if the show's a ...\n",
       "54096    Jerry. It's L.A. Nobody leaves. She's a seduct...\n",
       "54098                                               Fling!\n",
       "54105                                         I say Japan.\n",
       "54107    Oh - geishas - they cater to your every whim. ...\n",
       "54116        Oh - Switzerland - the Von Trapp family, huh?\n",
       "54126                                   Oh yeah - oui oui.\n",
       "54153                                 The only way to fly.\n",
       "54172    Can't get rid of it. Maybe it leaked inside my...\n",
       "54174      I got to get it out, I can't take this anymore.\n",
       "54182                                   I lost my balance.\n",
       "54186                                  It was an accident.\n",
       "54191              I'm ready! I'm ready! Glory hallelujah!\n",
       "54209                             We're straightening out!\n",
       "54230                              I want to capture this.\n",
       "54240    All right, what's wrong with the plane we got?...\n",
       "54244                                                What?\n",
       "54256    The Samaritans were an ancient tribe - very he...\n",
       "54271                 Mmmm, this is pretty good chow, huh?\n",
       "54275    I still had it on video. We could have watched...\n",
       "54306    This is excellent huh? Don't worry I didn't us...\n",
       "54308                                               I bet.\n",
       "54322                                 How bout me, Jackie?\n",
       "54488      Cool it, lady. Cool it. Cool it, lady. Cool it.\n",
       "54562    Will you stop worrying? Jackie's going to get ...\n",
       "54575    I think it's going to be okay - that girl just...\n",
       "54591    Could be fun. Don't have to worry about your m...\n",
       "54597    I got it - it's out! How about that, huh? Oh, ...\n",
       "Name: Dialogue, Length: 6664, dtype: object"
      ]
     },
     "execution_count": 375,
     "metadata": {},
     "output_type": "execute_result"
    }
   ],
   "source": []
  },
  {
   "cell_type": "code",
   "execution_count": 366,
   "metadata": {},
   "outputs": [
    {
     "name": "stdout",
     "output_type": "stream",
     "text": [
      "14786 9708 7983 6664 640\n"
     ]
    }
   ],
   "source": [
    "print(len(jerry_dialogue_df), len (george_dialogue_df), (len (elaine_dialogue_df)), len (kramer_dialogue_df), len (newman_dialogue_df))"
   ]
  },
  {
   "cell_type": "code",
   "execution_count": 369,
   "metadata": {
    "scrolled": true
   },
   "outputs": [
    {
     "data": {
      "text/html": [
       "<div>\n",
       "<style scoped>\n",
       "    .dataframe tbody tr th:only-of-type {\n",
       "        vertical-align: middle;\n",
       "    }\n",
       "\n",
       "    .dataframe tbody tr th {\n",
       "        vertical-align: top;\n",
       "    }\n",
       "\n",
       "    .dataframe thead th {\n",
       "        text-align: right;\n",
       "    }\n",
       "</style>\n",
       "<table border=\"1\" class=\"dataframe\">\n",
       "  <thead>\n",
       "    <tr style=\"text-align: right;\">\n",
       "      <th></th>\n",
       "      <th>Character</th>\n",
       "      <th>line_count</th>\n",
       "    </tr>\n",
       "  </thead>\n",
       "  <tbody>\n",
       "    <tr>\n",
       "      <th>0</th>\n",
       "      <td>JERRY</td>\n",
       "      <td>14786</td>\n",
       "    </tr>\n",
       "    <tr>\n",
       "      <th>1</th>\n",
       "      <td>GEORGE</td>\n",
       "      <td>9708</td>\n",
       "    </tr>\n",
       "    <tr>\n",
       "      <th>2</th>\n",
       "      <td>ELAINE</td>\n",
       "      <td>7983</td>\n",
       "    </tr>\n",
       "    <tr>\n",
       "      <th>3</th>\n",
       "      <td>KRAMER</td>\n",
       "      <td>6664</td>\n",
       "    </tr>\n",
       "    <tr>\n",
       "      <th>4</th>\n",
       "      <td>NEWMAN</td>\n",
       "      <td>640</td>\n",
       "    </tr>\n",
       "  </tbody>\n",
       "</table>\n",
       "</div>"
      ],
      "text/plain": [
       "  Character  line_count\n",
       "0     JERRY       14786\n",
       "1    GEORGE        9708\n",
       "2    ELAINE        7983\n",
       "3    KRAMER        6664\n",
       "4    NEWMAN         640"
      ]
     },
     "execution_count": 369,
     "metadata": {},
     "output_type": "execute_result"
    }
   ],
   "source": [
    "bar_df=pd.DataFrame()\n",
    "bar_df['Character']=['JERRY','GEORGE','ELAINE', 'KRAMER', 'NEWMAN']\n",
    "bar_df['line_count']=[14786, 9708, 7983, 6664, 640]\n",
    "bar_df"
   ]
  },
  {
   "cell_type": "code",
   "execution_count": 370,
   "metadata": {
    "scrolled": true
   },
   "outputs": [
    {
     "data": {
      "text/plain": [
       "<matplotlib.axes._subplots.AxesSubplot at 0x1c3a874198>"
      ]
     },
     "execution_count": 370,
     "metadata": {},
     "output_type": "execute_result"
    },
    {
     "data": {
      "image/png": "[encoded data removed]",
      "text/plain": [
       "<Figure size 432x288 with 1 Axes>"
      ]
     },
     "metadata": {},
     "output_type": "display_data"
    }
   ],
   "source": [
    "sns.barplot(y=\"line_count\",x=\"Character\",data=bar_df)"
   ]
  },
  {
   "cell_type": "code",
   "execution_count": 169,
   "metadata": {},
   "outputs": [],
   "source": [
    "def combine_dialogues(dialogue):\n",
    "    dialogues=''\n",
    "    for i in dialogue: \n",
    "        dialogues=dialogues+(i)\n",
    "    return dialogues"
   ]
  },
  {
   "cell_type": "code",
   "execution_count": 298,
   "metadata": {},
   "outputs": [],
   "source": [
    "kramer_dialogues=combine_dialogues(kramer_dialogue_df.Dialogue)\n",
    "newman_dialogues=combine_dialogues(newman_dialogue_df.Dialogue)\n",
    "jerry_dialogues=combine_dialogues(jerry_dialogue_df.Dialogue)\n",
    "george_dialogues=combine_dialogues(george_dialogue_df.Dialogue)\n",
    "elaine_dialogues=combine_dialogues(elaine_dialogue_df.Dialogue)"
   ]
  },
  {
   "cell_type": "code",
   "execution_count": 373,
   "metadata": {},
   "outputs": [
    {
     "ename": "AttributeError",
     "evalue": "'str' object has no attribute 'unique'",
     "output_type": "error",
     "traceback": [
      "\u001b[0;31m---------------------------------------------------------------------------\u001b[0m",
      "\u001b[0;31mAttributeError\u001b[0m                            Traceback (most recent call last)",
      "\u001b[0;32m<ipython-input-373-9e8d9df8c892>\u001b[0m in \u001b[0;36m<module>\u001b[0;34m()\u001b[0m\n\u001b[0;32m----> 1\u001b[0;31m \u001b[0mkramer_dialogues\u001b[0m\u001b[0;34m.\u001b[0m\u001b[0munique\u001b[0m\u001b[0;34m(\u001b[0m\u001b[0;34m)\u001b[0m\u001b[0;34m\u001b[0m\u001b[0m\n\u001b[0m",
      "\u001b[0;31mAttributeError\u001b[0m: 'str' object has no attribute 'unique'"
     ]
    }
   ],
   "source": [
    "kramer_dialogues"
   ]
  },
  {
   "cell_type": "code",
   "execution_count": 299,
   "metadata": {},
   "outputs": [
    {
     "data": {
      "text/html": [
       "<div>\n",
       "<style scoped>\n",
       "    .dataframe tbody tr th:only-of-type {\n",
       "        vertical-align: middle;\n",
       "    }\n",
       "\n",
       "    .dataframe tbody tr th {\n",
       "        vertical-align: top;\n",
       "    }\n",
       "\n",
       "    .dataframe thead th {\n",
       "        text-align: right;\n",
       "    }\n",
       "</style>\n",
       "<table border=\"1\" class=\"dataframe\">\n",
       "  <thead>\n",
       "    <tr style=\"text-align: right;\">\n",
       "      <th></th>\n",
       "      <th>Character</th>\n",
       "      <th>Dialogues</th>\n",
       "    </tr>\n",
       "  </thead>\n",
       "  <tbody>\n",
       "    <tr>\n",
       "      <th>0</th>\n",
       "      <td>JERRY</td>\n",
       "      <td>Do you know what this is all about? Do you kno...</td>\n",
       "    </tr>\n",
       "    <tr>\n",
       "      <th>1</th>\n",
       "      <td>GEORGE</td>\n",
       "      <td>Are you through?Yes, it was purple, I liked it...</td>\n",
       "    </tr>\n",
       "    <tr>\n",
       "      <th>2</th>\n",
       "      <td>ELAINE</td>\n",
       "      <td>Coccoon II The Return. I guess they didnt like...</td>\n",
       "    </tr>\n",
       "    <tr>\n",
       "      <th>3</th>\n",
       "      <td>KRAMER</td>\n",
       "      <td>Do you handle any of that commercial...real es...</td>\n",
       "    </tr>\n",
       "    <tr>\n",
       "      <th>4</th>\n",
       "      <td>NEWMAN</td>\n",
       "      <td>Kramer!I'm on the roof!I can't. I'm goin' to a...</td>\n",
       "    </tr>\n",
       "  </tbody>\n",
       "</table>\n",
       "</div>"
      ],
      "text/plain": [
       "  Character                                          Dialogues\n",
       "0     JERRY  Do you know what this is all about? Do you kno...\n",
       "1    GEORGE  Are you through?Yes, it was purple, I liked it...\n",
       "2    ELAINE  Coccoon II The Return. I guess they didnt like...\n",
       "3    KRAMER  Do you handle any of that commercial...real es...\n",
       "4    NEWMAN  Kramer!I'm on the roof!I can't. I'm goin' to a..."
      ]
     },
     "execution_count": 299,
     "metadata": {},
     "output_type": "execute_result"
    }
   ],
   "source": [
    "main_characters=pd.DataFrame()\n",
    "main_characters['Character']=['JERRY', 'GEORGE', 'ELAINE', 'KRAMER', 'NEWMAN' ]\n",
    "main_characters['Dialogues']=[jerry_dialogues, george_dialogues, elaine_dialogues, kramer_dialogues, newman_dialogues]\n",
    "main_characters.head()"
   ]
  },
  {
   "cell_type": "code",
   "execution_count": 300,
   "metadata": {},
   "outputs": [],
   "source": [
    "from sklearn.feature_extraction import text\n",
    "punc = ['.', ',', '\"', \"'\", '?', '!', ':', ';', '(', ')', '[', ']', '{', '}',\"%\"]\n",
    "stop_words = text.ENGLISH_STOP_WORDS.union(punc)"
   ]
  },
  {
   "cell_type": "code",
   "execution_count": 301,
   "metadata": {},
   "outputs": [],
   "source": [
    "\n",
    "def lines(dialogue):\n",
    "    dialogue = word_tokenize(dialogue)\n",
    "    nopunc=[word.lower() for word in dialogue if word not in stop_words]\n",
    "    nopunc=' '.join(nopunc)\n",
    "    return [word for word in nopunc.split()]"
   ]
  },
  {
   "cell_type": "code",
   "execution_count": 302,
   "metadata": {},
   "outputs": [],
   "source": [
    "main_characters[\"Dialogues\"] = main_characters[\"Dialogues\"].apply(lambda x: lines(x))"
   ]
  },
  {
   "cell_type": "code",
   "execution_count": 417,
   "metadata": {},
   "outputs": [
    {
     "data": {
      "text/html": [
       "<div>\n",
       "<style scoped>\n",
       "    .dataframe tbody tr th:only-of-type {\n",
       "        vertical-align: middle;\n",
       "    }\n",
       "\n",
       "    .dataframe tbody tr th {\n",
       "        vertical-align: top;\n",
       "    }\n",
       "\n",
       "    .dataframe thead th {\n",
       "        text-align: right;\n",
       "    }\n",
       "</style>\n",
       "<table border=\"1\" class=\"dataframe\">\n",
       "  <thead>\n",
       "    <tr style=\"text-align: right;\">\n",
       "      <th></th>\n",
       "      <th>Character</th>\n",
       "      <th>Dialogues</th>\n",
       "      <th>words_spoken</th>\n",
       "    </tr>\n",
       "  </thead>\n",
       "  <tbody>\n",
       "    <tr>\n",
       "      <th>0</th>\n",
       "      <td>JERRY</td>\n",
       "      <td>[do, know, do, know, to, ..., single, enjoyabl...</td>\n",
       "      <td>87562</td>\n",
       "    </tr>\n",
       "    <tr>\n",
       "      <th>1</th>\n",
       "      <td>GEORGE</td>\n",
       "      <td>[are, yes, purple, i, liked, i, dont, actually...</td>\n",
       "      <td>65235</td>\n",
       "    </tr>\n",
       "    <tr>\n",
       "      <th>2</th>\n",
       "      <td>ELAINE</td>\n",
       "      <td>[coccoon, ii, the, return, i, guess, didnt, li...</td>\n",
       "      <td>45679</td>\n",
       "    </tr>\n",
       "    <tr>\n",
       "      <th>3</th>\n",
       "      <td>KRAMER</td>\n",
       "      <td>[do, handle, commercial, ..., real, estate, hi...</td>\n",
       "      <td>43782</td>\n",
       "    </tr>\n",
       "    <tr>\n",
       "      <th>4</th>\n",
       "      <td>NEWMAN</td>\n",
       "      <td>[kramer, i, 'm, roof, i, ca, n't, i, 'm, goin,...</td>\n",
       "      <td>4242</td>\n",
       "    </tr>\n",
       "  </tbody>\n",
       "</table>\n",
       "</div>"
      ],
      "text/plain": [
       "  Character                                          Dialogues  words_spoken\n",
       "0     JERRY  [do, know, do, know, to, ..., single, enjoyabl...         87562\n",
       "1    GEORGE  [are, yes, purple, i, liked, i, dont, actually...         65235\n",
       "2    ELAINE  [coccoon, ii, the, return, i, guess, didnt, li...         45679\n",
       "3    KRAMER  [do, handle, commercial, ..., real, estate, hi...         43782\n",
       "4    NEWMAN  [kramer, i, 'm, roof, i, ca, n't, i, 'm, goin,...          4242"
      ]
     },
     "execution_count": 417,
     "metadata": {},
     "output_type": "execute_result"
    }
   ],
   "source": [
    "main_characters"
   ]
  },
  {
   "cell_type": "code",
   "execution_count": 418,
   "metadata": {
    "scrolled": true
   },
   "outputs": [],
   "source": [
    "jerry=main_characters[\"Dialogues\"][0]\n",
    "newman=main_characters[\"Dialogues\"][4]"
   ]
  },
  {
   "cell_type": "code",
   "execution_count": null,
   "metadata": {},
   "outputs": [],
   "source": [
    "from collections import Counter\n",
    "jerrywords=dict(Counter(jerry))"
   ]
  },
  {
   "cell_type": "code",
   "execution_count": 419,
   "metadata": {
    "scrolled": false
   },
   "outputs": [
    {
     "data": {
      "text/plain": [
       "('just', 787)"
      ]
     },
     "execution_count": 419,
     "metadata": {},
     "output_type": "execute_result"
    }
   ],
   "source": [
    "[(k, jerrywords[k]) for k in sorted(jerrywords, key=jerrywords.get, reverse=True)][10]"
   ]
  },
  {
   "cell_type": "code",
   "execution_count": 422,
   "metadata": {},
   "outputs": [
    {
     "data": {
      "text/plain": [
       "[('i', 273),\n",
       " (\"'s\", 138),\n",
       " (\"n't\", 104),\n",
       " ('jerry', 59),\n",
       " ('kramer', 54),\n",
       " ('you', 54),\n",
       " (\"'m\", 44),\n",
       " ('...', 44),\n",
       " ('know', 40),\n",
       " (\"'re\", 37),\n",
       " ('right', 35),\n",
       " ('got', 34),\n",
       " ('mail', 27),\n",
       " ('just', 26),\n",
       " ('did', 24),\n",
       " ('what', 24),\n",
       " ('it', 23),\n",
       " (\"'ll\", 23),\n",
       " ('like', 22),\n",
       " ('going', 21),\n",
       " ('but', 20),\n",
       " ('well', 19),\n",
       " ('and', 19),\n",
       " (\"'ve\", 18),\n",
       " ('ca', 17),\n",
       " ('ha', 17),\n",
       " ('tell', 16),\n",
       " ('yes', 16),\n",
       " ('hey', 16),\n",
       " ('oh', 15),\n",
       " ('no', 14),\n",
       " ('na', 14),\n",
       " ('the', 14),\n",
       " ('all', 13),\n",
       " ('we', 13),\n",
       " ('little', 13),\n",
       " ('hello', 12),\n",
       " ('day', 12),\n",
       " ('let', 12),\n",
       " ('so', 12),\n",
       " ('that', 12),\n",
       " ('really', 12),\n",
       " ('hear', 11),\n",
       " ('way', 11),\n",
       " ('friend', 11),\n",
       " ('-', 11),\n",
       " ('a', 11),\n",
       " ('doing', 11),\n",
       " ('help', 10),\n",
       " ('gon', 10),\n",
       " ('he', 10),\n",
       " ('do', 10),\n",
       " ('uh', 10),\n",
       " ('come', 10),\n",
       " ('ta', 10),\n",
       " ('mean', 10),\n",
       " ('your', 10),\n",
       " ('newman', 10),\n",
       " ('think', 10),\n",
       " ('elaine', 9),\n",
       " ('thing', 9),\n",
       " ('man', 9),\n",
       " ('say', 8),\n",
       " ('happened', 8),\n",
       " ('are', 8),\n",
       " ('away', 8),\n",
       " ('time', 8),\n",
       " ('believe', 8),\n",
       " ('love', 8),\n",
       " ('there', 8),\n",
       " ('route', 8),\n",
       " ('why', 7),\n",
       " ('because', 7),\n",
       " ('coming', 7),\n",
       " ('they', 7),\n",
       " ('pretty', 7),\n",
       " ('use', 7),\n",
       " ('want', 7),\n",
       " ('life', 7),\n",
       " ('banker', 7),\n",
       " ('honor', 7),\n",
       " ('post', 7),\n",
       " ('office', 7),\n",
       " ('good', 7),\n",
       " ('door', 7),\n",
       " ('this', 7),\n",
       " ('look', 6),\n",
       " ('boy', 6),\n",
       " ('yeah', 6),\n",
       " ('seinfeld', 6),\n",
       " ('helmet', 6),\n",
       " ('for', 6),\n",
       " ('need', 6),\n",
       " ('work', 6),\n",
       " ('postal', 6),\n",
       " ('maybe', 6),\n",
       " (\"''\", 6),\n",
       " ('huh', 6),\n",
       " ('course', 6),\n",
       " ('soup', 6),\n",
       " ('alright', 6),\n",
       " ('cents', 6),\n",
       " ('bottles', 6),\n",
       " ('truck', 6),\n",
       " ('woman', 6),\n",
       " ('makes', 5),\n",
       " ('hope', 5),\n",
       " ('lot', 5),\n",
       " ('care', 5),\n",
       " ('is', 5),\n",
       " ('big', 5),\n",
       " ('nice', 5),\n",
       " ('radar', 5),\n",
       " ('guess', 5),\n",
       " ('of', 5),\n",
       " ('my', 5),\n",
       " ('to', 5),\n",
       " ('matter', 5),\n",
       " (\"'d\", 5),\n",
       " ('mister', 5),\n",
       " ('make', 5),\n",
       " ('where', 5),\n",
       " ('records', 5),\n",
       " ('guy', 5),\n",
       " ('kind', 5),\n",
       " ('feel', 5),\n",
       " ('not', 5),\n",
       " ('wo', 5),\n",
       " ('great', 5),\n",
       " ('how', 5),\n",
       " ('does', 5),\n",
       " ('jerry.i', 4),\n",
       " ('happy', 4),\n",
       " ('hell', 4),\n",
       " ('mets', 4),\n",
       " ('afternoon', 4),\n",
       " ('run', 4),\n",
       " ('second', 4),\n",
       " ('hit', 4),\n",
       " ('talking', 4),\n",
       " ('ahead', 4),\n",
       " ('wan', 4),\n",
       " ('from', 4),\n",
       " ('deal', 4),\n",
       " ('today', 4),\n",
       " ('home', 4),\n",
       " ('party', 4),\n",
       " ('gone', 4),\n",
       " ('when', 4),\n",
       " ('hot', 4),\n",
       " ('wanted', 4),\n",
       " ('eating', 4),\n",
       " ('true', 4),\n",
       " ('phone', 4),\n",
       " ('called', 4),\n",
       " ('mind', 4),\n",
       " ('said', 4),\n",
       " ('``', 4),\n",
       " ('year', 4),\n",
       " ('can', 4),\n",
       " ('walks', 4),\n",
       " ('moving', 4),\n",
       " ('getting', 4),\n",
       " ('damn', 4),\n",
       " ('promise', 4),\n",
       " ('left', 4),\n",
       " ('quite', 4),\n",
       " ('on', 4),\n",
       " ('laughs', 4),\n",
       " ('times', 4),\n",
       " ('pull', 4),\n",
       " ('looks', 4),\n",
       " ('hawaii', 4),\n",
       " ('rickshaw', 4),\n",
       " ('gets', 3),\n",
       " ('bring', 3),\n",
       " ('stop', 3),\n",
       " ('enters', 3),\n",
       " ('phillies', 3),\n",
       " ('beautiful', 3),\n",
       " ('stands', 3),\n",
       " ('later', 3),\n",
       " ('exits', 3),\n",
       " ('george', 3),\n",
       " ('try', 3),\n",
       " ('beat', 3),\n",
       " ('heard', 3),\n",
       " ('giving', 3),\n",
       " ('girlfriend', 3),\n",
       " ('turn', 3),\n",
       " ('new', 3),\n",
       " ('detector', 3),\n",
       " ('understand', 3),\n",
       " ('lights', 3),\n",
       " ('reason', 3),\n",
       " ('back', 3),\n",
       " ('pay', 3),\n",
       " ('ready', 3),\n",
       " ('begin', 3),\n",
       " ('story', 3),\n",
       " ('sleep', 3),\n",
       " ('old', 3),\n",
       " ('dream', 3),\n",
       " ('bank', 3),\n",
       " ('street', 3),\n",
       " ('speeding', 3),\n",
       " ('sir', 3),\n",
       " ('words', 3),\n",
       " ('go', 3),\n",
       " ('remember', 3),\n",
       " ('ask', 3),\n",
       " ('keeps', 3),\n",
       " ('worth', 3),\n",
       " ('dollars', 3),\n",
       " ('couple', 3),\n",
       " ('take', 3),\n",
       " ('leave', 3),\n",
       " ('piece', 3),\n",
       " ('it.i', 3),\n",
       " ('transfer', 3),\n",
       " ('hmm', 3),\n",
       " ('dancing', 3),\n",
       " ('checks', 3),\n",
       " ('hair', 3),\n",
       " ('apartment', 3),\n",
       " ('ah', 3),\n",
       " ('seeing', 3),\n",
       " ('excited', 3),\n",
       " ('she', 3),\n",
       " ('face', 3),\n",
       " ('given', 3),\n",
       " ('tim', 3),\n",
       " ('lost', 3),\n",
       " ('afford', 3),\n",
       " ('fleas', 3),\n",
       " (\"'em\", 3),\n",
       " ('business', 3),\n",
       " ('vile', 3),\n",
       " ('number', 3),\n",
       " ('large', 3),\n",
       " ('hold', 3),\n",
       " ('interesting', 3),\n",
       " ('federal', 3),\n",
       " ('employee', 3),\n",
       " ('bike', 3),\n",
       " ('stuff', 3),\n",
       " ('days', 3),\n",
       " ('strong', 3),\n",
       " ('breaking', 3),\n",
       " ('aaah', 3),\n",
       " ('pam', 3),\n",
       " ('feet', 3),\n",
       " ('beauty', 3),\n",
       " ('stereo', 3),\n",
       " ('moment', 3),\n",
       " ('couch', 3),\n",
       " ('walking', 3),\n",
       " ('coat', 3),\n",
       " ('miss', 3),\n",
       " ('rusty', 3),\n",
       " ('eat', 2),\n",
       " ('idiot', 2),\n",
       " ('dont', 2),\n",
       " ('one.i', 2),\n",
       " ('rug', 2),\n",
       " ('bite', 2),\n",
       " ('better', 2),\n",
       " ('hernandez', 2),\n",
       " ('1987', 2),\n",
       " ('enjoying', 2),\n",
       " ('error', 2),\n",
       " ('cost', 2),\n",
       " ('changed', 2),\n",
       " ('turned', 2),\n",
       " ('spit', 2),\n",
       " ('me.well', 2),\n",
       " ('game', 2),\n",
       " ('then', 2),\n",
       " ('car', 2),\n",
       " ('sure', 2),\n",
       " ('lookin', 2),\n",
       " ('keys', 2),\n",
       " ('thought', 2),\n",
       " ('bad', 2),\n",
       " ('packed', 2),\n",
       " ('lets', 2),\n",
       " ('had', 2),\n",
       " ('reneging', 2),\n",
       " ('thanks', 2),\n",
       " ('long', 2),\n",
       " ('with', 2),\n",
       " ('oddly', 2),\n",
       " ('give', 2),\n",
       " ('gave', 2),\n",
       " ('minutes', 2),\n",
       " ('courthouse', 2),\n",
       " ('ticket', 2),\n",
       " ('saved', 2),\n",
       " ('dead', 2),\n",
       " ('rest', 2),\n",
       " ('means', 2),\n",
       " ('okay', 2),\n",
       " ('stopped', 2),\n",
       " ('told', 2),\n",
       " ('commit', 2),\n",
       " ('now', 2),\n",
       " ('kill', 2),\n",
       " ('every', 2),\n",
       " ('room', 2),\n",
       " ('something', 2),\n",
       " ('live', 2),\n",
       " ('banker.you', 2),\n",
       " ('blind', 2),\n",
       " ('middle', 2),\n",
       " ('depressed', 2),\n",
       " ('lately', 2),\n",
       " ('recall', 2),\n",
       " ('save', 2),\n",
       " ('admit', 2),\n",
       " ('close', 2),\n",
       " ('an', 2),\n",
       " ('person', 2),\n",
       " ('god', 2),\n",
       " ('would', 2),\n",
       " ('september', 2),\n",
       " ('10th', 2),\n",
       " ('family', 2),\n",
       " ('pushed', 2),\n",
       " ('state', 2),\n",
       " ('case', 2),\n",
       " ('telling', 2),\n",
       " ('outside', 2),\n",
       " ('worked', 2),\n",
       " ('fifty', 2),\n",
       " ('thousand', 2),\n",
       " ('see', 2),\n",
       " ('cash', 2),\n",
       " ('stops', 2),\n",
       " ('reader', 2),\n",
       " ('follow', 2),\n",
       " ('offered', 2),\n",
       " ('in', 2),\n",
       " ('bucks', 2),\n",
       " ('*al', 2),\n",
       " ('jolson*', 2),\n",
       " ('if', 2),\n",
       " ('heads', 2),\n",
       " ('him.what', 2),\n",
       " ('dental', 2),\n",
       " ('bear', 2),\n",
       " ('claws', 2),\n",
       " ('working', 2),\n",
       " ('hours', 2),\n",
       " ('secret', 2),\n",
       " ('control', 2),\n",
       " ('yogurt', 2),\n",
       " ('waiting', 2),\n",
       " ('round', 2),\n",
       " ('corner', 2),\n",
       " ('could', 2),\n",
       " ('barber', 2),\n",
       " ('went', 2),\n",
       " ('catch', 2),\n",
       " ('sounds', 2),\n",
       " ('free', 2),\n",
       " ('badly', 2),\n",
       " ('thinking', 2),\n",
       " ('jackpot', 2),\n",
       " ('seen', 2),\n",
       " ('watch', 2),\n",
       " ('head', 2),\n",
       " ('having', 2),\n",
       " ('hands', 2),\n",
       " ('ya', 2),\n",
       " ('came', 2),\n",
       " ('laughing', 2),\n",
       " ('counter', 2),\n",
       " ('scared', 2),\n",
       " ('quick', 2),\n",
       " ('discuss', 2),\n",
       " ('gentlemen', 2),\n",
       " ('trouble', 2),\n",
       " ('will', 2),\n",
       " ('hang', 2),\n",
       " ('super', 2),\n",
       " ('bowl', 2),\n",
       " ('yard', 2),\n",
       " ('bedroom', 2),\n",
       " ('whatley', 2),\n",
       " ('bills', 2),\n",
       " ('streak', 2),\n",
       " ('gives', 2),\n",
       " ('labels', 2),\n",
       " ('unbelievable', 2),\n",
       " ('sobbing', 2),\n",
       " ('awful', 2),\n",
       " ('somebody', 2),\n",
       " ('anymore', 2),\n",
       " ('waste', 2),\n",
       " ('weak', 2),\n",
       " ('took', 2),\n",
       " ('dogs', 2),\n",
       " ('type', 2),\n",
       " ('useless', 2),\n",
       " ('beast', 2),\n",
       " ('bother', 2),\n",
       " ('knew', 2),\n",
       " ('drive', 2),\n",
       " ('worry', 2),\n",
       " ('place', 2),\n",
       " ('jambalaya', 2),\n",
       " ('nazi', 2),\n",
       " ('recipes', 2),\n",
       " ('towels', 2),\n",
       " ('bicycle', 2),\n",
       " ('owner', 2),\n",
       " ('as', 2),\n",
       " ('savages', 2),\n",
       " ('parcels', 2),\n",
       " ('decision', 2),\n",
       " ('hand', 2),\n",
       " ('ahh', 2),\n",
       " ('questions', 2),\n",
       " ('cut', 2),\n",
       " ('half', 2),\n",
       " ('fast', 2),\n",
       " ('heavy', 2),\n",
       " ('excuse', 2),\n",
       " ('private', 2),\n",
       " ('coffee', 2),\n",
       " ('market', 2),\n",
       " ('perfectly', 2),\n",
       " ('building', 2),\n",
       " ('soda', 2),\n",
       " ('week', 2),\n",
       " ('mr.', 2),\n",
       " ('bit', 2),\n",
       " ('exactly', 2),\n",
       " ('thank', 2),\n",
       " ('bottle', 2),\n",
       " ('label', 2),\n",
       " ('wait', 2),\n",
       " ('missing', 2),\n",
       " ('listen', 2),\n",
       " ('bags', 2),\n",
       " ('collecting', 2),\n",
       " ('budget', 2),\n",
       " ('deposit', 2),\n",
       " ('planning', 2),\n",
       " ('pie', 2),\n",
       " ('sorry', 2),\n",
       " ('outta', 2),\n",
       " ('cider', 2),\n",
       " ('reluctant', 2),\n",
       " ('trips', 2),\n",
       " ('perfect', 2),\n",
       " ('angel', 2),\n",
       " ('heart', 2),\n",
       " ('jerry.you', 2),\n",
       " ('blast', 2),\n",
       " ('goes', 2),\n",
       " ('smell', 2),\n",
       " ('pantene', 2),\n",
       " ('lap', 2),\n",
       " ('water', 2),\n",
       " ('gorgeous', 2),\n",
       " ('hardly', 2),\n",
       " ('monster', 2),\n",
       " ('broccoli', 2),\n",
       " ('deliver', 2),\n",
       " ('handle', 2),\n",
       " ('8', 2),\n",
       " ('uniform', 2),\n",
       " ('..', 2),\n",
       " ('mailman', 2),\n",
       " ('realizing', 2),\n",
       " ('sings', 2),\n",
       " ('twice', 2),\n",
       " ('three', 2),\n",
       " ('aaagh', 2),\n",
       " ('smug', 2),\n",
       " ('fact', 2),\n",
       " ('silly', 2),\n",
       " ('--', 2),\n",
       " ('ok', 2),\n",
       " ('world', 2),\n",
       " ('certified', 2),\n",
       " ('registered', 2),\n",
       " ('invitation', 2),\n",
       " ('silvio', 2),\n",
       " ('alas', 2),\n",
       " ('pace', 2),\n",
       " ('chop', 2),\n",
       " ('watching', 2),\n",
       " ('roof', 1),\n",
       " ('goin', 1),\n",
       " ('movie.i', 1),\n",
       " ('fruit', 1),\n",
       " ('incontinent.hello', 1),\n",
       " ('gina', 1),\n",
       " ('jerry.he', 1),\n",
       " ('buy', 1),\n",
       " ('carpet', 1),\n",
       " ('sweeper', 1),\n",
       " ('use.it', 1),\n",
       " ('clean.well', 1),\n",
       " ('then.hello', 1),\n",
       " ('stays', 1),\n",
       " ('wakes', 1),\n",
       " ('up.no', 1),\n",
       " ('reason.ill', 1),\n",
       " ('date.oh', 1),\n",
       " ('up.well', 1),\n",
       " ('earn.i', 1),\n",
       " ('beach', 1),\n",
       " ('freckle', 1),\n",
       " ('..wow', 1),\n",
       " ('thats', 1),\n",
       " ('size.can', 1),\n",
       " ('wont', 1),\n",
       " ('anything.i', 1),\n",
       " ('swear.on', 1),\n",
       " ('mothers', 1),\n",
       " ('life.oooh', 1),\n",
       " ('ill', 1),\n",
       " ('tell.he', 1),\n",
       " ('bed', 1),\n",
       " ('martin', 1),\n",
       " ('you.it', 1),\n",
       " ('disgusting', 1),\n",
       " ('keith', 1),\n",
       " ('despise', 1),\n",
       " ('him.why', 1),\n",
       " ('..all', 1),\n",
       " ('it.june', 1),\n",
       " ('14', 1),\n",
       " ('field', 1),\n",
       " ('crucial', 1),\n",
       " ('ninth', 1),\n",
       " ('game.a', 1),\n",
       " ('deep', 1),\n",
       " ('profound', 1),\n",
       " ('forward.then', 1),\n",
       " ('ricochet', 1),\n",
       " ('happened.i', 1),\n",
       " ('leavin', 1),\n",
       " ('nut', 1),\n",
       " ('june', 1),\n",
       " ('14th', 1),\n",
       " ('parking', 1),\n",
       " ('ramp.and', 1),\n",
       " ('us.oh', 1),\n",
       " ('right.wow', 1),\n",
       " ('mcdowell.he', 1),\n",
       " ('caught', 1),\n",
       " ('glimpse', 1),\n",
       " ('poured', 1),\n",
       " ('beer', 1),\n",
       " ('head.it', 1),\n",
       " ('mcdowell.yeah', 1),\n",
       " ('sorrier', 1),\n",
       " ('uh.me', 1),\n",
       " ('too.never.who', 1),\n",
       " ('suppose', 1),\n",
       " ('lengths.hey', 1),\n",
       " ('hat.can', 1),\n",
       " ('would.come', 1),\n",
       " ('on.stop', 1),\n",
       " ('defending', 1),\n",
       " ('parking.me', 1),\n",
       " ('either.but', 1),\n",
       " ('house.you', 1),\n",
       " ('coy', 1),\n",
       " ('coy.alright', 1),\n",
       " ('witnesses.george', 1),\n",
       " ('ticked', 1),\n",
       " ('about', 1),\n",
       " ('rap.yeah', 1),\n",
       " ('you.you', 1),\n",
       " ('split', 1),\n",
       " ('coast', 1),\n",
       " ('la-la', 1),\n",
       " ('land', 1),\n",
       " ('l.a.kramer.come', 1),\n",
       " ('detector.we', 1),\n",
       " ('making', 1),\n",
       " ('trade', 1),\n",
       " ('motorcycle', 1),\n",
       " ('detector.well', 1),\n",
       " ('wild.nevertheless', 1),\n",
       " ('anything.we', 1),\n",
       " ('renege.well', 1),\n",
       " ('reneging.all', 1),\n",
       " ('buddy', 1),\n",
       " ('driving', 1),\n",
       " ('palisades', 1),\n",
       " ('parkway', 1),\n",
       " ('looked', 1),\n",
       " ('rear', 1),\n",
       " ('view', 1),\n",
       " ('mirror', 1),\n",
       " ('fuzz', 1),\n",
       " ('funny', 1),\n",
       " ('strange', 1),\n",
       " ('detects', 1),\n",
       " ('series', 1),\n",
       " ('beeps', 1),\n",
       " ('flashing', 1),\n",
       " ('sound', 1),\n",
       " ('police', 1),\n",
       " ('siren.i', 1),\n",
       " ('me', 1),\n",
       " ('ticket.you', 1),\n",
       " ('defective', 1),\n",
       " ('karma', 1),\n",
       " ('kramer.and', 1),\n",
       " ('talked', 1),\n",
       " ('ago.the', 1),\n",
       " ('contesting', 1),\n",
       " ('today.you', 1),\n",
       " ('you-you', 1),\n",
       " ('alibi', 1),\n",
       " ('stand.well', 1),\n",
       " ('remind', 1),\n",
       " ('cease', 1),\n",
       " ('exist', 1),\n",
       " ('eternity', 1),\n",
       " ('comprehend', 1),\n",
       " ('set', 1),\n",
       " ('cop', 1),\n",
       " ('rushing', 1),\n",
       " ('suicide.now', 1),\n",
       " ('firend', 1),\n",
       " ('suicide.no', 1),\n",
       " ('night', 1),\n",
       " ('myself.no', 1),\n",
       " ('else.banker', 1),\n",
       " ('killing', 1),\n",
       " ('dreams', 1),\n",
       " ('unfulfilled', 1),\n",
       " ('you-you-you-you', 1),\n",
       " ('banker.i', 1),\n",
       " ('westchester', 1),\n",
       " ('tuesday', 1),\n",
       " ('charity', 1),\n",
       " ('spare', 1),\n",
       " ('lighthouse', 1),\n",
       " ('parcheesi', 1),\n",
       " ('excused', 1),\n",
       " ('lifelong', 1),\n",
       " ('manufacturer', 1),\n",
       " ('hanover', 1),\n",
       " ('lexington', 1),\n",
       " ('40th', 1),\n",
       " ('was-i', 1),\n",
       " ('concerned', 1),\n",
       " ('barely', 1),\n",
       " ('audible', 1),\n",
       " ('distinctly', 1),\n",
       " ('sped', 1),\n",
       " ('innocent', 1),\n",
       " ('loved', 1),\n",
       " ('banker.no', 1),\n",
       " ('thge', 1),\n",
       " ('grace', 1),\n",
       " ('courtroom', 1),\n",
       " ('interrogating', 1),\n",
       " ('testimony', 1),\n",
       " ('far', 1),\n",
       " ('court', 1),\n",
       " ('mean.and', 1),\n",
       " ('ahead.okay.and', 1),\n",
       " ('failure', 1),\n",
       " ('eating-eating-eating', 1),\n",
       " ('inside.it', 1),\n",
       " ('banking', 1),\n",
       " ('trying', 1),\n",
       " ('establish', 1),\n",
       " ('fragile', 1),\n",
       " ('emotional', 1),\n",
       " ('entire', 1),\n",
       " ('depends', 1),\n",
       " ('it.as', 1),\n",
       " ('saying', 1),\n",
       " ('parents', 1),\n",
       " ('banking.but', 1),\n",
       " ('fail', 1),\n",
       " ('hated', 1),\n",
       " ('father', 1),\n",
       " ('displease', 1),\n",
       " ('yuh', 1),\n",
       " ('intend', 1),\n",
       " ('received', 1),\n",
       " ('obviously', 1),\n",
       " ('distraught', 1),\n",
       " ('shut', 1),\n",
       " ('judge', 1),\n",
       " ('demand', 1),\n",
       " ('recess', 1),\n",
       " ('regain', 1),\n",
       " ('hius', 1),\n",
       " ('composure', 1),\n",
       " ('strangling', 1),\n",
       " ('rocker.crazy', 1),\n",
       " ('joe', 1),\n",
       " ('davola', 1),\n",
       " ('pilot', 1),\n",
       " ('sixty', 1),\n",
       " ('yeah.deh', 1),\n",
       " (\"o'clock\", 1),\n",
       " ('fight', 1),\n",
       " ('witnesses.okay', 1),\n",
       " ('nipple', 1),\n",
       " ('showing.anything', 1),\n",
       " ('later.kramer', 1),\n",
       " ('ron', 1),\n",
       " ('bleeker', 1),\n",
       " ('used', 1),\n",
       " ('united', 1),\n",
       " ('states', 1),\n",
       " ('worker.sometimes', 1),\n",
       " ('let-up', 1),\n",
       " ('relentless', 1),\n",
       " ('piles', 1),\n",
       " ('bar', 1),\n",
       " ('code', 1),\n",
       " ('breaks', 1),\n",
       " ('*publisher', 1),\n",
       " ('clearing', 1),\n",
       " ('house*', 1),\n",
       " ('those', 1),\n",
       " ('gyppin', 1),\n",
       " ('cult.i', 1),\n",
       " ('it.alright', 1),\n",
       " ('*jack*', 1),\n",
       " ('five', 1),\n",
       " ('*five*', 1),\n",
       " ('dollars.that', 1),\n",
       " ('total', 1),\n",
       " ('squares', 1),\n",
       " ('ear', 1),\n",
       " ('coot', 1),\n",
       " ('sittin', 1),\n",
       " ('mountain', 1),\n",
       " ('gold', 1),\n",
       " ('twenty', 1),\n",
       " ('crap.a', 1),\n",
       " ('crap.i', 1),\n",
       " ('extremely', 1),\n",
       " ('ugly.you', 1),\n",
       " ('emit', 1),\n",
       " ('foul', 1),\n",
       " ('unpleasant', 1),\n",
       " ('odour.i', 1),\n",
       " ('*loathe*', 1),\n",
       " ('you.make', 1),\n",
       " ('real', 1),\n",
       " ('melee.hey', 1),\n",
       " ('news', 1),\n",
       " ('south', 1),\n",
       " ('america', 1),\n",
       " ('snow', 1),\n",
       " ('blower', 1),\n",
       " ('mixed', 1),\n",
       " ('something.it', 1),\n",
       " ('thursday.tuesday', 1),\n",
       " ('monday', 1),\n",
       " ('friday', 1),\n",
       " ('sunday', 1),\n",
       " ('.hey', 1),\n",
       " ('fun.yeah', 1),\n",
       " ('too.hey', 1),\n",
       " ('who', 1),\n",
       " ('leader', 1),\n",
       " ('alright.i', 1),\n",
       " ('shoulda', 1),\n",
       " ('tape.i', 1),\n",
       " ('wanna.no.why', 1),\n",
       " ('tape', 1),\n",
       " ('tape.will', 1),\n",
       " ('anyway.it', 1),\n",
       " (\"pleasure.see'ya\", 1),\n",
       " ('later.after', 1),\n",
       " ('you.pair', 1),\n",
       " ('please.hey', 1),\n",
       " ('lip', 1),\n",
       " ('day.but', 1),\n",
       " ('supervisor', 1),\n",
       " ('glass', 1),\n",
       " ('two', 1),\n",
       " ('sinister', 1),\n",
       " ('information.well', 1),\n",
       " ('granny', 1),\n",
       " ('sent', 1),\n",
       " ('line', 1),\n",
       " ('non-fat', 1),\n",
       " ('finally', 1),\n",
       " ('strawberry', 1),\n",
       " ('friends', 1),\n",
       " ('shop', 1),\n",
       " ('happy.i', 1),\n",
       " ('interfere', 1),\n",
       " ('count', 1),\n",
       " ('this.once', 1),\n",
       " ('stick', 1),\n",
       " ('school', 1),\n",
       " ('felt', 1),\n",
       " ('talent', 1),\n",
       " ('it.yeah', 1),\n",
       " ('raised', 1),\n",
       " ('special.it', 1),\n",
       " ('crooked.what', 1),\n",
       " ('job', 1),\n",
       " ('haircuts', 1),\n",
       " ('comb.it', 1),\n",
       " ('bathroom', 1),\n",
       " ('toilet', 1),\n",
       " ('clogged.no.he', 1),\n",
       " ('out.yes', 1),\n",
       " ('may', 1),\n",
       " ('cause', 1),\n",
       " ('comb', 1),\n",
       " ('brush', 1),\n",
       " ('brush.yeah', 1),\n",
       " ('yeah.what', 1),\n",
       " ('cuz', 1),\n",
       " ('favorite', 1),\n",
       " ('movie.no', 1),\n",
       " ('no.', 1),\n",
       " ('gee', 1),\n",
       " ('dropped', 1),\n",
       " ('nickel', 1),\n",
       " ('reaches', 1),\n",
       " ('picks', 1),\n",
       " ('cinch', 1),\n",
       " ('bald', 1),\n",
       " ('while.hello', 1),\n",
       " ('mrs.', 1),\n",
       " ('seinfelduh', 1),\n",
       " ('closing', 1),\n",
       " ('trip', 1),\n",
       " ('grabs', 1),\n",
       " ('junior', 1),\n",
       " ('mint', 1),\n",
       " ('smells', 1),\n",
       " ('puts', 1),\n",
       " ('pocket', 1),\n",
       " ('theater', 1),\n",
       " ('wondering.why', 1),\n",
       " ('schindler', 1),\n",
       " ('list', 1),\n",
       " ('jerry.oh', 1),\n",
       " ('go.well', 1),\n",
       " ('mean.him', 1),\n",
       " ('buxom', 1),\n",
       " ('rachel', 1),\n",
       " ('balcony.what', 1),\n",
       " ('spell', 1),\n",
       " ('storm-troopers', 1),\n",
       " ('poland.yes', 1),\n",
       " ('offensive', 1),\n",
       " ('spectacle', 1),\n",
       " ('anyway', 1),\n",
       " ('detergent', 1),\n",
       " ('ho', 1),\n",
       " ('folks', 1),\n",
       " ('tata', 1),\n",
       " ('runs', 1),\n",
       " ('hallway', 1),\n",
       " ('pair', 1),\n",
       " ('closer', 1),\n",
       " ('jerry.ohh', 1),\n",
       " ('looking', 1),\n",
       " ('i-it', 1),\n",
       " ('powerful', 1),\n",
       " ('film', 1),\n",
       " ('breaths', 1),\n",
       " ('shocking', 1),\n",
       " ('running', 1),\n",
       " ('that.well', 1),\n",
       " ('tootle', 1),\n",
       " ('loo', 1),\n",
       " ('margaret', 1),\n",
       " ('goodbye', 1),\n",
       " ('have', 1),\n",
       " ('fun', 1),\n",
       " ('hehewho', 1),\n",
       " ('it.you', 1),\n",
       " ('hellooo', 1),\n",
       " ('rare', 1),\n",
       " ('treat', 1),\n",
       " ('brings', 1),\n",
       " ('east', 1),\n",
       " ('wing', 1),\n",
       " ('type.not', 1),\n",
       " ('really.ah', 1),\n",
       " ('h', 1),\n",
       " ('ha-', 1),\n",
       " ('matters.no', 1),\n",
       " ('me.care', 1),\n",
       " ('lemonade', 1),\n",
       " ('drop', 1),\n",
       " ('bye', 1),\n",
       " ('anytime', 1),\n",
       " ('hah', 1),\n",
       " ('hahi', 1),\n",
       " ('babsminding', 1),\n",
       " ('business.what', 1),\n",
       " ('finding', 1),\n",
       " ('cigarette', 1),\n",
       " ('din', 1),\n",
       " ('cosmo', 1),\n",
       " ('work.i', 1),\n",
       " ('me.do', 1),\n",
       " ('me.hello', 1),\n",
       " ('squeezing', 1),\n",
       " ('narrow', 1),\n",
       " ('space', 1),\n",
       " ('nothing', 1),\n",
       " ('neighborly', 1),\n",
       " ('shoot', 1),\n",
       " ('breeze', 1),\n",
       " ('insulted', 1),\n",
       " ('leaving', 1),\n",
       " ('closely', 1),\n",
       " ('waving', 1),\n",
       " ('camera', 1),\n",
       " ('seat', 1),\n",
       " ('line.yes', 1),\n",
       " ('tickets', 1),\n",
       " ('me.tim', 1),\n",
       " ('whatley.is', 1),\n",
       " ('ohhh', 1),\n",
       " ('known', 1),\n",
       " ('directly', 1),\n",
       " ('fleeing', 1),\n",
       " ('electric', 1),\n",
       " ('suddenly', 1),\n",
       " ('impound', 1),\n",
       " ('noise.i', 1),\n",
       " ('beaten', 1),\n",
       " ('armies', 1),\n",
       " ('ukraine.hello', 1),\n",
       " ('wonderful', 1),\n",
       " ('luck', 1),\n",
       " ('first', 1),\n",
       " ('risk', 1),\n",
       " ('narrowly', 1),\n",
       " ('escaped', 1),\n",
       " ('ticket.and', 1),\n",
       " ('boxes', 1),\n",
       " ('freebies', 1),\n",
       " ('mini-tv', 1),\n",
       " ('vcr', 1),\n",
       " ('surprised', 1),\n",
       " ('defensive', 1),\n",
       " ('pleading', 1),\n",
       " ('pleasant', 1),\n",
       " ('surprise.fleas', 1),\n",
       " ('bwa', 1),\n",
       " ('.that', 1),\n",
       " ('preposterous', 1),\n",
       " ('house', 1),\n",
       " ('disrepair', 1),\n",
       " ('squalor', 1),\n",
       " ('torture', 1),\n",
       " ('baaaaaaaaarrhhhhhhhhhhh', 1),\n",
       " ('.i', 1),\n",
       " ('ripped', 1),\n",
       " ('scratches', 1),\n",
       " ('furiously', 1),\n",
       " ('resumes', 1),\n",
       " ('shame.you', 1),\n",
       " ('taste', 1),\n",
       " ('me.sorry', 1),\n",
       " ('suck', 1),\n",
       " ('pit', 1),\n",
       " ('gambling', 1),\n",
       " ('airport', 1),\n",
       " ('kinda', 1),\n",
       " ('dough.oh', 1),\n",
       " ('bag', 1),\n",
       " ('right.kramer.okay', 1),\n",
       " ('is.so', 1),\n",
       " ('mailbag', 1),\n",
       " ('son', 1),\n",
       " ('sam', 1),\n",
       " ('worst', 1),\n",
       " ('mass', 1),\n",
       " ('murderer', 1),\n",
       " ('produced.i', 1),\n",
       " ('route.just', 1),\n",
       " ('snacks', 1),\n",
       " ('lack', 1),\n",
       " ('confidence', 1),\n",
       " ('obviously.what', 1),\n",
       " ('dog', 1),\n",
       " ('bet', 1),\n",
       " ('mutt', 1),\n",
       " ('mongrel', 1),\n",
       " ...]"
      ]
     },
     "execution_count": 422,
     "metadata": {},
     "output_type": "execute_result"
    }
   ],
   "source": [
    "newmanwords=dict(Counter(newman))\n",
    "[(k, newmanwords[k]) for k in sorted(newmanwords, key=newmanwords.get, reverse=True)]"
   ]
  },
  {
   "cell_type": "code",
   "execution_count": 363,
   "metadata": {},
   "outputs": [
    {
     "data": {
      "image/png": "[encoded data removed]",
      "text/plain": [
       "<Figure size 432x288 with 2 Axes>"
      ]
     },
     "metadata": {},
     "output_type": "display_data"
    }
   ],
   "source": [
    "sns.heatmap(confusion_matrix(y_test, predict),annot=True)\n",
    "ax.set_yticklabels(confusion_matrix(y_test,predict))\n",
    "#plt.savefig('confusion_matrix_1.png')\n",
    "plt.show()"
   ]
  },
  {
   "cell_type": "markdown",
   "metadata": {},
   "source": [
    "main_characters['words_spoken']=main_characters[\"Dialogues\"].apply(lambda x: len(x))"
   ]
  },
  {
   "cell_type": "code",
   "execution_count": 364,
   "metadata": {
    "scrolled": true
   },
   "outputs": [
    {
     "data": {
      "image/png": "[encoded data removed]",
      "text/plain": [
       "<Figure size 432x288 with 1 Axes>"
      ]
     },
     "metadata": {},
     "output_type": "display_data"
    },
    {
     "data": {
      "text/plain": [
       "<Figure size 432x288 with 0 Axes>"
      ]
     },
     "metadata": {},
     "output_type": "display_data"
    }
   ],
   "source": [
    "plt.show(sns.barplot(y=\"words_spoken\",x=\"Character\",data=main_characters))\n",
    "plt.savefig('character_word_count.png')"
   ]
  },
  {
   "cell_type": "code",
   "execution_count": 378,
   "metadata": {},
   "outputs": [],
   "source": [
    "def column_count(dataframe ,column):\n",
    "    count=[]\n",
    "    column_types= [i for i in column.unique()] \n",
    "    for c in column_types: \n",
    "        count.append((c, len(dataframe[column==c])))    \n",
    "    return dict(count)"
   ]
  },
  {
   "cell_type": "code",
   "execution_count": 382,
   "metadata": {},
   "outputs": [
    {
     "ename": "AttributeError",
     "evalue": "'list' object has no attribute 'unique'",
     "output_type": "error",
     "traceback": [
      "\u001b[0;31m---------------------------------------------------------------------------\u001b[0m",
      "\u001b[0;31mAttributeError\u001b[0m                            Traceback (most recent call last)",
      "\u001b[0;32m<ipython-input-382-ded208291ef2>\u001b[0m in \u001b[0;36m<module>\u001b[0;34m()\u001b[0m\n\u001b[0;32m----> 1\u001b[0;31m \u001b[0mcolumn_count\u001b[0m\u001b[0;34m(\u001b[0m\u001b[0mmain_characters\u001b[0m \u001b[0;34m,\u001b[0m\u001b[0mmain_characters\u001b[0m\u001b[0;34m[\u001b[0m\u001b[0;34m\"Dialogues\"\u001b[0m\u001b[0;34m]\u001b[0m\u001b[0;34m[\u001b[0m\u001b[0;36m0\u001b[0m\u001b[0;34m]\u001b[0m\u001b[0;34m)\u001b[0m\u001b[0;34m\u001b[0m\u001b[0m\n\u001b[0m",
      "\u001b[0;32m<ipython-input-378-fa909880dab1>\u001b[0m in \u001b[0;36mcolumn_count\u001b[0;34m(dataframe, column)\u001b[0m\n\u001b[1;32m      1\u001b[0m \u001b[0;32mdef\u001b[0m \u001b[0mcolumn_count\u001b[0m\u001b[0;34m(\u001b[0m\u001b[0mdataframe\u001b[0m \u001b[0;34m,\u001b[0m\u001b[0mcolumn\u001b[0m\u001b[0;34m)\u001b[0m\u001b[0;34m:\u001b[0m\u001b[0;34m\u001b[0m\u001b[0m\n\u001b[1;32m      2\u001b[0m     \u001b[0mcount\u001b[0m\u001b[0;34m=\u001b[0m\u001b[0;34m[\u001b[0m\u001b[0;34m]\u001b[0m\u001b[0;34m\u001b[0m\u001b[0m\n\u001b[0;32m----> 3\u001b[0;31m     \u001b[0mcolumn_types\u001b[0m\u001b[0;34m=\u001b[0m \u001b[0;34m[\u001b[0m\u001b[0mi\u001b[0m \u001b[0;32mfor\u001b[0m \u001b[0mi\u001b[0m \u001b[0;32min\u001b[0m \u001b[0mcolumn\u001b[0m\u001b[0;34m.\u001b[0m\u001b[0munique\u001b[0m\u001b[0;34m(\u001b[0m\u001b[0;34m)\u001b[0m\u001b[0;34m]\u001b[0m\u001b[0;34m\u001b[0m\u001b[0m\n\u001b[0m\u001b[1;32m      4\u001b[0m     \u001b[0;32mfor\u001b[0m \u001b[0mc\u001b[0m \u001b[0;32min\u001b[0m \u001b[0mcolumn_types\u001b[0m\u001b[0;34m:\u001b[0m\u001b[0;34m\u001b[0m\u001b[0m\n\u001b[1;32m      5\u001b[0m         \u001b[0mcount\u001b[0m\u001b[0;34m.\u001b[0m\u001b[0mappend\u001b[0m\u001b[0;34m(\u001b[0m\u001b[0;34m(\u001b[0m\u001b[0mc\u001b[0m\u001b[0;34m,\u001b[0m \u001b[0mlen\u001b[0m\u001b[0;34m(\u001b[0m\u001b[0mdataframe\u001b[0m\u001b[0;34m[\u001b[0m\u001b[0mcolumn\u001b[0m\u001b[0;34m==\u001b[0m\u001b[0mc\u001b[0m\u001b[0;34m]\u001b[0m\u001b[0;34m)\u001b[0m\u001b[0;34m)\u001b[0m\u001b[0;34m)\u001b[0m\u001b[0;34m\u001b[0m\u001b[0m\n",
      "\u001b[0;31mAttributeError\u001b[0m: 'list' object has no attribute 'unique'"
     ]
    }
   ],
   "source": [
    "column_count(main_characters ,main_characters[\"Dialogues\"][0]) "
   ]
  },
  {
   "cell_type": "code",
   "execution_count": 264,
   "metadata": {},
   "outputs": [
    {
     "data": {
      "text/html": [
       "<div>\n",
       "<style scoped>\n",
       "    .dataframe tbody tr th:only-of-type {\n",
       "        vertical-align: middle;\n",
       "    }\n",
       "\n",
       "    .dataframe tbody tr th {\n",
       "        vertical-align: top;\n",
       "    }\n",
       "\n",
       "    .dataframe thead th {\n",
       "        text-align: right;\n",
       "    }\n",
       "</style>\n",
       "<table border=\"1\" class=\"dataframe\">\n",
       "  <thead>\n",
       "    <tr style=\"text-align: right;\">\n",
       "      <th></th>\n",
       "      <th>Unnamed: 0</th>\n",
       "      <th>Character</th>\n",
       "      <th>Dialogue</th>\n",
       "      <th>EpisodeNo</th>\n",
       "      <th>SEID</th>\n",
       "      <th>Season</th>\n",
       "    </tr>\n",
       "  </thead>\n",
       "  <tbody>\n",
       "    <tr>\n",
       "      <th>2</th>\n",
       "      <td>2</td>\n",
       "      <td>GEORGE</td>\n",
       "      <td>Are you through?</td>\n",
       "      <td>1.0</td>\n",
       "      <td>S01E01</td>\n",
       "      <td>1.0</td>\n",
       "    </tr>\n",
       "    <tr>\n",
       "      <th>4</th>\n",
       "      <td>4</td>\n",
       "      <td>GEORGE</td>\n",
       "      <td>Yes, it was purple, I liked it, I dont actuall...</td>\n",
       "      <td>1.0</td>\n",
       "      <td>S01E01</td>\n",
       "      <td>1.0</td>\n",
       "    </tr>\n",
       "    <tr>\n",
       "      <th>6</th>\n",
       "      <td>6</td>\n",
       "      <td>GEORGE</td>\n",
       "      <td>(on an imaginary microphone) Uh, no, not at th...</td>\n",
       "      <td>1.0</td>\n",
       "      <td>S01E01</td>\n",
       "      <td>1.0</td>\n",
       "    </tr>\n",
       "    <tr>\n",
       "      <th>9</th>\n",
       "      <td>9</td>\n",
       "      <td>GEORGE</td>\n",
       "      <td>Are, are you sure this is decaf? Wheres the or...</td>\n",
       "      <td>1.0</td>\n",
       "      <td>S01E01</td>\n",
       "      <td>1.0</td>\n",
       "    </tr>\n",
       "    <tr>\n",
       "      <th>13</th>\n",
       "      <td>13</td>\n",
       "      <td>GEORGE</td>\n",
       "      <td>How come youre not doin the second show tomorrow?</td>\n",
       "      <td>1.0</td>\n",
       "      <td>S01E01</td>\n",
       "      <td>1.0</td>\n",
       "    </tr>\n",
       "  </tbody>\n",
       "</table>\n",
       "</div>"
      ],
      "text/plain": [
       "    Unnamed: 0 Character                                           Dialogue  \\\n",
       "2            2    GEORGE                                   Are you through?   \n",
       "4            4    GEORGE  Yes, it was purple, I liked it, I dont actuall...   \n",
       "6            6    GEORGE  (on an imaginary microphone) Uh, no, not at th...   \n",
       "9            9    GEORGE  Are, are you sure this is decaf? Wheres the or...   \n",
       "13          13    GEORGE  How come youre not doin the second show tomorrow?   \n",
       "\n",
       "    EpisodeNo    SEID  Season  \n",
       "2         1.0  S01E01     1.0  \n",
       "4         1.0  S01E01     1.0  \n",
       "6         1.0  S01E01     1.0  \n",
       "9         1.0  S01E01     1.0  \n",
       "13        1.0  S01E01     1.0  "
      ]
     },
     "execution_count": 264,
     "metadata": {},
     "output_type": "execute_result"
    }
   ],
   "source": [
    "dial_df = df[(df[\"Character\"]==\"ELAINE\") | (df[\"Character\"]==\"GEORGE\") | (df[\"Character\"]==\"KRAMER\") | (df[\"Character\"]==\"NEWMAN\")]\n",
    "dial_df.head()\n"
   ]
  },
  {
   "cell_type": "code",
   "execution_count": 265,
   "metadata": {},
   "outputs": [],
   "source": [
    "def text_process(dialogue):\n",
    "    nopunc=[word.lower() for word in dialogue if word not in stop_words]\n",
    "    nopunc=''.join(nopunc)\n",
    "    return [word for word in nopunc.split()]"
   ]
  },
  {
   "cell_type": "code",
   "execution_count": 377,
   "metadata": {},
   "outputs": [],
   "source": []
  },
  {
   "cell_type": "code",
   "execution_count": 268,
   "metadata": {},
   "outputs": [],
   "source": [
    "X = dial_df[\"Dialogue\"]\n",
    "y = dial_df[\"Character\"]"
   ]
  },
  {
   "cell_type": "code",
   "execution_count": 269,
   "metadata": {},
   "outputs": [
    {
     "name": "stdout",
     "output_type": "stream",
     "text": [
      "14466\n"
     ]
    }
   ],
   "source": [
    "from sklearn.feature_extraction.text import TfidfVectorizer\n",
    "vectorizer = TfidfVectorizer(analyzer=text_process).fit(X)\n",
    "print(len(vectorizer.vocabulary_))\n",
    "X = vectorizer.transform(X)"
   ]
  },
  {
   "cell_type": "code",
   "execution_count": 270,
   "metadata": {},
   "outputs": [],
   "source": [
    "# Splitting the data into train and test set\n",
    "from sklearn.model_selection import train_test_split\n",
    "X_train, X_test, y_train, y_test = train_test_split(X, y, test_size=0.1, random_state=101)"
   ]
  },
  {
   "cell_type": "code",
   "execution_count": 271,
   "metadata": {},
   "outputs": [],
   "source": [
    "from sklearn.naive_bayes import MultinomialNB as MNB\n",
    "from sklearn.linear_model import LogisticRegression as LR\n",
    "from sklearn.ensemble import RandomForestClassifier as RFC\n",
    "from sklearn.ensemble import VotingClassifier as VC\n",
    "mnb = MNB(alpha=10)\n",
    "lr = LR(random_state=101)\n",
    "rfc = RFC(n_estimators=80, criterion=\"entropy\", random_state=42, n_jobs=-1)\n",
    "clf = VC(estimators=[('mnb', mnb), ('lr', lr), ('rfc', rfc)], voting='hard')"
   ]
  },
  {
   "cell_type": "code",
   "execution_count": 272,
   "metadata": {},
   "outputs": [
    {
     "name": "stderr",
     "output_type": "stream",
     "text": [
      "/anaconda3/lib/python3.6/site-packages/sklearn/preprocessing/label.py:151: DeprecationWarning: The truth value of an empty array is ambiguous. Returning False, but in future this will result in an error. Use `array.size > 0` to check that an array is not empty.\n",
      "  if diff:\n"
     ]
    }
   ],
   "source": [
    "# Fitting and predicting\n",
    "clf.fit(X_train,y_train)\n",
    "predict = clf.predict(X_test)"
   ]
  },
  {
   "cell_type": "code",
   "execution_count": 273,
   "metadata": {
    "scrolled": false
   },
   "outputs": [
    {
     "name": "stdout",
     "output_type": "stream",
     "text": [
      "[[226 521  49   0]\n",
      " [129 773  61   0]\n",
      " [115 413 156   0]\n",
      " [ 12  39   6   0]]\n",
      "\n",
      "\n",
      "             precision    recall  f1-score   support\n",
      "\n",
      "     ELAINE       0.47      0.28      0.35       796\n",
      "     GEORGE       0.44      0.80      0.57       963\n",
      "     KRAMER       0.57      0.23      0.33       684\n",
      "     NEWMAN       0.00      0.00      0.00        57\n",
      "\n",
      "avg / total       0.48      0.46      0.42      2500\n",
      "\n"
     ]
    },
    {
     "name": "stderr",
     "output_type": "stream",
     "text": [
      "/anaconda3/lib/python3.6/site-packages/sklearn/metrics/classification.py:1135: UndefinedMetricWarning: Precision and F-score are ill-defined and being set to 0.0 in labels with no predicted samples.\n",
      "  'precision', 'predicted', average, warn_for)\n"
     ]
    }
   ],
   "source": [
    "from sklearn.metrics import confusion_matrix, classification_report\n",
    "print(confusion_matrix(y_test, predict))\n",
    "print('\\n')\n",
    "print(classification_report(y_test, predict))\n"
   ]
  },
  {
   "cell_type": "code",
   "execution_count": 211,
   "metadata": {},
   "outputs": [],
   "source": [
    "def predictor(s):\n",
    "    s = vectorizer.transform(s)\n",
    "    pre = clf.predict(s)\n",
    "    print(pre)"
   ]
  },
  {
   "cell_type": "code",
   "execution_count": 275,
   "metadata": {},
   "outputs": [
    {
     "name": "stdout",
     "output_type": "stream",
     "text": [
      "['GEORGE']\n"
     ]
    },
    {
     "name": "stderr",
     "output_type": "stream",
     "text": [
      "/anaconda3/lib/python3.6/site-packages/sklearn/preprocessing/label.py:151: DeprecationWarning: The truth value of an empty array is ambiguous. Returning False, but in future this will result in an error. Use `array.size > 0` to check that an array is not empty.\n",
      "  if diff:\n"
     ]
    }
   ],
   "source": [
    "#larry\n",
    "predictor(['You know who wears sunglasses inside? Blind people and assholes.'])"
   ]
  },
  {
   "cell_type": "code",
   "execution_count": 276,
   "metadata": {},
   "outputs": [
    {
     "name": "stdout",
     "output_type": "stream",
     "text": [
      "['GEORGE']\n"
     ]
    },
    {
     "name": "stderr",
     "output_type": "stream",
     "text": [
      "/anaconda3/lib/python3.6/site-packages/sklearn/preprocessing/label.py:151: DeprecationWarning: The truth value of an empty array is ambiguous. Returning False, but in future this will result in an error. Use `array.size > 0` to check that an array is not empty.\n",
      "  if diff:\n"
     ]
    }
   ],
   "source": [
    "#larry\n",
    "predictor([\"Do you respect wood?\"])"
   ]
  },
  {
   "cell_type": "code",
   "execution_count": 277,
   "metadata": {},
   "outputs": [
    {
     "name": "stdout",
     "output_type": "stream",
     "text": [
      "['GEORGE']\n"
     ]
    },
    {
     "name": "stderr",
     "output_type": "stream",
     "text": [
      "/anaconda3/lib/python3.6/site-packages/sklearn/preprocessing/label.py:151: DeprecationWarning: The truth value of an empty array is ambiguous. Returning False, but in future this will result in an error. Use `array.size > 0` to check that an array is not empty.\n",
      "  if diff:\n"
     ]
    }
   ],
   "source": [
    "#larry\n",
    "predictor(['Let’s go upstairs and all get under the covers and sob!'])"
   ]
  },
  {
   "cell_type": "code",
   "execution_count": 274,
   "metadata": {},
   "outputs": [
    {
     "name": "stdout",
     "output_type": "stream",
     "text": [
      "['KRAMER']\n"
     ]
    },
    {
     "name": "stderr",
     "output_type": "stream",
     "text": [
      "/anaconda3/lib/python3.6/site-packages/sklearn/preprocessing/label.py:151: DeprecationWarning: The truth value of an empty array is ambiguous. Returning False, but in future this will result in an error. Use `array.size > 0` to check that an array is not empty.\n",
      "  if diff:\n"
     ]
    }
   ],
   "source": [
    "#KRAMER\n",
    "predictor(['I\\'m on the Mexican, whoa oh oh, radio.'])"
   ]
  },
  {
   "cell_type": "code",
   "execution_count": 213,
   "metadata": {},
   "outputs": [
    {
     "name": "stdout",
     "output_type": "stream",
     "text": [
      "['GEORGE']\n"
     ]
    },
    {
     "name": "stderr",
     "output_type": "stream",
     "text": [
      "/anaconda3/lib/python3.6/site-packages/sklearn/preprocessing/label.py:151: DeprecationWarning: The truth value of an empty array is ambiguous. Returning False, but in future this will result in an error. Use `array.size > 0` to check that an array is not empty.\n",
      "  if diff:\n"
     ]
    }
   ],
   "source": [
    "predictor(['Do you have any idea how much time I waste in this apartment?'])"
   ]
  },
  {
   "cell_type": "code",
   "execution_count": 278,
   "metadata": {},
   "outputs": [
    {
     "name": "stdout",
     "output_type": "stream",
     "text": [
      "['GEORGE']\n"
     ]
    },
    {
     "name": "stderr",
     "output_type": "stream",
     "text": [
      "/anaconda3/lib/python3.6/site-packages/sklearn/preprocessing/label.py:151: DeprecationWarning: The truth value of an empty array is ambiguous. Returning False, but in future this will result in an error. Use `array.size > 0` to check that an array is not empty.\n",
      "  if diff:\n"
     ]
    }
   ],
   "source": [
    "#george\n",
    "predictor([\"Heh, haa. And that's no good. I've tried it straight, Jerry. We've all seen the results. For me, sick is the only way to go.\"])"
   ]
  },
  {
   "cell_type": "code",
   "execution_count": 280,
   "metadata": {
    "scrolled": true
   },
   "outputs": [
    {
     "name": "stdout",
     "output_type": "stream",
     "text": [
      "['GEORGE']\n"
     ]
    },
    {
     "name": "stderr",
     "output_type": "stream",
     "text": [
      "/anaconda3/lib/python3.6/site-packages/sklearn/preprocessing/label.py:151: DeprecationWarning: The truth value of an empty array is ambiguous. Returning False, but in future this will result in an error. Use `array.size > 0` to check that an array is not empty.\n",
      "  if diff:\n"
     ]
    }
   ],
   "source": [
    "#george\n",
    "predictor([\"Yep. Classic horseshoe pattern. I've seen a lot of this.\"])"
   ]
  },
  {
   "cell_type": "code",
   "execution_count": 279,
   "metadata": {},
   "outputs": [
    {
     "name": "stdout",
     "output_type": "stream",
     "text": [
      "['GEORGE']\n"
     ]
    },
    {
     "name": "stderr",
     "output_type": "stream",
     "text": [
      "/anaconda3/lib/python3.6/site-packages/sklearn/preprocessing/label.py:151: DeprecationWarning: The truth value of an empty array is ambiguous. Returning False, but in future this will result in an error. Use `array.size > 0` to check that an array is not empty.\n",
      "  if diff:\n"
     ]
    }
   ],
   "source": [
    "#george\n",
    "predictor([\"Well, anything I can do to help, um...she's a wonderful girl. Very smart. Very eh...crafty.\"])"
   ]
  },
  {
   "cell_type": "code",
   "execution_count": 215,
   "metadata": {},
   "outputs": [
    {
     "name": "stdout",
     "output_type": "stream",
     "text": [
      "['ELAINE']\n"
     ]
    },
    {
     "name": "stderr",
     "output_type": "stream",
     "text": [
      "/anaconda3/lib/python3.6/site-packages/sklearn/preprocessing/label.py:151: DeprecationWarning: The truth value of an empty array is ambiguous. Returning False, but in future this will result in an error. Use `array.size > 0` to check that an array is not empty.\n",
      "  if diff:\n"
     ]
    }
   ],
   "source": [
    "#elaine \n",
    "predictor([\"Jerry, I don't know how much longer I can keep this up. They're starting to give Susie assignments now!\"])"
   ]
  },
  {
   "cell_type": "code",
   "execution_count": 216,
   "metadata": {},
   "outputs": [
    {
     "name": "stdout",
     "output_type": "stream",
     "text": [
      "['GEORGE']\n"
     ]
    },
    {
     "name": "stderr",
     "output_type": "stream",
     "text": [
      "/anaconda3/lib/python3.6/site-packages/sklearn/preprocessing/label.py:151: DeprecationWarning: The truth value of an empty array is ambiguous. Returning False, but in future this will result in an error. Use `array.size > 0` to check that an array is not empty.\n",
      "  if diff:\n"
     ]
    }
   ],
   "source": [
    "#jerry \n",
    "predictor([\"I guess they leave that up to the general population\"])"
   ]
  },
  {
   "cell_type": "code",
   "execution_count": 218,
   "metadata": {},
   "outputs": [
    {
     "name": "stdout",
     "output_type": "stream",
     "text": [
      "['GEORGE']\n"
     ]
    },
    {
     "name": "stderr",
     "output_type": "stream",
     "text": [
      "/anaconda3/lib/python3.6/site-packages/sklearn/preprocessing/label.py:151: DeprecationWarning: The truth value of an empty array is ambiguous. Returning False, but in future this will result in an error. Use `array.size > 0` to check that an array is not empty.\n",
      "  if diff:\n"
     ]
    }
   ],
   "source": [
    "#jerry\n",
    "predictor([\"What's the difference? I agreed to wear it. It's - it's a puffy shirt. I feel ridiculous in it, and I think it's the stupidest shirt I've ever seen, to be perfectly honest with you. (Nodding)\"])"
   ]
  },
  {
   "cell_type": "code",
   "execution_count": 230,
   "metadata": {},
   "outputs": [
    {
     "data": {
      "text/html": [
       "<div>\n",
       "<style scoped>\n",
       "    .dataframe tbody tr th:only-of-type {\n",
       "        vertical-align: middle;\n",
       "    }\n",
       "\n",
       "    .dataframe tbody tr th {\n",
       "        vertical-align: top;\n",
       "    }\n",
       "\n",
       "    .dataframe thead th {\n",
       "        text-align: right;\n",
       "    }\n",
       "</style>\n",
       "<table border=\"1\" class=\"dataframe\">\n",
       "  <thead>\n",
       "    <tr style=\"text-align: right;\">\n",
       "      <th></th>\n",
       "      <th>Unnamed: 0</th>\n",
       "      <th>Character</th>\n",
       "      <th>Dialogue</th>\n",
       "      <th>EpisodeNo</th>\n",
       "      <th>SEID</th>\n",
       "      <th>Season</th>\n",
       "    </tr>\n",
       "  </thead>\n",
       "  <tbody>\n",
       "    <tr>\n",
       "      <th>0</th>\n",
       "      <td>0</td>\n",
       "      <td>JERRY</td>\n",
       "      <td>Do you know what this is all about? Do you kno...</td>\n",
       "      <td>1.0</td>\n",
       "      <td>S01E01</td>\n",
       "      <td>1.0</td>\n",
       "    </tr>\n",
       "    <tr>\n",
       "      <th>1</th>\n",
       "      <td>1</td>\n",
       "      <td>JERRY</td>\n",
       "      <td>(pointing at Georges shirt) See, to me, that b...</td>\n",
       "      <td>1.0</td>\n",
       "      <td>S01E01</td>\n",
       "      <td>1.0</td>\n",
       "    </tr>\n",
       "    <tr>\n",
       "      <th>2</th>\n",
       "      <td>2</td>\n",
       "      <td>GEORGE</td>\n",
       "      <td>Are you through?</td>\n",
       "      <td>1.0</td>\n",
       "      <td>S01E01</td>\n",
       "      <td>1.0</td>\n",
       "    </tr>\n",
       "    <tr>\n",
       "      <th>3</th>\n",
       "      <td>3</td>\n",
       "      <td>JERRY</td>\n",
       "      <td>You do of course try on, when you buy?</td>\n",
       "      <td>1.0</td>\n",
       "      <td>S01E01</td>\n",
       "      <td>1.0</td>\n",
       "    </tr>\n",
       "    <tr>\n",
       "      <th>4</th>\n",
       "      <td>4</td>\n",
       "      <td>GEORGE</td>\n",
       "      <td>Yes, it was purple, I liked it, I dont actuall...</td>\n",
       "      <td>1.0</td>\n",
       "      <td>S01E01</td>\n",
       "      <td>1.0</td>\n",
       "    </tr>\n",
       "  </tbody>\n",
       "</table>\n",
       "</div>"
      ],
      "text/plain": [
       "   Unnamed: 0 Character                                           Dialogue  \\\n",
       "0           0     JERRY  Do you know what this is all about? Do you kno...   \n",
       "1           1     JERRY  (pointing at Georges shirt) See, to me, that b...   \n",
       "2           2    GEORGE                                   Are you through?   \n",
       "3           3     JERRY             You do of course try on, when you buy?   \n",
       "4           4    GEORGE  Yes, it was purple, I liked it, I dont actuall...   \n",
       "\n",
       "   EpisodeNo    SEID  Season  \n",
       "0        1.0  S01E01     1.0  \n",
       "1        1.0  S01E01     1.0  \n",
       "2        1.0  S01E01     1.0  \n",
       "3        1.0  S01E01     1.0  \n",
       "4        1.0  S01E01     1.0  "
      ]
     },
     "execution_count": 230,
     "metadata": {},
     "output_type": "execute_result"
    }
   ],
   "source": [
    "dial_df_1.head()"
   ]
  },
  {
   "cell_type": "code",
   "execution_count": 246,
   "metadata": {},
   "outputs": [],
   "source": [
    "X = dial_df_1[\"Dialogue\"]\n",
    "y = dial_df_1[\"Character\"]"
   ]
  },
  {
   "cell_type": "code",
   "execution_count": 247,
   "metadata": {},
   "outputs": [],
   "source": [
    "vectorizer = TfidfVectorizer(analyzer=text_process).fit(X)\n",
    "X = vectorizer.transform(X)"
   ]
  },
  {
   "cell_type": "code",
   "execution_count": 248,
   "metadata": {},
   "outputs": [
    {
     "name": "stderr",
     "output_type": "stream",
     "text": [
      "/anaconda3/lib/python3.6/site-packages/sklearn/preprocessing/label.py:151: DeprecationWarning: The truth value of an empty array is ambiguous. Returning False, but in future this will result in an error. Use `array.size > 0` to check that an array is not empty.\n",
      "  if diff:\n"
     ]
    }
   ],
   "source": [
    "X_train, X_test, y_train, y_test = train_test_split(X, y, test_size=0.1, random_state=101)\n",
    "mnb = MNB(alpha=10)\n",
    "lr = LR(random_state=101)\n",
    "rfc = RFC(n_estimators=80, criterion=\"entropy\", random_state=42, n_jobs=-1)\n",
    "clf = VC(estimators=[('mnb', mnb), ('lr', lr), ('rfc', rfc)], voting='hard')\n",
    "clf.fit(X_train,y_train)\n",
    "predict = clf.predict(X_test)"
   ]
  },
  {
   "cell_type": "code",
   "execution_count": 249,
   "metadata": {},
   "outputs": [
    {
     "name": "stdout",
     "output_type": "stream",
     "text": [
      "[[  78   51  661   15    0]\n",
      " [  43  149  795   14    0]\n",
      " [  53   75 1337   28    0]\n",
      " [  32   46  461   77    0]\n",
      " [   6    4   51    3    0]]\n",
      "\n",
      "\n",
      "             precision    recall  f1-score   support\n",
      "\n",
      "     ELAINE       0.37      0.10      0.15       805\n",
      "     GEORGE       0.46      0.15      0.22      1001\n",
      "      JERRY       0.40      0.90      0.56      1493\n",
      "     KRAMER       0.56      0.12      0.20       616\n",
      "     NEWMAN       0.00      0.00      0.00        64\n",
      "\n",
      "avg / total       0.43      0.41      0.33      3979\n",
      "\n"
     ]
    },
    {
     "name": "stderr",
     "output_type": "stream",
     "text": [
      "/anaconda3/lib/python3.6/site-packages/sklearn/metrics/classification.py:1135: UndefinedMetricWarning: Precision and F-score are ill-defined and being set to 0.0 in labels with no predicted samples.\n",
      "  'precision', 'predicted', average, warn_for)\n"
     ]
    }
   ],
   "source": [
    "print(confusion_matrix(y_test, predict))\n",
    "print('\\n')\n",
    "print(classification_report(y_test, predict))\n"
   ]
  },
  {
   "cell_type": "code",
   "execution_count": 250,
   "metadata": {},
   "outputs": [
    {
     "name": "stdout",
     "output_type": "stream",
     "text": [
      "['JERRY']\n"
     ]
    },
    {
     "name": "stderr",
     "output_type": "stream",
     "text": [
      "/anaconda3/lib/python3.6/site-packages/sklearn/preprocessing/label.py:151: DeprecationWarning: The truth value of an empty array is ambiguous. Returning False, but in future this will result in an error. Use `array.size > 0` to check that an array is not empty.\n",
      "  if diff:\n"
     ]
    }
   ],
   "source": [
    "#jerry\n",
    "predictor([\"What's the difference? I agreed to wear it. It's - it's a puffy shirt. I feel ridiculous in it, and I think it's the stupidest shirt I've ever seen, to be perfectly honest with you. (Nodding)\"])"
   ]
  },
  {
   "cell_type": "code",
   "execution_count": 251,
   "metadata": {},
   "outputs": [
    {
     "name": "stdout",
     "output_type": "stream",
     "text": [
      "['JERRY']\n"
     ]
    },
    {
     "name": "stderr",
     "output_type": "stream",
     "text": [
      "/anaconda3/lib/python3.6/site-packages/sklearn/preprocessing/label.py:151: DeprecationWarning: The truth value of an empty array is ambiguous. Returning False, but in future this will result in an error. Use `array.size > 0` to check that an array is not empty.\n",
      "  if diff:\n"
     ]
    }
   ],
   "source": [
    "#george\n",
    "predictor([\"I can't tell you, don't ask.\"])"
   ]
  },
  {
   "cell_type": "code",
   "execution_count": 252,
   "metadata": {},
   "outputs": [
    {
     "name": "stdout",
     "output_type": "stream",
     "text": [
      "['JERRY']\n"
     ]
    },
    {
     "name": "stderr",
     "output_type": "stream",
     "text": [
      "/anaconda3/lib/python3.6/site-packages/sklearn/preprocessing/label.py:151: DeprecationWarning: The truth value of an empty array is ambiguous. Returning False, but in future this will result in an error. Use `array.size > 0` to check that an array is not empty.\n",
      "  if diff:\n"
     ]
    }
   ],
   "source": [
    "#george \n",
    "predictor([\"That's my whole afternoon! I was going to look for sneakers.\"])"
   ]
  },
  {
   "cell_type": "code",
   "execution_count": 253,
   "metadata": {},
   "outputs": [
    {
     "name": "stdout",
     "output_type": "stream",
     "text": [
      "['JERRY']\n"
     ]
    },
    {
     "name": "stderr",
     "output_type": "stream",
     "text": [
      "/anaconda3/lib/python3.6/site-packages/sklearn/preprocessing/label.py:151: DeprecationWarning: The truth value of an empty array is ambiguous. Returning False, but in future this will result in an error. Use `array.size > 0` to check that an array is not empty.\n",
      "  if diff:\n"
     ]
    }
   ],
   "source": [
    "#george\n",
    "predictor([\"Hey look a that - boy are you lucky - another great spot - right in front of the hospital. In an emergency yet! How lucky are you huh? Is that unbelievable? How unbelievable is that huh? Come on, give it to me, give it to me.\"])"
   ]
  },
  {
   "cell_type": "code",
   "execution_count": 256,
   "metadata": {},
   "outputs": [
    {
     "name": "stdout",
     "output_type": "stream",
     "text": [
      "['JERRY']\n"
     ]
    },
    {
     "name": "stderr",
     "output_type": "stream",
     "text": [
      "/anaconda3/lib/python3.6/site-packages/sklearn/preprocessing/label.py:151: DeprecationWarning: The truth value of an empty array is ambiguous. Returning False, but in future this will result in an error. Use `array.size > 0` to check that an array is not empty.\n",
      "  if diff:\n"
     ]
    }
   ],
   "source": [
    "#larry \n",
    "predictor([\"I'm feeling pretty good. Pretty, pretty, pretty, pretty good.\"])"
   ]
  },
  {
   "cell_type": "code",
   "execution_count": 257,
   "metadata": {
    "scrolled": true
   },
   "outputs": [
    {
     "name": "stdout",
     "output_type": "stream",
     "text": [
      "['JERRY']\n"
     ]
    },
    {
     "name": "stderr",
     "output_type": "stream",
     "text": [
      "/anaconda3/lib/python3.6/site-packages/sklearn/preprocessing/label.py:151: DeprecationWarning: The truth value of an empty array is ambiguous. Returning False, but in future this will result in an error. Use `array.size > 0` to check that an array is not empty.\n",
      "  if diff:\n"
     ]
    }
   ],
   "source": [
    "#larry\n",
    "predictor([\"He wanted to stop and chat with me - and I don't know him well enough for a stop and chat.\"])"
   ]
  },
  {
   "cell_type": "code",
   "execution_count": null,
   "metadata": {},
   "outputs": [],
   "source": [
    "#larry\n",
    "predictor([''])"
   ]
  },
  {
   "cell_type": "code",
   "execution_count": 259,
   "metadata": {},
   "outputs": [
    {
     "name": "stdout",
     "output_type": "stream",
     "text": [
      "['GEORGE']\n"
     ]
    },
    {
     "name": "stderr",
     "output_type": "stream",
     "text": [
      "/anaconda3/lib/python3.6/site-packages/sklearn/preprocessing/label.py:151: DeprecationWarning: The truth value of an empty array is ambiguous. Returning False, but in future this will result in an error. Use `array.size > 0` to check that an array is not empty.\n",
      "  if diff:\n"
     ]
    }
   ],
   "source": [
    "#george\n",
    "predictor([\"Yeah I guess. What can I do? I gotta take her with me. Todd introduced us, I'm obligated.\"])"
   ]
  },
  {
   "cell_type": "code",
   "execution_count": 260,
   "metadata": {
    "scrolled": true
   },
   "outputs": [
    {
     "name": "stdout",
     "output_type": "stream",
     "text": [
      "['JERRY']\n"
     ]
    },
    {
     "name": "stderr",
     "output_type": "stream",
     "text": [
      "/anaconda3/lib/python3.6/site-packages/sklearn/preprocessing/label.py:151: DeprecationWarning: The truth value of an empty array is ambiguous. Returning False, but in future this will result in an error. Use `array.size > 0` to check that an array is not empty.\n",
      "  if diff:\n"
     ]
    }
   ],
   "source": [
    "#george\n",
    "\n",
    "predictor(['Boy you are really smitten.'])"
   ]
  },
  {
   "cell_type": "code",
   "execution_count": 340,
   "metadata": {},
   "outputs": [],
   "source": [
    "df=pd.read_csv('scripts.csv')"
   ]
  },
  {
   "cell_type": "code",
   "execution_count": 341,
   "metadata": {},
   "outputs": [],
   "source": [
    "dial_df = df.drop([\"EpisodeNo\",\"SEID\",\"Season\"],axis=1)\n"
   ]
  },
  {
   "cell_type": "code",
   "execution_count": 345,
   "metadata": {},
   "outputs": [
    {
     "data": {
      "text/plain": [
       "array(['JERRY', 'GEORGE', 'ELAINE', 'KRAMER', 'NEWMAN', 'MORTY'],\n",
       "      dtype=object)"
      ]
     },
     "execution_count": 345,
     "metadata": {},
     "output_type": "execute_result"
    }
   ],
   "source": [
    "def corpus_creator(name):\n",
    "    st = \"\" \n",
    "    for i in dial_df[\"Dialogue\"][dial_df[\"Character\"]==name]:\n",
    "        st = st + i\n",
    "    return st\n",
    "\n",
    "corpus_df = pd.DataFrame()\n",
    "corpus_df[\"Character\"] = list(dial_df[\"Character\"].value_counts().head(6).index)\n",
    "\n",
    "li = []\n",
    "for i in corpus_df[\"Character\"]:\n",
    "    li.append(corpus_creator(i))\n",
    "\n",
    "corpus_df[\"Dialogues\"] = li\n",
    "\n",
    "corpus_df.Character.unique()"
   ]
  },
  {
   "cell_type": "code",
   "execution_count": null,
   "metadata": {},
   "outputs": [],
   "source": []
  },
  {
   "cell_type": "code",
   "execution_count": 346,
   "metadata": {},
   "outputs": [],
   "source": [
    "corpus_df[\"Dialogues\"] = corpus_df[\"Dialogues\"].apply(lambda x: text_processor(x))"
   ]
  },
  {
   "cell_type": "code",
   "execution_count": 347,
   "metadata": {},
   "outputs": [],
   "source": [
    "corpus_df[\"Length\"] = corpus_df[\"Dialogues\"].apply(lambda x: len(x))"
   ]
  },
  {
   "cell_type": "code",
   "execution_count": 348,
   "metadata": {
    "scrolled": true
   },
   "outputs": [
    {
     "name": "stdout",
     "output_type": "stream",
     "text": [
      "admiration\n",
      "2504\n",
      "Number of words in dictionary:  31600\n"
     ]
    },
    {
     "name": "stderr",
     "output_type": "stream",
     "text": [
      "/anaconda3/lib/python3.6/site-packages/gensim/matutils.py:737: FutureWarning: Conversion of the second argument of issubdtype from `int` to `np.signedinteger` is deprecated. In future, it will be treated as `np.int64 == np.dtype(int).type`.\n",
      "  if np.issubdtype(vec.dtype, np.int):\n",
      "/anaconda3/lib/python3.6/site-packages/gensim/matutils.py:718: FutureWarning: Conversion of the second argument of issubdtype from `int` to `np.signedinteger` is deprecated. In future, it will be treated as `np.int64 == np.dtype(int).type`.\n",
      "  if np.issubdtype(vec.dtype, np.int):\n"
     ]
    }
   ],
   "source": [
    "import gensim\n",
    "# Creating a dictionary for mapping every word to a number\n",
    "dictionary = gensim.corpora.Dictionary(corpus_df[\"Dialogues\"])\n",
    "print(dictionary[567])\n",
    "print(dictionary.token2id['cereal'])\n",
    "print(\"Number of words in dictionary: \",len(dictionary))\n",
    "\n",
    "\n",
    "\n",
    "# Now, we create a corpus which is a list of bags of words. A bag-of-words representation for a document just lists the number of times each word occurs in the document.\n",
    "corpus = [dictionary.doc2bow(bw) for bw in corpus_df[\"Dialogues\"]]\n",
    "\n",
    "# Now, we use tf-idf model on our corpus\n",
    "tf_idf = gensim.models.TfidfModel(corpus)\n",
    "\n",
    "# Creating a Similarity objectr\n",
    "sims = gensim.similarities.Similarity('',tf_idf[corpus],num_features=len(dictionary))\n"
   ]
  },
  {
   "cell_type": "code",
   "execution_count": 423,
   "metadata": {},
   "outputs": [
    {
     "data": {
      "text/plain": [
       "[array([1.0000743 , 0.41524112, 0.35393906, 0.3000297 , 0.06328574,\n",
       "        0.03956334], dtype=float32),\n",
       " array([0.41524112, 0.99995434, 0.31050402, 0.26005393, 0.0571247 ,\n",
       "        0.02625971], dtype=float32),\n",
       " array([0.35393906, 0.31050402, 1.0000447 , 0.23241226, 0.04512492,\n",
       "        0.02293793], dtype=float32),\n",
       " array([0.3000297 , 0.26005393, 0.23241226, 1.0000694 , 0.05947205,\n",
       "        0.02255212], dtype=float32),\n",
       " array([0.06328574, 0.0571247 , 0.04512492, 0.05947205, 1.0000012 ,\n",
       "        0.00430569], dtype=float32),\n",
       " array([0.03956334, 0.02625971, 0.02293793, 0.02255212, 0.00430569,\n",
       "        1.0000023 ], dtype=float32)]"
      ]
     },
     "execution_count": 423,
     "metadata": {},
     "output_type": "execute_result"
    }
   ],
   "source": [
    "\n",
    "# Creating a dataframe out of similarities\n",
    "sim_list = []\n",
    "for i in range(6):\n",
    "    query = dictionary.doc2bow(corpus_df[\"Dialogues\"][i])\n",
    "    query_tf_idf = tf_idf[query]\n",
    "    sim_list.append(sims[query_tf_idf])\n",
    "sim_list\n",
    "    \n"
   ]
  },
  {
   "cell_type": "code",
   "execution_count": 424,
   "metadata": {},
   "outputs": [
    {
     "data": {
      "text/plain": [
       "6"
      ]
     },
     "execution_count": 424,
     "metadata": {},
     "output_type": "execute_result"
    }
   ],
   "source": [
    "corr_df = pd.DataFrame()\n",
    "j=0\n",
    "for i in corpus_df[\"Character\"]:\n",
    "    corr_df[i] = sim_list[j]\n",
    "    j = j + 1   \n",
    "j"
   ]
  },
  {
   "cell_type": "code",
   "execution_count": 360,
   "metadata": {},
   "outputs": [
    {
     "data": {
      "image/png": "[encoded data removed]",
      "text/plain": [
       "<Figure size 720x720 with 2 Axes>"
      ]
     },
     "metadata": {},
     "output_type": "display_data"
    }
   ],
   "source": [
    "fig, ax = plt.subplots(figsize=(10,10))\n",
    "sns.heatmap(corr_df,ax=ax,annot=True)\n",
    "ax.set_yticklabels(corpus_df.Character)\n",
    "plt.savefig('similarity.png')\n",
    "plt.show()"
   ]
  },
  {
   "cell_type": "code",
   "execution_count": 371,
   "metadata": {},
   "outputs": [
    {
     "data": {
      "text/html": [
       "<div>\n",
       "<style scoped>\n",
       "    .dataframe tbody tr th:only-of-type {\n",
       "        vertical-align: middle;\n",
       "    }\n",
       "\n",
       "    .dataframe tbody tr th {\n",
       "        vertical-align: top;\n",
       "    }\n",
       "\n",
       "    .dataframe thead th {\n",
       "        text-align: right;\n",
       "    }\n",
       "</style>\n",
       "<table border=\"1\" class=\"dataframe\">\n",
       "  <thead>\n",
       "    <tr style=\"text-align: right;\">\n",
       "      <th></th>\n",
       "      <th>Unnamed: 0</th>\n",
       "      <th>Character</th>\n",
       "      <th>Dialogue</th>\n",
       "    </tr>\n",
       "  </thead>\n",
       "  <tbody>\n",
       "    <tr>\n",
       "      <th>0</th>\n",
       "      <td>0</td>\n",
       "      <td>JERRY</td>\n",
       "      <td>Do you know what this is all about? Do you kno...</td>\n",
       "    </tr>\n",
       "    <tr>\n",
       "      <th>1</th>\n",
       "      <td>1</td>\n",
       "      <td>JERRY</td>\n",
       "      <td>(pointing at Georges shirt) See, to me, that b...</td>\n",
       "    </tr>\n",
       "    <tr>\n",
       "      <th>2</th>\n",
       "      <td>2</td>\n",
       "      <td>GEORGE</td>\n",
       "      <td>Are you through?</td>\n",
       "    </tr>\n",
       "    <tr>\n",
       "      <th>3</th>\n",
       "      <td>3</td>\n",
       "      <td>JERRY</td>\n",
       "      <td>You do of course try on, when you buy?</td>\n",
       "    </tr>\n",
       "    <tr>\n",
       "      <th>4</th>\n",
       "      <td>4</td>\n",
       "      <td>GEORGE</td>\n",
       "      <td>Yes, it was purple, I liked it, I dont actuall...</td>\n",
       "    </tr>\n",
       "    <tr>\n",
       "      <th>5</th>\n",
       "      <td>5</td>\n",
       "      <td>JERRY</td>\n",
       "      <td>Oh, you dont recall?</td>\n",
       "    </tr>\n",
       "    <tr>\n",
       "      <th>6</th>\n",
       "      <td>6</td>\n",
       "      <td>GEORGE</td>\n",
       "      <td>(on an imaginary microphone) Uh, no, not at th...</td>\n",
       "    </tr>\n",
       "    <tr>\n",
       "      <th>7</th>\n",
       "      <td>7</td>\n",
       "      <td>JERRY</td>\n",
       "      <td>Well, senator, Id just like to know, what you ...</td>\n",
       "    </tr>\n",
       "    <tr>\n",
       "      <th>8</th>\n",
       "      <td>8</td>\n",
       "      <td>CLAIRE</td>\n",
       "      <td>Mr. Seinfeld. Mr. Costanza.</td>\n",
       "    </tr>\n",
       "    <tr>\n",
       "      <th>9</th>\n",
       "      <td>9</td>\n",
       "      <td>GEORGE</td>\n",
       "      <td>Are, are you sure this is decaf? Wheres the or...</td>\n",
       "    </tr>\n",
       "    <tr>\n",
       "      <th>10</th>\n",
       "      <td>10</td>\n",
       "      <td>CLAIRE</td>\n",
       "      <td>Its missing, I have to do it in my head decaf ...</td>\n",
       "    </tr>\n",
       "    <tr>\n",
       "      <th>11</th>\n",
       "      <td>11</td>\n",
       "      <td>JERRY</td>\n",
       "      <td>Can you relax, its a cup of coffee. Claire is ...</td>\n",
       "    </tr>\n",
       "    <tr>\n",
       "      <th>12</th>\n",
       "      <td>12</td>\n",
       "      <td>CLAIRE</td>\n",
       "      <td>Trust me George. No one has any interest in se...</td>\n",
       "    </tr>\n",
       "    <tr>\n",
       "      <th>13</th>\n",
       "      <td>13</td>\n",
       "      <td>GEORGE</td>\n",
       "      <td>How come youre not doin the second show tomorrow?</td>\n",
       "    </tr>\n",
       "    <tr>\n",
       "      <th>14</th>\n",
       "      <td>14</td>\n",
       "      <td>JERRY</td>\n",
       "      <td>Well, theres this uh, woman might be comin in.</td>\n",
       "    </tr>\n",
       "    <tr>\n",
       "      <th>15</th>\n",
       "      <td>15</td>\n",
       "      <td>GEORGE</td>\n",
       "      <td>Wait a second, wait a second, what coming in, ...</td>\n",
       "    </tr>\n",
       "    <tr>\n",
       "      <th>16</th>\n",
       "      <td>16</td>\n",
       "      <td>JERRY</td>\n",
       "      <td>I told you about Laura, the girl I met in Mich...</td>\n",
       "    </tr>\n",
       "    <tr>\n",
       "      <th>17</th>\n",
       "      <td>17</td>\n",
       "      <td>GEORGE</td>\n",
       "      <td>No, you didnt!</td>\n",
       "    </tr>\n",
       "    <tr>\n",
       "      <th>18</th>\n",
       "      <td>18</td>\n",
       "      <td>JERRY</td>\n",
       "      <td>I thought I told you about it, yes, she teache...</td>\n",
       "    </tr>\n",
       "    <tr>\n",
       "      <th>19</th>\n",
       "      <td>19</td>\n",
       "      <td>GEORGE</td>\n",
       "      <td>Ha.</td>\n",
       "    </tr>\n",
       "    <tr>\n",
       "      <th>20</th>\n",
       "      <td>20</td>\n",
       "      <td>JERRY</td>\n",
       "      <td>(looks in the creamer) Theres no milk in here,...</td>\n",
       "    </tr>\n",
       "    <tr>\n",
       "      <th>21</th>\n",
       "      <td>21</td>\n",
       "      <td>GEORGE</td>\n",
       "      <td>Wait wait wait, what is she... (takes the milk...</td>\n",
       "    </tr>\n",
       "    <tr>\n",
       "      <th>22</th>\n",
       "      <td>22</td>\n",
       "      <td>JERRY</td>\n",
       "      <td>Oh, shes really great. I mean, shes got like a...</td>\n",
       "    </tr>\n",
       "    <tr>\n",
       "      <th>23</th>\n",
       "      <td>23</td>\n",
       "      <td>GEORGE</td>\n",
       "      <td>(smiling) So, you know, what, what happened?</td>\n",
       "    </tr>\n",
       "    <tr>\n",
       "      <th>24</th>\n",
       "      <td>24</td>\n",
       "      <td>JERRY</td>\n",
       "      <td>Oh, nothing happened, you know, but is was great.</td>\n",
       "    </tr>\n",
       "    <tr>\n",
       "      <th>25</th>\n",
       "      <td>25</td>\n",
       "      <td>GEORGE</td>\n",
       "      <td>Oh, nothing happened, but it was...</td>\n",
       "    </tr>\n",
       "    <tr>\n",
       "      <th>26</th>\n",
       "      <td>26</td>\n",
       "      <td>JERRY</td>\n",
       "      <td>Yeah.</td>\n",
       "    </tr>\n",
       "    <tr>\n",
       "      <th>27</th>\n",
       "      <td>27</td>\n",
       "      <td>GEORGE</td>\n",
       "      <td>This is great!</td>\n",
       "    </tr>\n",
       "    <tr>\n",
       "      <th>28</th>\n",
       "      <td>28</td>\n",
       "      <td>JERRY</td>\n",
       "      <td>Yeah.</td>\n",
       "    </tr>\n",
       "    <tr>\n",
       "      <th>29</th>\n",
       "      <td>29</td>\n",
       "      <td>GEORGE</td>\n",
       "      <td>So, you know, she calls and says she wants to ...</td>\n",
       "    </tr>\n",
       "    <tr>\n",
       "      <th>...</th>\n",
       "      <td>...</td>\n",
       "      <td>...</td>\n",
       "      <td>...</td>\n",
       "    </tr>\n",
       "    <tr>\n",
       "      <th>54586</th>\n",
       "      <td>54586</td>\n",
       "      <td>FRANK</td>\n",
       "      <td>We gotta get out of here. We want to beat the ...</td>\n",
       "    </tr>\n",
       "    <tr>\n",
       "      <th>54587</th>\n",
       "      <td>54587</td>\n",
       "      <td>SIDRA</td>\n",
       "      <td>Come on, Jackie. Let's go.</td>\n",
       "    </tr>\n",
       "    <tr>\n",
       "      <th>54588</th>\n",
       "      <td>54588</td>\n",
       "      <td>JERRY</td>\n",
       "      <td>What?</td>\n",
       "    </tr>\n",
       "    <tr>\n",
       "      <th>54589</th>\n",
       "      <td>54589</td>\n",
       "      <td>CHILES</td>\n",
       "      <td>Oh, and by the way, they're real, and they're ...</td>\n",
       "    </tr>\n",
       "    <tr>\n",
       "      <th>54590</th>\n",
       "      <td>54590</td>\n",
       "      <td>JERRY</td>\n",
       "      <td>Well, it's only a year. That's not so bad. We'...</td>\n",
       "    </tr>\n",
       "    <tr>\n",
       "      <th>54591</th>\n",
       "      <td>54591</td>\n",
       "      <td>KRAMER</td>\n",
       "      <td>Could be fun. Don't have to worry about your m...</td>\n",
       "    </tr>\n",
       "    <tr>\n",
       "      <th>54592</th>\n",
       "      <td>54592</td>\n",
       "      <td>ELAINE</td>\n",
       "      <td>Why don't you just blow it out your a...</td>\n",
       "    </tr>\n",
       "    <tr>\n",
       "      <th>54593</th>\n",
       "      <td>54593</td>\n",
       "      <td>ELAINE</td>\n",
       "      <td>If I call Jill from prison, do you think that ...</td>\n",
       "    </tr>\n",
       "    <tr>\n",
       "      <th>54594</th>\n",
       "      <td>54594</td>\n",
       "      <td>JERRY</td>\n",
       "      <td>Sure.</td>\n",
       "    </tr>\n",
       "    <tr>\n",
       "      <th>54595</th>\n",
       "      <td>54595</td>\n",
       "      <td>ELAINE</td>\n",
       "      <td>Cause you only get one call. The prison call i...</td>\n",
       "    </tr>\n",
       "    <tr>\n",
       "      <th>54596</th>\n",
       "      <td>54596</td>\n",
       "      <td>JERRY</td>\n",
       "      <td>I think that would be a very nice gesture.</td>\n",
       "    </tr>\n",
       "    <tr>\n",
       "      <th>54597</th>\n",
       "      <td>54597</td>\n",
       "      <td>KRAMER</td>\n",
       "      <td>I got it - it's out! How about that, huh? Oh, ...</td>\n",
       "    </tr>\n",
       "    <tr>\n",
       "      <th>54598</th>\n",
       "      <td>54598</td>\n",
       "      <td>JERRY</td>\n",
       "      <td>See now, to me, that button is in the worst po...</td>\n",
       "    </tr>\n",
       "    <tr>\n",
       "      <th>54599</th>\n",
       "      <td>54599</td>\n",
       "      <td>GEORGE</td>\n",
       "      <td>Really?</td>\n",
       "    </tr>\n",
       "    <tr>\n",
       "      <th>54600</th>\n",
       "      <td>54600</td>\n",
       "      <td>JERRY</td>\n",
       "      <td>Oh yeah. The second button is the key button. ...</td>\n",
       "    </tr>\n",
       "    <tr>\n",
       "      <th>54601</th>\n",
       "      <td>54601</td>\n",
       "      <td>GEORGE</td>\n",
       "      <td>Haven't we had this conversation before?</td>\n",
       "    </tr>\n",
       "    <tr>\n",
       "      <th>54602</th>\n",
       "      <td>54602</td>\n",
       "      <td>JERRY</td>\n",
       "      <td>You think?</td>\n",
       "    </tr>\n",
       "    <tr>\n",
       "      <th>54603</th>\n",
       "      <td>54603</td>\n",
       "      <td>GEORGE</td>\n",
       "      <td>I think we have.</td>\n",
       "    </tr>\n",
       "    <tr>\n",
       "      <th>54604</th>\n",
       "      <td>54604</td>\n",
       "      <td>JERRY</td>\n",
       "      <td>Yeah, maybe we have.</td>\n",
       "    </tr>\n",
       "    <tr>\n",
       "      <th>54605</th>\n",
       "      <td>54605</td>\n",
       "      <td>JERRY</td>\n",
       "      <td>So what is the deal with the yard? I mean when...</td>\n",
       "    </tr>\n",
       "    <tr>\n",
       "      <th>54606</th>\n",
       "      <td>54606</td>\n",
       "      <td>PRISONER 1</td>\n",
       "      <td>I am.</td>\n",
       "    </tr>\n",
       "    <tr>\n",
       "      <th>54607</th>\n",
       "      <td>54607</td>\n",
       "      <td>JERRY</td>\n",
       "      <td>I'll talk slower. I'm kidding - I love Cellblo...</td>\n",
       "    </tr>\n",
       "    <tr>\n",
       "      <th>54608</th>\n",
       "      <td>54608</td>\n",
       "      <td>PRISONER 2</td>\n",
       "      <td>Murder one.</td>\n",
       "    </tr>\n",
       "    <tr>\n",
       "      <th>54609</th>\n",
       "      <td>54609</td>\n",
       "      <td>JERRY</td>\n",
       "      <td>Murder one? Oooooo, watch out everybody. Bette...</td>\n",
       "    </tr>\n",
       "    <tr>\n",
       "      <th>54610</th>\n",
       "      <td>54610</td>\n",
       "      <td>PRISONER 3</td>\n",
       "      <td>Grand theft auto.</td>\n",
       "    </tr>\n",
       "    <tr>\n",
       "      <th>54611</th>\n",
       "      <td>54611</td>\n",
       "      <td>JERRY</td>\n",
       "      <td>Grand theft auto - don't steal any of my jokes.</td>\n",
       "    </tr>\n",
       "    <tr>\n",
       "      <th>54612</th>\n",
       "      <td>54612</td>\n",
       "      <td>PRISONER 3</td>\n",
       "      <td>You suck - I'm gonna cut you.</td>\n",
       "    </tr>\n",
       "    <tr>\n",
       "      <th>54613</th>\n",
       "      <td>54613</td>\n",
       "      <td>JERRY</td>\n",
       "      <td>Hey, I don't come down to where you work, and ...</td>\n",
       "    </tr>\n",
       "    <tr>\n",
       "      <th>54614</th>\n",
       "      <td>54614</td>\n",
       "      <td>GUARD</td>\n",
       "      <td>Alright, Seinfeld, that's it. Let's go. Come on.</td>\n",
       "    </tr>\n",
       "    <tr>\n",
       "      <th>54615</th>\n",
       "      <td>54615</td>\n",
       "      <td>JERRY</td>\n",
       "      <td>Alright, hey, you've been great! See you in th...</td>\n",
       "    </tr>\n",
       "  </tbody>\n",
       "</table>\n",
       "<p>54616 rows × 3 columns</p>\n",
       "</div>"
      ],
      "text/plain": [
       "       Unnamed: 0   Character  \\\n",
       "0               0       JERRY   \n",
       "1               1       JERRY   \n",
       "2               2      GEORGE   \n",
       "3               3       JERRY   \n",
       "4               4      GEORGE   \n",
       "5               5       JERRY   \n",
       "6               6      GEORGE   \n",
       "7               7       JERRY   \n",
       "8               8      CLAIRE   \n",
       "9               9      GEORGE   \n",
       "10             10      CLAIRE   \n",
       "11             11       JERRY   \n",
       "12             12      CLAIRE   \n",
       "13             13      GEORGE   \n",
       "14             14       JERRY   \n",
       "15             15      GEORGE   \n",
       "16             16       JERRY   \n",
       "17             17      GEORGE   \n",
       "18             18       JERRY   \n",
       "19             19      GEORGE   \n",
       "20             20       JERRY   \n",
       "21             21      GEORGE   \n",
       "22             22       JERRY   \n",
       "23             23      GEORGE   \n",
       "24             24       JERRY   \n",
       "25             25      GEORGE   \n",
       "26             26       JERRY   \n",
       "27             27      GEORGE   \n",
       "28             28       JERRY   \n",
       "29             29      GEORGE   \n",
       "...           ...         ...   \n",
       "54586       54586       FRANK   \n",
       "54587       54587       SIDRA   \n",
       "54588       54588       JERRY   \n",
       "54589       54589      CHILES   \n",
       "54590       54590       JERRY   \n",
       "54591       54591      KRAMER   \n",
       "54592       54592      ELAINE   \n",
       "54593       54593      ELAINE   \n",
       "54594       54594       JERRY   \n",
       "54595       54595      ELAINE   \n",
       "54596       54596       JERRY   \n",
       "54597       54597      KRAMER   \n",
       "54598       54598       JERRY   \n",
       "54599       54599      GEORGE   \n",
       "54600       54600       JERRY   \n",
       "54601       54601      GEORGE   \n",
       "54602       54602       JERRY   \n",
       "54603       54603      GEORGE   \n",
       "54604       54604       JERRY   \n",
       "54605       54605       JERRY   \n",
       "54606       54606  PRISONER 1   \n",
       "54607       54607       JERRY   \n",
       "54608       54608  PRISONER 2   \n",
       "54609       54609       JERRY   \n",
       "54610       54610  PRISONER 3   \n",
       "54611       54611       JERRY   \n",
       "54612       54612  PRISONER 3   \n",
       "54613       54613       JERRY   \n",
       "54614       54614       GUARD   \n",
       "54615       54615       JERRY   \n",
       "\n",
       "                                                Dialogue  \n",
       "0      Do you know what this is all about? Do you kno...  \n",
       "1      (pointing at Georges shirt) See, to me, that b...  \n",
       "2                                       Are you through?  \n",
       "3                 You do of course try on, when you buy?  \n",
       "4      Yes, it was purple, I liked it, I dont actuall...  \n",
       "5                                   Oh, you dont recall?  \n",
       "6      (on an imaginary microphone) Uh, no, not at th...  \n",
       "7      Well, senator, Id just like to know, what you ...  \n",
       "8                            Mr. Seinfeld. Mr. Costanza.  \n",
       "9      Are, are you sure this is decaf? Wheres the or...  \n",
       "10     Its missing, I have to do it in my head decaf ...  \n",
       "11     Can you relax, its a cup of coffee. Claire is ...  \n",
       "12     Trust me George. No one has any interest in se...  \n",
       "13     How come youre not doin the second show tomorrow?  \n",
       "14        Well, theres this uh, woman might be comin in.  \n",
       "15     Wait a second, wait a second, what coming in, ...  \n",
       "16     I told you about Laura, the girl I met in Mich...  \n",
       "17                                        No, you didnt!  \n",
       "18     I thought I told you about it, yes, she teache...  \n",
       "19                                                   Ha.  \n",
       "20     (looks in the creamer) Theres no milk in here,...  \n",
       "21     Wait wait wait, what is she... (takes the milk...  \n",
       "22     Oh, shes really great. I mean, shes got like a...  \n",
       "23          (smiling) So, you know, what, what happened?  \n",
       "24     Oh, nothing happened, you know, but is was great.  \n",
       "25                   Oh, nothing happened, but it was...  \n",
       "26                                                 Yeah.  \n",
       "27                                        This is great!  \n",
       "28                                                 Yeah.  \n",
       "29     So, you know, she calls and says she wants to ...  \n",
       "...                                                  ...  \n",
       "54586  We gotta get out of here. We want to beat the ...  \n",
       "54587                         Come on, Jackie. Let's go.  \n",
       "54588                                              What?  \n",
       "54589  Oh, and by the way, they're real, and they're ...  \n",
       "54590  Well, it's only a year. That's not so bad. We'...  \n",
       "54591  Could be fun. Don't have to worry about your m...  \n",
       "54592           Why don't you just blow it out your a...  \n",
       "54593  If I call Jill from prison, do you think that ...  \n",
       "54594                                              Sure.  \n",
       "54595  Cause you only get one call. The prison call i...  \n",
       "54596         I think that would be a very nice gesture.  \n",
       "54597  I got it - it's out! How about that, huh? Oh, ...  \n",
       "54598  See now, to me, that button is in the worst po...  \n",
       "54599                                            Really?  \n",
       "54600  Oh yeah. The second button is the key button. ...  \n",
       "54601           Haven't we had this conversation before?  \n",
       "54602                                         You think?  \n",
       "54603                                   I think we have.  \n",
       "54604                               Yeah, maybe we have.  \n",
       "54605  So what is the deal with the yard? I mean when...  \n",
       "54606                                              I am.  \n",
       "54607  I'll talk slower. I'm kidding - I love Cellblo...  \n",
       "54608                                        Murder one.  \n",
       "54609  Murder one? Oooooo, watch out everybody. Bette...  \n",
       "54610                                  Grand theft auto.  \n",
       "54611    Grand theft auto - don't steal any of my jokes.  \n",
       "54612                      You suck - I'm gonna cut you.  \n",
       "54613  Hey, I don't come down to where you work, and ...  \n",
       "54614   Alright, Seinfeld, that's it. Let's go. Come on.  \n",
       "54615  Alright, hey, you've been great! See you in th...  \n",
       "\n",
       "[54616 rows x 3 columns]"
      ]
     },
     "execution_count": 371,
     "metadata": {},
     "output_type": "execute_result"
    }
   ],
   "source": []
  },
  {
   "cell_type": "code",
   "execution_count": null,
   "metadata": {},
   "outputs": [],
   "source": []
  }
 ],
 "metadata": {
  "kernelspec": {
   "display_name": "Python 3",
   "language": "python",
   "name": "python3"
  },
  "language_info": {
   "codemirror_mode": {
    "name": "ipython",
    "version": 3
   },
   "file_extension": ".py",
   "mimetype": "text/x-python",
   "name": "python",
   "nbconvert_exporter": "python",
   "pygments_lexer": "ipython3",
   "version": "3.6.5"
  }
 },
 "nbformat": 4,
 "nbformat_minor": 2
}
