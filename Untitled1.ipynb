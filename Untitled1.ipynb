{
 "cells": [
  {
   "cell_type": "code",
   "execution_count": 724,
   "metadata": {
    "scrolled": true
   },
   "outputs": [],
   "source": [
    "import pandas as pd \n",
    "import numpy as np\n",
    "import keras \n",
    "df = pd.read_csv('scripts.csv')\n",
    "from sklearn.model_selection import train_test_split\n",
    "import nltk\n",
    "from nltk.tokenize import word_tokenize\n",
    "np.random.seed(0)\n",
    "from sklearn.feature_extraction import text"
   ]
  },
  {
   "cell_type": "code",
   "execution_count": 725,
   "metadata": {},
   "outputs": [],
   "source": [
    "df=df.drop(['Unnamed: 0', 'EpisodeNo', 'SEID', 'Season'], axis=1)\n"
   ]
  },
  {
   "cell_type": "code",
   "execution_count": 726,
   "metadata": {},
   "outputs": [],
   "source": [
    "jerry=df[(df[\"Character\"]==\"JERRY\")]\n",
    "# jerry=jerry.reset_index()\n",
    "# jerry=jerry.drop('index', axis=1)\n",
    "jerry=jerry.sample(n=10000)"
   ]
  },
  {
   "cell_type": "code",
   "execution_count": 730,
   "metadata": {},
   "outputs": [],
   "source": [
    "elaine=df[(df[\"Character\"]==\"ELAINE\")]\n",
    "george=df[(df[\"Character\"]==\"GEORGE\")]\n",
    "kramer=df[(df[\"Character\"]==\"KRAMER\")]"
   ]
  },
  {
   "cell_type": "code",
   "execution_count": 729,
   "metadata": {},
   "outputs": [],
   "source": [
    "dial_df=pd.DataFrame()"
   ]
  },
  {
   "cell_type": "code",
   "execution_count": 734,
   "metadata": {},
   "outputs": [
    {
     "data": {
      "text/html": [
       "<div>\n",
       "<style scoped>\n",
       "    .dataframe tbody tr th:only-of-type {\n",
       "        vertical-align: middle;\n",
       "    }\n",
       "\n",
       "    .dataframe tbody tr th {\n",
       "        vertical-align: top;\n",
       "    }\n",
       "\n",
       "    .dataframe thead th {\n",
       "        text-align: right;\n",
       "    }\n",
       "</style>\n",
       "<table border=\"1\" class=\"dataframe\">\n",
       "  <thead>\n",
       "    <tr style=\"text-align: right;\">\n",
       "      <th></th>\n",
       "      <th>Character</th>\n",
       "      <th>Dialogue</th>\n",
       "    </tr>\n",
       "  </thead>\n",
       "  <tbody>\n",
       "    <tr>\n",
       "      <th>42624</th>\n",
       "      <td>JERRY</td>\n",
       "      <td>I guess we like to think we've progressed beyo...</td>\n",
       "    </tr>\n",
       "    <tr>\n",
       "      <th>6254</th>\n",
       "      <td>JERRY</td>\n",
       "      <td>Well, ah w-what do you recommend my good fellow?</td>\n",
       "    </tr>\n",
       "    <tr>\n",
       "      <th>51836</th>\n",
       "      <td>JERRY</td>\n",
       "      <td>So I guess I'll s--</td>\n",
       "    </tr>\n",
       "    <tr>\n",
       "      <th>25860</th>\n",
       "      <td>JERRY</td>\n",
       "      <td>Alright, Kramer!</td>\n",
       "    </tr>\n",
       "    <tr>\n",
       "      <th>3598</th>\n",
       "      <td>JERRY</td>\n",
       "      <td>Too romantic.</td>\n",
       "    </tr>\n",
       "  </tbody>\n",
       "</table>\n",
       "</div>"
      ],
      "text/plain": [
       "      Character                                           Dialogue\n",
       "42624     JERRY  I guess we like to think we've progressed beyo...\n",
       "6254      JERRY   Well, ah w-what do you recommend my good fellow?\n",
       "51836     JERRY                                So I guess I'll s--\n",
       "25860     JERRY                                   Alright, Kramer!\n",
       "3598      JERRY                                      Too romantic."
      ]
     },
     "execution_count": 734,
     "metadata": {},
     "output_type": "execute_result"
    }
   ],
   "source": [
    "dial_df=dial_df.append([jerry, elaine, george, kramer])\n",
    "dial_df.head()"
   ]
  },
  {
   "cell_type": "code",
   "execution_count": null,
   "metadata": {},
   "outputs": [],
   "source": []
  },
  {
   "cell_type": "code",
   "execution_count": 665,
   "metadata": {},
   "outputs": [],
   "source": [
    "dial_df = df[(df[\"Character\"]==\"JERRY\")| (df[\"Character\"]==\"ELAINE\") | (df[\"Character\"]==\"GEORGE\") | (df[\"Character\"]==\"KRAMER\")]\n",
    "george_dialogue_df=dial_df[dial_df.Character=='GEORGE']\n",
    "elaine_dialogue_df=dial_df[dial_df.Character=='ELAINE']\n",
    "kramer_dialogue_df=dial_df[dial_df.Character=='KRAMER']\n",
    "jerry_dialogue_df=dial_df[dial_df.Character=='JERRY']\n"
   ]
  },
  {
   "cell_type": "code",
   "execution_count": 661,
   "metadata": {
    "scrolled": true
   },
   "outputs": [
    {
     "data": {
      "text/plain": [
       "(14786, 9708)"
      ]
     },
     "execution_count": 661,
     "metadata": {},
     "output_type": "execute_result"
    }
   ],
   "source": [
    "len(df[df[\"Character\"]==\"JERRY\"]), len(george_dialogue_df)"
   ]
  },
  {
   "cell_type": "code",
   "execution_count": 666,
   "metadata": {},
   "outputs": [],
   "source": [
    "\n"
   ]
  },
  {
   "cell_type": "code",
   "execution_count": 689,
   "metadata": {},
   "outputs": [],
   "source": [
    "jerry=pd.DataFrame()\n",
    "jerry=jerry.append(df[(df[\"Character\"]==\"JERRY\")])\n",
    "jerry=jerry.reset_index()"
   ]
  },
  {
   "cell_type": "code",
   "execution_count": null,
   "metadata": {},
   "outputs": [],
   "source": []
  },
  {
   "cell_type": "code",
   "execution_count": null,
   "metadata": {},
   "outputs": [],
   "source": []
  },
  {
   "cell_type": "code",
   "execution_count": null,
   "metadata": {},
   "outputs": [],
   "source": []
  },
  {
   "cell_type": "code",
   "execution_count": null,
   "metadata": {},
   "outputs": [],
   "source": []
  },
  {
   "cell_type": "code",
   "execution_count": 132,
   "metadata": {},
   "outputs": [],
   "source": [
    "def combine_dialogues(dialogue):\n",
    "    dialogues=''\n",
    "    for i in dialogue: \n",
    "        dialogues=dialogues+(i)\n",
    "    return dialogues"
   ]
  },
  {
   "cell_type": "markdown",
   "metadata": {},
   "source": [
    "because Jerry has substaintially more dialogue than the rest of the cast member, i've taken him out "
   ]
  },
  {
   "cell_type": "code",
   "execution_count": 645,
   "metadata": {},
   "outputs": [],
   "source": [
    "from nltk.corpus import stopwords\n",
    "punc = ['.', ',', '\"', \"'\", '?', '!', ':', ';', '(', ')', '[', ']', '{', '}',\"%\"]\n",
    "stop_words = text.ENGLISH_STOP_WORDS.union(punc)\n",
    "def text_process(dialogue):\n",
    "    nopunc=[word.lower() for word in dialogue if word not in stop_words]\n",
    "    nopunc=''.join(nopunc)\n",
    "    return [word for word in nopunc.split()]\n"
   ]
  },
  {
   "cell_type": "markdown",
   "metadata": {},
   "source": [
    "using tfidf "
   ]
  },
  {
   "cell_type": "code",
   "execution_count": 507,
   "metadata": {},
   "outputs": [],
   "source": [
    "#set target and scaler \n",
    "X = dial_df[\"Dialogue\"]\n",
    "y = dial_df[\"Character\"]\n",
    "from sklearn.feature_extraction.text import TfidfVectorizer\n",
    "vectorizer = TfidfVectorizer(analyzer=lines).fit(X)\n",
    "X = vectorizer.transform(X)"
   ]
  },
  {
   "cell_type": "code",
   "execution_count": null,
   "metadata": {},
   "outputs": [],
   "source": []
  },
  {
   "cell_type": "code",
   "execution_count": null,
   "metadata": {},
   "outputs": [],
   "source": []
  },
  {
   "cell_type": "code",
   "execution_count": 394,
   "metadata": {},
   "outputs": [
    {
     "data": {
      "text/html": [
       "<div>\n",
       "<style scoped>\n",
       "    .dataframe tbody tr th:only-of-type {\n",
       "        vertical-align: middle;\n",
       "    }\n",
       "\n",
       "    .dataframe tbody tr th {\n",
       "        vertical-align: top;\n",
       "    }\n",
       "\n",
       "    .dataframe thead th {\n",
       "        text-align: right;\n",
       "    }\n",
       "</style>\n",
       "<table border=\"1\" class=\"dataframe\">\n",
       "  <thead>\n",
       "    <tr style=\"text-align: right;\">\n",
       "      <th></th>\n",
       "      <th>Unnamed: 0</th>\n",
       "      <th>Character</th>\n",
       "      <th>Dialogue</th>\n",
       "      <th>EpisodeNo</th>\n",
       "      <th>SEID</th>\n",
       "      <th>Season</th>\n",
       "    </tr>\n",
       "  </thead>\n",
       "  <tbody>\n",
       "    <tr>\n",
       "      <th>0</th>\n",
       "      <td>0</td>\n",
       "      <td>JERRY</td>\n",
       "      <td>Do you know what this is all about? Do you kno...</td>\n",
       "      <td>1.0</td>\n",
       "      <td>S01E01</td>\n",
       "      <td>1.0</td>\n",
       "    </tr>\n",
       "    <tr>\n",
       "      <th>1</th>\n",
       "      <td>1</td>\n",
       "      <td>JERRY</td>\n",
       "      <td>(pointing at Georges shirt) See, to me, that b...</td>\n",
       "      <td>1.0</td>\n",
       "      <td>S01E01</td>\n",
       "      <td>1.0</td>\n",
       "    </tr>\n",
       "    <tr>\n",
       "      <th>2</th>\n",
       "      <td>2</td>\n",
       "      <td>GEORGE</td>\n",
       "      <td>Are you through?</td>\n",
       "      <td>1.0</td>\n",
       "      <td>S01E01</td>\n",
       "      <td>1.0</td>\n",
       "    </tr>\n",
       "    <tr>\n",
       "      <th>3</th>\n",
       "      <td>3</td>\n",
       "      <td>JERRY</td>\n",
       "      <td>You do of course try on, when you buy?</td>\n",
       "      <td>1.0</td>\n",
       "      <td>S01E01</td>\n",
       "      <td>1.0</td>\n",
       "    </tr>\n",
       "    <tr>\n",
       "      <th>4</th>\n",
       "      <td>4</td>\n",
       "      <td>GEORGE</td>\n",
       "      <td>Yes, it was purple, I liked it, I dont actuall...</td>\n",
       "      <td>1.0</td>\n",
       "      <td>S01E01</td>\n",
       "      <td>1.0</td>\n",
       "    </tr>\n",
       "    <tr>\n",
       "      <th>5</th>\n",
       "      <td>5</td>\n",
       "      <td>JERRY</td>\n",
       "      <td>Oh, you dont recall?</td>\n",
       "      <td>1.0</td>\n",
       "      <td>S01E01</td>\n",
       "      <td>1.0</td>\n",
       "    </tr>\n",
       "    <tr>\n",
       "      <th>6</th>\n",
       "      <td>6</td>\n",
       "      <td>GEORGE</td>\n",
       "      <td>(on an imaginary microphone) Uh, no, not at th...</td>\n",
       "      <td>1.0</td>\n",
       "      <td>S01E01</td>\n",
       "      <td>1.0</td>\n",
       "    </tr>\n",
       "    <tr>\n",
       "      <th>7</th>\n",
       "      <td>7</td>\n",
       "      <td>JERRY</td>\n",
       "      <td>Well, senator, Id just like to know, what you ...</td>\n",
       "      <td>1.0</td>\n",
       "      <td>S01E01</td>\n",
       "      <td>1.0</td>\n",
       "    </tr>\n",
       "    <tr>\n",
       "      <th>9</th>\n",
       "      <td>9</td>\n",
       "      <td>GEORGE</td>\n",
       "      <td>Are, are you sure this is decaf? Wheres the or...</td>\n",
       "      <td>1.0</td>\n",
       "      <td>S01E01</td>\n",
       "      <td>1.0</td>\n",
       "    </tr>\n",
       "    <tr>\n",
       "      <th>11</th>\n",
       "      <td>11</td>\n",
       "      <td>JERRY</td>\n",
       "      <td>Can you relax, its a cup of coffee. Claire is ...</td>\n",
       "      <td>1.0</td>\n",
       "      <td>S01E01</td>\n",
       "      <td>1.0</td>\n",
       "    </tr>\n",
       "    <tr>\n",
       "      <th>13</th>\n",
       "      <td>13</td>\n",
       "      <td>GEORGE</td>\n",
       "      <td>How come youre not doin the second show tomorrow?</td>\n",
       "      <td>1.0</td>\n",
       "      <td>S01E01</td>\n",
       "      <td>1.0</td>\n",
       "    </tr>\n",
       "    <tr>\n",
       "      <th>14</th>\n",
       "      <td>14</td>\n",
       "      <td>JERRY</td>\n",
       "      <td>Well, theres this uh, woman might be comin in.</td>\n",
       "      <td>1.0</td>\n",
       "      <td>S01E01</td>\n",
       "      <td>1.0</td>\n",
       "    </tr>\n",
       "    <tr>\n",
       "      <th>15</th>\n",
       "      <td>15</td>\n",
       "      <td>GEORGE</td>\n",
       "      <td>Wait a second, wait a second, what coming in, ...</td>\n",
       "      <td>1.0</td>\n",
       "      <td>S01E01</td>\n",
       "      <td>1.0</td>\n",
       "    </tr>\n",
       "    <tr>\n",
       "      <th>16</th>\n",
       "      <td>16</td>\n",
       "      <td>JERRY</td>\n",
       "      <td>I told you about Laura, the girl I met in Mich...</td>\n",
       "      <td>1.0</td>\n",
       "      <td>S01E01</td>\n",
       "      <td>1.0</td>\n",
       "    </tr>\n",
       "    <tr>\n",
       "      <th>17</th>\n",
       "      <td>17</td>\n",
       "      <td>GEORGE</td>\n",
       "      <td>No, you didnt!</td>\n",
       "      <td>1.0</td>\n",
       "      <td>S01E01</td>\n",
       "      <td>1.0</td>\n",
       "    </tr>\n",
       "    <tr>\n",
       "      <th>18</th>\n",
       "      <td>18</td>\n",
       "      <td>JERRY</td>\n",
       "      <td>I thought I told you about it, yes, she teache...</td>\n",
       "      <td>1.0</td>\n",
       "      <td>S01E01</td>\n",
       "      <td>1.0</td>\n",
       "    </tr>\n",
       "    <tr>\n",
       "      <th>19</th>\n",
       "      <td>19</td>\n",
       "      <td>GEORGE</td>\n",
       "      <td>Ha.</td>\n",
       "      <td>1.0</td>\n",
       "      <td>S01E01</td>\n",
       "      <td>1.0</td>\n",
       "    </tr>\n",
       "    <tr>\n",
       "      <th>20</th>\n",
       "      <td>20</td>\n",
       "      <td>JERRY</td>\n",
       "      <td>(looks in the creamer) Theres no milk in here,...</td>\n",
       "      <td>1.0</td>\n",
       "      <td>S01E01</td>\n",
       "      <td>1.0</td>\n",
       "    </tr>\n",
       "    <tr>\n",
       "      <th>21</th>\n",
       "      <td>21</td>\n",
       "      <td>GEORGE</td>\n",
       "      <td>Wait wait wait, what is she... (takes the milk...</td>\n",
       "      <td>1.0</td>\n",
       "      <td>S01E01</td>\n",
       "      <td>1.0</td>\n",
       "    </tr>\n",
       "    <tr>\n",
       "      <th>22</th>\n",
       "      <td>22</td>\n",
       "      <td>JERRY</td>\n",
       "      <td>Oh, shes really great. I mean, shes got like a...</td>\n",
       "      <td>1.0</td>\n",
       "      <td>S01E01</td>\n",
       "      <td>1.0</td>\n",
       "    </tr>\n",
       "    <tr>\n",
       "      <th>23</th>\n",
       "      <td>23</td>\n",
       "      <td>GEORGE</td>\n",
       "      <td>(smiling) So, you know, what, what happened?</td>\n",
       "      <td>1.0</td>\n",
       "      <td>S01E01</td>\n",
       "      <td>1.0</td>\n",
       "    </tr>\n",
       "    <tr>\n",
       "      <th>24</th>\n",
       "      <td>24</td>\n",
       "      <td>JERRY</td>\n",
       "      <td>Oh, nothing happened, you know, but is was great.</td>\n",
       "      <td>1.0</td>\n",
       "      <td>S01E01</td>\n",
       "      <td>1.0</td>\n",
       "    </tr>\n",
       "    <tr>\n",
       "      <th>25</th>\n",
       "      <td>25</td>\n",
       "      <td>GEORGE</td>\n",
       "      <td>Oh, nothing happened, but it was...</td>\n",
       "      <td>1.0</td>\n",
       "      <td>S01E01</td>\n",
       "      <td>1.0</td>\n",
       "    </tr>\n",
       "    <tr>\n",
       "      <th>26</th>\n",
       "      <td>26</td>\n",
       "      <td>JERRY</td>\n",
       "      <td>Yeah.</td>\n",
       "      <td>1.0</td>\n",
       "      <td>S01E01</td>\n",
       "      <td>1.0</td>\n",
       "    </tr>\n",
       "    <tr>\n",
       "      <th>27</th>\n",
       "      <td>27</td>\n",
       "      <td>GEORGE</td>\n",
       "      <td>This is great!</td>\n",
       "      <td>1.0</td>\n",
       "      <td>S01E01</td>\n",
       "      <td>1.0</td>\n",
       "    </tr>\n",
       "    <tr>\n",
       "      <th>28</th>\n",
       "      <td>28</td>\n",
       "      <td>JERRY</td>\n",
       "      <td>Yeah.</td>\n",
       "      <td>1.0</td>\n",
       "      <td>S01E01</td>\n",
       "      <td>1.0</td>\n",
       "    </tr>\n",
       "    <tr>\n",
       "      <th>29</th>\n",
       "      <td>29</td>\n",
       "      <td>GEORGE</td>\n",
       "      <td>So, you know, she calls and says she wants to ...</td>\n",
       "      <td>1.0</td>\n",
       "      <td>S01E01</td>\n",
       "      <td>1.0</td>\n",
       "    </tr>\n",
       "    <tr>\n",
       "      <th>30</th>\n",
       "      <td>30</td>\n",
       "      <td>JERRY</td>\n",
       "      <td>Yeah, well...not exactly. I mean, she said, yo...</td>\n",
       "      <td>1.0</td>\n",
       "      <td>S01E01</td>\n",
       "      <td>1.0</td>\n",
       "    </tr>\n",
       "    <tr>\n",
       "      <th>31</th>\n",
       "      <td>31</td>\n",
       "      <td>GEORGE</td>\n",
       "      <td>(whistles disapprovingly) Ho ho ho, Had to? Ha...</td>\n",
       "      <td>1.0</td>\n",
       "      <td>S01E01</td>\n",
       "      <td>1.0</td>\n",
       "    </tr>\n",
       "    <tr>\n",
       "      <th>32</th>\n",
       "      <td>32</td>\n",
       "      <td>JERRY</td>\n",
       "      <td>Yeah, but...</td>\n",
       "      <td>1.0</td>\n",
       "      <td>S01E01</td>\n",
       "      <td>1.0</td>\n",
       "    </tr>\n",
       "    <tr>\n",
       "      <th>...</th>\n",
       "      <td>...</td>\n",
       "      <td>...</td>\n",
       "      <td>...</td>\n",
       "      <td>...</td>\n",
       "      <td>...</td>\n",
       "      <td>...</td>\n",
       "    </tr>\n",
       "    <tr>\n",
       "      <th>54561</th>\n",
       "      <td>54561</td>\n",
       "      <td>ELAINE</td>\n",
       "      <td>I hope it's not that one, because I cannot wea...</td>\n",
       "      <td>23.0</td>\n",
       "      <td>S09E23</td>\n",
       "      <td>9.0</td>\n",
       "    </tr>\n",
       "    <tr>\n",
       "      <th>54562</th>\n",
       "      <td>54562</td>\n",
       "      <td>KRAMER</td>\n",
       "      <td>Will you stop worrying? Jackie's going to get ...</td>\n",
       "      <td>23.0</td>\n",
       "      <td>S09E23</td>\n",
       "      <td>9.0</td>\n",
       "    </tr>\n",
       "    <tr>\n",
       "      <th>54573</th>\n",
       "      <td>54573</td>\n",
       "      <td>JERRY</td>\n",
       "      <td>Hey Elaine, what was it you were about to say ...</td>\n",
       "      <td>23.0</td>\n",
       "      <td>S09E23</td>\n",
       "      <td>9.0</td>\n",
       "    </tr>\n",
       "    <tr>\n",
       "      <th>54574</th>\n",
       "      <td>54574</td>\n",
       "      <td>ELAINE</td>\n",
       "      <td>I've always loved ... United Airlines.</td>\n",
       "      <td>23.0</td>\n",
       "      <td>S09E23</td>\n",
       "      <td>9.0</td>\n",
       "    </tr>\n",
       "    <tr>\n",
       "      <th>54575</th>\n",
       "      <td>54575</td>\n",
       "      <td>KRAMER</td>\n",
       "      <td>I think it's going to be okay - that girl just...</td>\n",
       "      <td>23.0</td>\n",
       "      <td>S09E23</td>\n",
       "      <td>9.0</td>\n",
       "    </tr>\n",
       "    <tr>\n",
       "      <th>54576</th>\n",
       "      <td>54576</td>\n",
       "      <td>JERRY</td>\n",
       "      <td>Maybe because she knows you're going to jail.</td>\n",
       "      <td>23.0</td>\n",
       "      <td>S09E23</td>\n",
       "      <td>9.0</td>\n",
       "    </tr>\n",
       "    <tr>\n",
       "      <th>54583</th>\n",
       "      <td>54583</td>\n",
       "      <td>GEORGE</td>\n",
       "      <td>You had to hop! You had to hop on the plane.</td>\n",
       "      <td>23.0</td>\n",
       "      <td>S09E23</td>\n",
       "      <td>9.0</td>\n",
       "    </tr>\n",
       "    <tr>\n",
       "      <th>54584</th>\n",
       "      <td>54584</td>\n",
       "      <td>ELAINE</td>\n",
       "      <td>Puddy, don't wait for me.</td>\n",
       "      <td>23.0</td>\n",
       "      <td>S09E23</td>\n",
       "      <td>9.0</td>\n",
       "    </tr>\n",
       "    <tr>\n",
       "      <th>54588</th>\n",
       "      <td>54588</td>\n",
       "      <td>JERRY</td>\n",
       "      <td>What?</td>\n",
       "      <td>23.0</td>\n",
       "      <td>S09E23</td>\n",
       "      <td>9.0</td>\n",
       "    </tr>\n",
       "    <tr>\n",
       "      <th>54590</th>\n",
       "      <td>54590</td>\n",
       "      <td>JERRY</td>\n",
       "      <td>Well, it's only a year. That's not so bad. We'...</td>\n",
       "      <td>23.0</td>\n",
       "      <td>S09E23</td>\n",
       "      <td>9.0</td>\n",
       "    </tr>\n",
       "    <tr>\n",
       "      <th>54591</th>\n",
       "      <td>54591</td>\n",
       "      <td>KRAMER</td>\n",
       "      <td>Could be fun. Don't have to worry about your m...</td>\n",
       "      <td>23.0</td>\n",
       "      <td>S09E23</td>\n",
       "      <td>9.0</td>\n",
       "    </tr>\n",
       "    <tr>\n",
       "      <th>54592</th>\n",
       "      <td>54592</td>\n",
       "      <td>ELAINE</td>\n",
       "      <td>Why don't you just blow it out your a...</td>\n",
       "      <td>23.0</td>\n",
       "      <td>S09E23</td>\n",
       "      <td>9.0</td>\n",
       "    </tr>\n",
       "    <tr>\n",
       "      <th>54593</th>\n",
       "      <td>54593</td>\n",
       "      <td>ELAINE</td>\n",
       "      <td>If I call Jill from prison, do you think that ...</td>\n",
       "      <td>23.0</td>\n",
       "      <td>S09E23</td>\n",
       "      <td>9.0</td>\n",
       "    </tr>\n",
       "    <tr>\n",
       "      <th>54594</th>\n",
       "      <td>54594</td>\n",
       "      <td>JERRY</td>\n",
       "      <td>Sure.</td>\n",
       "      <td>23.0</td>\n",
       "      <td>S09E23</td>\n",
       "      <td>9.0</td>\n",
       "    </tr>\n",
       "    <tr>\n",
       "      <th>54595</th>\n",
       "      <td>54595</td>\n",
       "      <td>ELAINE</td>\n",
       "      <td>Cause you only get one call. The prison call i...</td>\n",
       "      <td>23.0</td>\n",
       "      <td>S09E23</td>\n",
       "      <td>9.0</td>\n",
       "    </tr>\n",
       "    <tr>\n",
       "      <th>54596</th>\n",
       "      <td>54596</td>\n",
       "      <td>JERRY</td>\n",
       "      <td>I think that would be a very nice gesture.</td>\n",
       "      <td>23.0</td>\n",
       "      <td>S09E23</td>\n",
       "      <td>9.0</td>\n",
       "    </tr>\n",
       "    <tr>\n",
       "      <th>54597</th>\n",
       "      <td>54597</td>\n",
       "      <td>KRAMER</td>\n",
       "      <td>I got it - it's out! How about that, huh? Oh, ...</td>\n",
       "      <td>23.0</td>\n",
       "      <td>S09E23</td>\n",
       "      <td>9.0</td>\n",
       "    </tr>\n",
       "    <tr>\n",
       "      <th>54598</th>\n",
       "      <td>54598</td>\n",
       "      <td>JERRY</td>\n",
       "      <td>See now, to me, that button is in the worst po...</td>\n",
       "      <td>23.0</td>\n",
       "      <td>S09E23</td>\n",
       "      <td>9.0</td>\n",
       "    </tr>\n",
       "    <tr>\n",
       "      <th>54599</th>\n",
       "      <td>54599</td>\n",
       "      <td>GEORGE</td>\n",
       "      <td>Really?</td>\n",
       "      <td>23.0</td>\n",
       "      <td>S09E23</td>\n",
       "      <td>9.0</td>\n",
       "    </tr>\n",
       "    <tr>\n",
       "      <th>54600</th>\n",
       "      <td>54600</td>\n",
       "      <td>JERRY</td>\n",
       "      <td>Oh yeah. The second button is the key button. ...</td>\n",
       "      <td>23.0</td>\n",
       "      <td>S09E23</td>\n",
       "      <td>9.0</td>\n",
       "    </tr>\n",
       "    <tr>\n",
       "      <th>54601</th>\n",
       "      <td>54601</td>\n",
       "      <td>GEORGE</td>\n",
       "      <td>Haven't we had this conversation before?</td>\n",
       "      <td>23.0</td>\n",
       "      <td>S09E23</td>\n",
       "      <td>9.0</td>\n",
       "    </tr>\n",
       "    <tr>\n",
       "      <th>54602</th>\n",
       "      <td>54602</td>\n",
       "      <td>JERRY</td>\n",
       "      <td>You think?</td>\n",
       "      <td>23.0</td>\n",
       "      <td>S09E23</td>\n",
       "      <td>9.0</td>\n",
       "    </tr>\n",
       "    <tr>\n",
       "      <th>54603</th>\n",
       "      <td>54603</td>\n",
       "      <td>GEORGE</td>\n",
       "      <td>I think we have.</td>\n",
       "      <td>23.0</td>\n",
       "      <td>S09E23</td>\n",
       "      <td>9.0</td>\n",
       "    </tr>\n",
       "    <tr>\n",
       "      <th>54604</th>\n",
       "      <td>54604</td>\n",
       "      <td>JERRY</td>\n",
       "      <td>Yeah, maybe we have.</td>\n",
       "      <td>23.0</td>\n",
       "      <td>S09E23</td>\n",
       "      <td>9.0</td>\n",
       "    </tr>\n",
       "    <tr>\n",
       "      <th>54605</th>\n",
       "      <td>54605</td>\n",
       "      <td>JERRY</td>\n",
       "      <td>So what is the deal with the yard? I mean when...</td>\n",
       "      <td>23.0</td>\n",
       "      <td>S09E23</td>\n",
       "      <td>9.0</td>\n",
       "    </tr>\n",
       "    <tr>\n",
       "      <th>54607</th>\n",
       "      <td>54607</td>\n",
       "      <td>JERRY</td>\n",
       "      <td>I'll talk slower. I'm kidding - I love Cellblo...</td>\n",
       "      <td>23.0</td>\n",
       "      <td>S09E23</td>\n",
       "      <td>9.0</td>\n",
       "    </tr>\n",
       "    <tr>\n",
       "      <th>54609</th>\n",
       "      <td>54609</td>\n",
       "      <td>JERRY</td>\n",
       "      <td>Murder one? Oooooo, watch out everybody. Bette...</td>\n",
       "      <td>23.0</td>\n",
       "      <td>S09E23</td>\n",
       "      <td>9.0</td>\n",
       "    </tr>\n",
       "    <tr>\n",
       "      <th>54611</th>\n",
       "      <td>54611</td>\n",
       "      <td>JERRY</td>\n",
       "      <td>Grand theft auto - don't steal any of my jokes.</td>\n",
       "      <td>23.0</td>\n",
       "      <td>S09E23</td>\n",
       "      <td>9.0</td>\n",
       "    </tr>\n",
       "    <tr>\n",
       "      <th>54613</th>\n",
       "      <td>54613</td>\n",
       "      <td>JERRY</td>\n",
       "      <td>Hey, I don't come down to where you work, and ...</td>\n",
       "      <td>23.0</td>\n",
       "      <td>S09E23</td>\n",
       "      <td>9.0</td>\n",
       "    </tr>\n",
       "    <tr>\n",
       "      <th>54615</th>\n",
       "      <td>54615</td>\n",
       "      <td>JERRY</td>\n",
       "      <td>Alright, hey, you've been great! See you in th...</td>\n",
       "      <td>23.0</td>\n",
       "      <td>S09E23</td>\n",
       "      <td>9.0</td>\n",
       "    </tr>\n",
       "  </tbody>\n",
       "</table>\n",
       "<p>39781 rows × 6 columns</p>\n",
       "</div>"
      ],
      "text/plain": [
       "       Unnamed: 0 Character  \\\n",
       "0               0     JERRY   \n",
       "1               1     JERRY   \n",
       "2               2    GEORGE   \n",
       "3               3     JERRY   \n",
       "4               4    GEORGE   \n",
       "5               5     JERRY   \n",
       "6               6    GEORGE   \n",
       "7               7     JERRY   \n",
       "9               9    GEORGE   \n",
       "11             11     JERRY   \n",
       "13             13    GEORGE   \n",
       "14             14     JERRY   \n",
       "15             15    GEORGE   \n",
       "16             16     JERRY   \n",
       "17             17    GEORGE   \n",
       "18             18     JERRY   \n",
       "19             19    GEORGE   \n",
       "20             20     JERRY   \n",
       "21             21    GEORGE   \n",
       "22             22     JERRY   \n",
       "23             23    GEORGE   \n",
       "24             24     JERRY   \n",
       "25             25    GEORGE   \n",
       "26             26     JERRY   \n",
       "27             27    GEORGE   \n",
       "28             28     JERRY   \n",
       "29             29    GEORGE   \n",
       "30             30     JERRY   \n",
       "31             31    GEORGE   \n",
       "32             32     JERRY   \n",
       "...           ...       ...   \n",
       "54561       54561    ELAINE   \n",
       "54562       54562    KRAMER   \n",
       "54573       54573     JERRY   \n",
       "54574       54574    ELAINE   \n",
       "54575       54575    KRAMER   \n",
       "54576       54576     JERRY   \n",
       "54583       54583    GEORGE   \n",
       "54584       54584    ELAINE   \n",
       "54588       54588     JERRY   \n",
       "54590       54590     JERRY   \n",
       "54591       54591    KRAMER   \n",
       "54592       54592    ELAINE   \n",
       "54593       54593    ELAINE   \n",
       "54594       54594     JERRY   \n",
       "54595       54595    ELAINE   \n",
       "54596       54596     JERRY   \n",
       "54597       54597    KRAMER   \n",
       "54598       54598     JERRY   \n",
       "54599       54599    GEORGE   \n",
       "54600       54600     JERRY   \n",
       "54601       54601    GEORGE   \n",
       "54602       54602     JERRY   \n",
       "54603       54603    GEORGE   \n",
       "54604       54604     JERRY   \n",
       "54605       54605     JERRY   \n",
       "54607       54607     JERRY   \n",
       "54609       54609     JERRY   \n",
       "54611       54611     JERRY   \n",
       "54613       54613     JERRY   \n",
       "54615       54615     JERRY   \n",
       "\n",
       "                                                Dialogue  EpisodeNo    SEID  \\\n",
       "0      Do you know what this is all about? Do you kno...        1.0  S01E01   \n",
       "1      (pointing at Georges shirt) See, to me, that b...        1.0  S01E01   \n",
       "2                                       Are you through?        1.0  S01E01   \n",
       "3                 You do of course try on, when you buy?        1.0  S01E01   \n",
       "4      Yes, it was purple, I liked it, I dont actuall...        1.0  S01E01   \n",
       "5                                   Oh, you dont recall?        1.0  S01E01   \n",
       "6      (on an imaginary microphone) Uh, no, not at th...        1.0  S01E01   \n",
       "7      Well, senator, Id just like to know, what you ...        1.0  S01E01   \n",
       "9      Are, are you sure this is decaf? Wheres the or...        1.0  S01E01   \n",
       "11     Can you relax, its a cup of coffee. Claire is ...        1.0  S01E01   \n",
       "13     How come youre not doin the second show tomorrow?        1.0  S01E01   \n",
       "14        Well, theres this uh, woman might be comin in.        1.0  S01E01   \n",
       "15     Wait a second, wait a second, what coming in, ...        1.0  S01E01   \n",
       "16     I told you about Laura, the girl I met in Mich...        1.0  S01E01   \n",
       "17                                        No, you didnt!        1.0  S01E01   \n",
       "18     I thought I told you about it, yes, she teache...        1.0  S01E01   \n",
       "19                                                   Ha.        1.0  S01E01   \n",
       "20     (looks in the creamer) Theres no milk in here,...        1.0  S01E01   \n",
       "21     Wait wait wait, what is she... (takes the milk...        1.0  S01E01   \n",
       "22     Oh, shes really great. I mean, shes got like a...        1.0  S01E01   \n",
       "23          (smiling) So, you know, what, what happened?        1.0  S01E01   \n",
       "24     Oh, nothing happened, you know, but is was great.        1.0  S01E01   \n",
       "25                   Oh, nothing happened, but it was...        1.0  S01E01   \n",
       "26                                                 Yeah.        1.0  S01E01   \n",
       "27                                        This is great!        1.0  S01E01   \n",
       "28                                                 Yeah.        1.0  S01E01   \n",
       "29     So, you know, she calls and says she wants to ...        1.0  S01E01   \n",
       "30     Yeah, well...not exactly. I mean, she said, yo...        1.0  S01E01   \n",
       "31     (whistles disapprovingly) Ho ho ho, Had to? Ha...        1.0  S01E01   \n",
       "32                                          Yeah, but...        1.0  S01E01   \n",
       "...                                                  ...        ...     ...   \n",
       "54561  I hope it's not that one, because I cannot wea...       23.0  S09E23   \n",
       "54562  Will you stop worrying? Jackie's going to get ...       23.0  S09E23   \n",
       "54573  Hey Elaine, what was it you were about to say ...       23.0  S09E23   \n",
       "54574             I've always loved ... United Airlines.       23.0  S09E23   \n",
       "54575  I think it's going to be okay - that girl just...       23.0  S09E23   \n",
       "54576      Maybe because she knows you're going to jail.       23.0  S09E23   \n",
       "54583       You had to hop! You had to hop on the plane.       23.0  S09E23   \n",
       "54584                          Puddy, don't wait for me.       23.0  S09E23   \n",
       "54588                                              What?       23.0  S09E23   \n",
       "54590  Well, it's only a year. That's not so bad. We'...       23.0  S09E23   \n",
       "54591  Could be fun. Don't have to worry about your m...       23.0  S09E23   \n",
       "54592           Why don't you just blow it out your a...       23.0  S09E23   \n",
       "54593  If I call Jill from prison, do you think that ...       23.0  S09E23   \n",
       "54594                                              Sure.       23.0  S09E23   \n",
       "54595  Cause you only get one call. The prison call i...       23.0  S09E23   \n",
       "54596         I think that would be a very nice gesture.       23.0  S09E23   \n",
       "54597  I got it - it's out! How about that, huh? Oh, ...       23.0  S09E23   \n",
       "54598  See now, to me, that button is in the worst po...       23.0  S09E23   \n",
       "54599                                            Really?       23.0  S09E23   \n",
       "54600  Oh yeah. The second button is the key button. ...       23.0  S09E23   \n",
       "54601           Haven't we had this conversation before?       23.0  S09E23   \n",
       "54602                                         You think?       23.0  S09E23   \n",
       "54603                                   I think we have.       23.0  S09E23   \n",
       "54604                               Yeah, maybe we have.       23.0  S09E23   \n",
       "54605  So what is the deal with the yard? I mean when...       23.0  S09E23   \n",
       "54607  I'll talk slower. I'm kidding - I love Cellblo...       23.0  S09E23   \n",
       "54609  Murder one? Oooooo, watch out everybody. Bette...       23.0  S09E23   \n",
       "54611    Grand theft auto - don't steal any of my jokes.       23.0  S09E23   \n",
       "54613  Hey, I don't come down to where you work, and ...       23.0  S09E23   \n",
       "54615  Alright, hey, you've been great! See you in th...       23.0  S09E23   \n",
       "\n",
       "       Season  \n",
       "0         1.0  \n",
       "1         1.0  \n",
       "2         1.0  \n",
       "3         1.0  \n",
       "4         1.0  \n",
       "5         1.0  \n",
       "6         1.0  \n",
       "7         1.0  \n",
       "9         1.0  \n",
       "11        1.0  \n",
       "13        1.0  \n",
       "14        1.0  \n",
       "15        1.0  \n",
       "16        1.0  \n",
       "17        1.0  \n",
       "18        1.0  \n",
       "19        1.0  \n",
       "20        1.0  \n",
       "21        1.0  \n",
       "22        1.0  \n",
       "23        1.0  \n",
       "24        1.0  \n",
       "25        1.0  \n",
       "26        1.0  \n",
       "27        1.0  \n",
       "28        1.0  \n",
       "29        1.0  \n",
       "30        1.0  \n",
       "31        1.0  \n",
       "32        1.0  \n",
       "...       ...  \n",
       "54561     9.0  \n",
       "54562     9.0  \n",
       "54573     9.0  \n",
       "54574     9.0  \n",
       "54575     9.0  \n",
       "54576     9.0  \n",
       "54583     9.0  \n",
       "54584     9.0  \n",
       "54588     9.0  \n",
       "54590     9.0  \n",
       "54591     9.0  \n",
       "54592     9.0  \n",
       "54593     9.0  \n",
       "54594     9.0  \n",
       "54595     9.0  \n",
       "54596     9.0  \n",
       "54597     9.0  \n",
       "54598     9.0  \n",
       "54599     9.0  \n",
       "54600     9.0  \n",
       "54601     9.0  \n",
       "54602     9.0  \n",
       "54603     9.0  \n",
       "54604     9.0  \n",
       "54605     9.0  \n",
       "54607     9.0  \n",
       "54609     9.0  \n",
       "54611     9.0  \n",
       "54613     9.0  \n",
       "54615     9.0  \n",
       "\n",
       "[39781 rows x 6 columns]"
      ]
     },
     "execution_count": 394,
     "metadata": {},
     "output_type": "execute_result"
    }
   ],
   "source": [
    "dial_df"
   ]
  },
  {
   "cell_type": "code",
   "execution_count": 175,
   "metadata": {},
   "outputs": [
    {
     "name": "stdout",
     "output_type": "stream",
     "text": [
      "17897\n"
     ]
    }
   ],
   "source": [
    "print(len(vectorizer.vocabulary_))\n",
    "num_vocabs=len(vectorizer.vocabulary_)"
   ]
  },
  {
   "cell_type": "code",
   "execution_count": 176,
   "metadata": {},
   "outputs": [],
   "source": [
    "#import deep learning stuff\n",
    "import keras\n",
    "from keras.models import Sequential\n",
    "from keras.layers import Dense, Activation, Dropout\n",
    "from keras.preprocessing.text import Tokenizer\n",
    "from sklearn.preprocessing import LabelEncoder, OneHotEncoder"
   ]
  },
  {
   "cell_type": "code",
   "execution_count": 177,
   "metadata": {},
   "outputs": [],
   "source": [
    "# Encoding categorical data using label encoding and one-hot encoding \n",
    "from sklearn import preprocessing\n",
    "labelencoder = preprocessing.LabelEncoder()\n",
    "y = labelencoder.fit_transform(y)\n",
    "y = y.reshape(-1,1)\n",
    "#one hotencode the target values \n",
    "y = onehotencoder.fit_transform(y).toarray()"
   ]
  },
  {
   "cell_type": "code",
   "execution_count": 172,
   "metadata": {},
   "outputs": [
    {
     "data": {
      "text/plain": [
       "(39781, 5)"
      ]
     },
     "execution_count": 172,
     "metadata": {},
     "output_type": "execute_result"
    }
   ],
   "source": [
    "y.shape"
   ]
  },
  {
   "cell_type": "code",
   "execution_count": 178,
   "metadata": {},
   "outputs": [],
   "source": [
    "y = np.delete(y,3,1).astype(int)"
   ]
  },
  {
   "cell_type": "code",
   "execution_count": 179,
   "metadata": {},
   "outputs": [
    {
     "data": {
      "text/plain": [
       "(39781, 4)"
      ]
     },
     "execution_count": 179,
     "metadata": {},
     "output_type": "execute_result"
    }
   ],
   "source": [
    "y.shape"
   ]
  },
  {
   "cell_type": "code",
   "execution_count": 180,
   "metadata": {},
   "outputs": [],
   "source": [
    "from sklearn.model_selection import train_test_split\n",
    "X_train, X_test, y_train, y_test = train_test_split(X, y, test_size=0.2, random_state=123)"
   ]
  },
  {
   "cell_type": "markdown",
   "metadata": {},
   "source": [
    "create model (3 layers since text is more complex than number analysis) "
   ]
  },
  {
   "cell_type": "code",
   "execution_count": 182,
   "metadata": {},
   "outputs": [],
   "source": [
    "max_words = num_vocabs\n",
    "num_classes = 4\n",
    "#initiate model \n",
    "model = Sequential()\n",
    "#layer 1\n",
    "model.add(Dense(512, activation= 'relu', input_shape=(max_words,)))\n",
    "model.add(Dropout(0.5))\n",
    "\n",
    "#layer 2\n",
    "model.add(Dense(256, activation= 'relu'))\n",
    "model.add(Dropout(0.5))\n",
    "\n",
    "#layer 3\n",
    "model.add(Dense(128, activation= 'relu'))\n",
    "model.add(Dropout(0.5))\n",
    "\n",
    "#final layer \n",
    "model.add(Dense(num_classes, activation='softmax'))\n"
   ]
  },
  {
   "cell_type": "code",
   "execution_count": 185,
   "metadata": {},
   "outputs": [],
   "source": [
    "#compile model \n",
    "model.compile(loss='categorical_crossentropy', \n",
    "              optimizer='adam', \n",
    "              metrics=['accuracy'])"
   ]
  },
  {
   "cell_type": "markdown",
   "metadata": {},
   "source": [
    "Train on 31824 samples, validate on 7957 samples\n",
    "\n",
    "Epoch 1/5\n",
    "31824/31824 [==============================] - 65s 2ms/step - loss: 0.1752 - acc: 0.7866 - val_loss: 2.1872 - val_acc: 0.4184\n",
    "\n",
    "Epoch 2/5\n",
    "31824/31824 [==============================] - 57s 2ms/step - loss: 0.1791 - acc: 0.7887 - val_loss: 2.0967 - val_acc: 0.4213\n",
    "\n",
    "Epoch 3/5\n",
    "31824/31824 [==============================] - 56s 2ms/step - loss: 0.1749 - acc: 0.7898 - val_loss: 2.2302 - val_acc: 0.4224\n",
    "\n",
    "Epoch 4/5\n",
    "31824/31824 [==============================] - 57s 2ms/step - loss: 0.1765 - acc: 0.7843 - val_loss: 2.2316 - val_acc: 0.4154\n",
    "\n",
    "Epoch 5/5\n",
    "31824/31824 [==============================] - 56s 2ms/step - loss: 0.1742 - acc: 0.7863 - val_loss: 2.2202 - val_acc: 0.4169\n"
   ]
  },
  {
   "cell_type": "markdown",
   "metadata": {},
   "source": [
    "with Random Over Sampling (jerry has a lot more dialogues over other characters, accounting for sample imbalance) "
   ]
  },
  {
   "cell_type": "code",
   "execution_count": 204,
   "metadata": {},
   "outputs": [],
   "source": [
    "#reset target and scaler \n",
    "X = dial_df[\"Dialogue\"]\n",
    "y = dial_df[\"Character\"]\n",
    "from sklearn.feature_extraction.text import TfidfVectorizer\n",
    "vectorizer = TfidfVectorizer(analyzer=lines).fit(X)\n",
    "X = vectorizer.transform(X)\n",
    "# Apply the random over-sampling to account for larger sample size for Jerry\n",
    "from imblearn.over_sampling import RandomOverSampler\n",
    "ros = RandomOverSampler()\n",
    "X_resampled, y_resampled = ros.fit_sample(X, y)"
   ]
  },
  {
   "cell_type": "code",
   "execution_count": 205,
   "metadata": {},
   "outputs": [],
   "source": [
    "labelencoder = preprocessing.LabelEncoder()\n",
    "y = labelencoder.fit_transform(y_resampled)\n",
    "y = y.reshape(-1,1)\n",
    "#one hotencode the target values \n",
    "y = onehotencoder.fit_transform(y).toarray()\n",
    "y = np.delete(y,3,1).astype(int)"
   ]
  },
  {
   "cell_type": "code",
   "execution_count": 206,
   "metadata": {},
   "outputs": [],
   "source": [
    "X_train, X_test, y_train, y_test = train_test_split(X_resampled, y, test_size=0.2, random_state=123)"
   ]
  },
  {
   "cell_type": "code",
   "execution_count": 207,
   "metadata": {},
   "outputs": [],
   "source": [
    "#initiate model \n",
    "model = Sequential()\n",
    "#layer 1\n",
    "model.add(Dense(256, activation= 'relu', input_shape=(max_words,)))\n",
    "model.add(Dropout(0.5))\n",
    "\n",
    "#layer 2\n",
    "model.add(Dense(128, activation= 'relu'))\n",
    "model.add(Dropout(0.5))\n",
    "\n",
    "#layer 3\n",
    "model.add(Dense(64, activation= 'relu'))\n",
    "model.add(Dropout(0.5))\n",
    "\n",
    "#final layer \n",
    "model.add(Dense(num_classes, activation='softmax'))\n",
    "\n",
    "#compile model \n",
    "model.compile(loss='categorical_crossentropy', \n",
    "              optimizer='adam', \n",
    "              metrics=['accuracy'])"
   ]
  },
  {
   "cell_type": "markdown",
   "metadata": {},
   "source": [
    "with 5 epochs \n",
    "\n",
    "Train on 59144 samples, validate on 14786 samples\n",
    "\n",
    "Epoch 5/5\n",
    "59144/59144 [==============================] - 55s 934us/step - loss: 0.4332 - acc: 0.6770 - val_loss: 0.5777 - val_acc: 0.6002"
   ]
  },
  {
   "cell_type": "markdown",
   "metadata": {},
   "source": [
    "with 25 epochs \n",
    "\n",
    "Train on 59144 samples, validate on 14786 samples\n",
    "\n",
    "Epoch 24/25\n",
    "59144/59144 [==============================] - 48s 809us/step - loss: 0.1946 - acc: 0.7687 - val_loss: 0.8687 - val_acc: 0.6302\n"
   ]
  },
  {
   "cell_type": "markdown",
   "metadata": {},
   "source": [
    "Random Sampling plus CountVectorization (with max features limited to 8000, instead of 31824)"
   ]
  },
  {
   "cell_type": "code",
   "execution_count": 399,
   "metadata": {},
   "outputs": [],
   "source": [
    "#reset target and scaler \n",
    "X = dial_df[\"Dialogue\"]\n",
    "y = dial_df[\"Character\"]\n",
    "from sklearn.feature_extraction.text import CountVectorizer\n",
    "#limit max feature in count-vec \n",
    "vectorizer = CountVectorizer(max_features=8000, analyzer=text_process)\n",
    "X = vectorizer.fit_transform(X)"
   ]
  },
  {
   "cell_type": "code",
   "execution_count": 403,
   "metadata": {},
   "outputs": [
    {
     "data": {
      "text/plain": [
       "<39781x8000 sparse matrix of type '<class 'numpy.int64'>'\n",
       "\twith 345160 stored elements in Compressed Sparse Row format>"
      ]
     },
     "execution_count": 403,
     "metadata": {},
     "output_type": "execute_result"
    }
   ],
   "source": [
    "X"
   ]
  },
  {
   "cell_type": "code",
   "execution_count": 315,
   "metadata": {},
   "outputs": [],
   "source": [
    "ros = RandomOverSampler()\n",
    "X_resampled, y_resampled = ros.fit_sample(X, y)"
   ]
  },
  {
   "cell_type": "code",
   "execution_count": 316,
   "metadata": {},
   "outputs": [
    {
     "data": {
      "text/plain": [
       "<73930x8000 sparse matrix of type '<class 'numpy.int64'>'\n",
       "\twith 631968 stored elements in Compressed Sparse Row format>"
      ]
     },
     "execution_count": 316,
     "metadata": {},
     "output_type": "execute_result"
    }
   ],
   "source": [
    "X_resampled"
   ]
  },
  {
   "cell_type": "code",
   "execution_count": 405,
   "metadata": {},
   "outputs": [],
   "source": [
    "y = labelencoder.fit_transform(y_resampled)\n",
    "y = y.reshape(-1,1)\n",
    "#one hotencode the target values \n",
    "y = onehotencoder.fit_transform(y).toarray()\n",
    "y = np.delete(y,3,1).astype(int)"
   ]
  },
  {
   "cell_type": "code",
   "execution_count": 406,
   "metadata": {},
   "outputs": [
    {
     "name": "stdout",
     "output_type": "stream",
     "text": [
      "predicting on 4 catagories with 73930 input\n"
     ]
    }
   ],
   "source": [
    "print ('predicting on', y.shape[1], 'catagories with', y.shape[0], 'input')"
   ]
  },
  {
   "cell_type": "code",
   "execution_count": 319,
   "metadata": {},
   "outputs": [],
   "source": [
    "#fuction for deleting sparse matrix by index \n",
    "from scipy.sparse import csr_matrix\n",
    "\n",
    "def delete_from_csr(mat, row_indices=[], col_indices=[]):\n",
    "    \"\"\"\n",
    "    Remove the rows (denoted by ``row_indices``) and columns (denoted by ``col_indices``) from the CSR sparse matrix ``mat``.\n",
    "    WARNING: Indices of altered axes are reset in the returned matrix\n",
    "    \"\"\"\n",
    "    if not isinstance(mat, csr_matrix):\n",
    "        raise ValueError(\"works only for CSR format -- use .tocsr() first\")\n",
    "\n",
    "    rows = []\n",
    "    cols = []\n",
    "    if row_indices:\n",
    "        rows = list(row_indices)\n",
    "    if col_indices:\n",
    "        cols = list(col_indices)\n",
    "\n",
    "    if len(rows) > 0 and len(cols) > 0:\n",
    "        row_mask = np.ones(mat.shape[0], dtype=bool)\n",
    "        row_mask[rows] = False\n",
    "        col_mask = np.ones(mat.shape[1], dtype=bool)\n",
    "        col_mask[cols] = False\n",
    "        return mat[row_mask][:,col_mask]\n",
    "    elif len(rows) > 0:\n",
    "        mask = np.ones(mat.shape[0], dtype=bool)\n",
    "        mask[rows] = False\n",
    "        return mat[mask]\n",
    "    elif len(cols) > 0:\n",
    "        mask = np.ones(mat.shape[1], dtype=bool)\n",
    "        mask[cols] = False\n",
    "        return mat[:,mask]\n",
    "    else:\n",
    "        return mat"
   ]
  },
  {
   "cell_type": "code",
   "execution_count": 320,
   "metadata": {},
   "outputs": [
    {
     "name": "stdout",
     "output_type": "stream",
     "text": [
      "test: (1500, 8000) target test: (1500, 4) target train: (72430, 4)\n"
     ]
    },
    {
     "data": {
      "text/plain": [
       "<72430x8000 sparse matrix of type '<class 'numpy.int64'>'\n",
       "\twith 619356 stored elements in Compressed Sparse Row format>"
      ]
     },
     "execution_count": 320,
     "metadata": {},
     "output_type": "execute_result"
    }
   ],
   "source": [
    "#pull out 1400 as test set \n",
    "test_indx=random.sample(range(1,73930), 14000)\n",
    "#set aside test set for the scaler \n",
    "test = X_resampled[test_index]\n",
    "#set aside train set for the scaler \n",
    "train = delete_from_csr(X_resampled, row_indices=[test_index])\n",
    "#set aside test set for the target \n",
    "target_test = y[test_index]\n",
    "#set aside train set for the target \n",
    "target_train =np.delete(y, test_index, axis=0)\n",
    "#check test/train shape \n",
    "print ('test:', np.shape(test), 'target test:', np.shape(target_test), 'target train:', np.shape(target_train))\n",
    "train"
   ]
  },
  {
   "cell_type": "markdown",
   "metadata": {},
   "source": [
    "create validation set "
   ]
  },
  {
   "cell_type": "code",
   "execution_count": 735,
   "metadata": {},
   "outputs": [
    {
     "name": "stdout",
     "output_type": "stream",
     "text": [
      "(1000, 8000) (36641, 8000) (1000, 3) (36641, 3)\n"
     ]
    }
   ],
   "source": [
    "#let's take the first 1000 cases out of the training set to become the validation set \n",
    "random.seed(123)\n",
    "#set aside validation from scaler train\n",
    "val = train[:1000]\n",
    "train_final = train[1000:]\n",
    "#set aside validation from target train \n",
    "target_val = target_train[:1000]\n",
    "target_train_final = target_train[1000:]\n",
    "print (np.shape(val), np.shape(train_final), np.shape(target_val), np.shape(target_train_final))"
   ]
  },
  {
   "cell_type": "code",
   "execution_count": 325,
   "metadata": {},
   "outputs": [
    {
     "name": "stdout",
     "output_type": "stream",
     "text": [
      "(1000, 8000) (71430, 8000) (1000, 4) (71430, 4)\n"
     ]
    }
   ],
   "source": [
    "print (np.shape(val), np.shape(train_final), np.shape(target_val), np.shape(target_train_final))"
   ]
  },
  {
   "cell_type": "markdown",
   "metadata": {},
   "source": [
    "Run Model \n"
   ]
  },
  {
   "cell_type": "code",
   "execution_count": 333,
   "metadata": {
    "scrolled": true
   },
   "outputs": [
    {
     "name": "stdout",
     "output_type": "stream",
     "text": [
      "Train on 71430 samples, validate on 1000 samples\n",
      "Epoch 1/25\n",
      "71430/71430 [==============================] - 33s 456us/step - loss: 0.4220 - acc: 0.8274 - val_loss: 0.4708 - val_acc: 0.7615\n",
      "Epoch 2/25\n",
      "71430/71430 [==============================] - 37s 519us/step - loss: 0.3361 - acc: 0.8556 - val_loss: 0.4378 - val_acc: 0.7747\n",
      "Epoch 3/25\n",
      "71430/71430 [==============================] - 42s 591us/step - loss: 0.2974 - acc: 0.8724 - val_loss: 0.4371 - val_acc: 0.7760\n",
      "Epoch 4/25\n",
      "71430/71430 [==============================] - 28s 398us/step - loss: 0.2671 - acc: 0.8864 - val_loss: 0.4574 - val_acc: 0.7755\n",
      "Epoch 5/25\n",
      "71430/71430 [==============================] - 28s 394us/step - loss: 0.2460 - acc: 0.8966 - val_loss: 0.4551 - val_acc: 0.7813\n",
      "Epoch 6/25\n",
      "71430/71430 [==============================] - 29s 404us/step - loss: 0.2305 - acc: 0.9042 - val_loss: 0.4525 - val_acc: 0.7872\n",
      "Epoch 7/25\n",
      "71430/71430 [==============================] - 28s 396us/step - loss: 0.2177 - acc: 0.9110 - val_loss: 0.4534 - val_acc: 0.7950\n",
      "Epoch 8/25\n",
      "71430/71430 [==============================] - 28s 395us/step - loss: 0.2076 - acc: 0.9155 - val_loss: 0.4614 - val_acc: 0.7917\n",
      "Epoch 9/25\n",
      "71430/71430 [==============================] - 29s 401us/step - loss: 0.2000 - acc: 0.9203 - val_loss: 0.4727 - val_acc: 0.8003\n",
      "Epoch 10/25\n",
      "71430/71430 [==============================] - 28s 396us/step - loss: 0.1932 - acc: 0.9238 - val_loss: 0.4957 - val_acc: 0.7937\n",
      "Epoch 11/25\n",
      "71430/71430 [==============================] - 29s 405us/step - loss: 0.1864 - acc: 0.9275 - val_loss: 0.5216 - val_acc: 0.7917\n",
      "Epoch 12/25\n",
      "71430/71430 [==============================] - 29s 399us/step - loss: 0.1826 - acc: 0.9306 - val_loss: 0.5435 - val_acc: 0.7933\n",
      "Epoch 13/25\n",
      "71430/71430 [==============================] - 30s 421us/step - loss: 0.1789 - acc: 0.9328 - val_loss: 0.5480 - val_acc: 0.7897\n",
      "Epoch 14/25\n",
      "71430/71430 [==============================] - 41s 571us/step - loss: 0.1758 - acc: 0.9355 - val_loss: 0.5370 - val_acc: 0.7900\n",
      "Epoch 15/25\n",
      "71430/71430 [==============================] - 30s 422us/step - loss: 0.1731 - acc: 0.9371 - val_loss: 0.5706 - val_acc: 0.7910\n",
      "Epoch 16/25\n",
      "71430/71430 [==============================] - 27s 383us/step - loss: 0.1689 - acc: 0.9397 - val_loss: 0.5647 - val_acc: 0.8013\n",
      "Epoch 17/25\n",
      "71430/71430 [==============================] - 29s 400us/step - loss: 0.1672 - acc: 0.9419 - val_loss: 0.5857 - val_acc: 0.7923\n",
      "Epoch 18/25\n",
      "71430/71430 [==============================] - 29s 407us/step - loss: 0.1650 - acc: 0.9427 - val_loss: 0.5795 - val_acc: 0.8008\n",
      "Epoch 19/25\n",
      "71430/71430 [==============================] - 30s 413us/step - loss: 0.1635 - acc: 0.9439 - val_loss: 0.6010 - val_acc: 0.7955\n",
      "Epoch 20/25\n",
      "71430/71430 [==============================] - 28s 395us/step - loss: 0.1607 - acc: 0.9451 - val_loss: 0.6126 - val_acc: 0.7987\n",
      "Epoch 21/25\n",
      "71430/71430 [==============================] - 32s 451us/step - loss: 0.1582 - acc: 0.9468 - val_loss: 0.6347 - val_acc: 0.7945\n",
      "Epoch 22/25\n",
      "71430/71430 [==============================] - 30s 423us/step - loss: 0.1578 - acc: 0.9477 - val_loss: 0.6150 - val_acc: 0.7982\n",
      "Epoch 23/25\n",
      "71430/71430 [==============================] - 32s 446us/step - loss: 0.1565 - acc: 0.9482 - val_loss: 0.5976 - val_acc: 0.8028\n",
      "Epoch 24/25\n",
      "71430/71430 [==============================] - 35s 485us/step - loss: 0.1547 - acc: 0.9493 - val_loss: 0.5892 - val_acc: 0.8095\n",
      "Epoch 25/25\n",
      "71430/71430 [==============================] - 31s 434us/step - loss: 0.1529 - acc: 0.9500 - val_loss: 0.6423 - val_acc: 0.8020\n"
     ]
    }
   ],
   "source": [
    "#initiate model \n",
    "model = Sequential()\n",
    "#layer 1\n",
    "model.add(Dense(256, activation= 'relu', input_shape=(8000,)))\n",
    "model.add(Dropout(0.5))\n",
    "\n",
    "#layer 2\n",
    "model.add(Dense(128, activation= 'relu'))\n",
    "model.add(Dropout(0.5))\n",
    "\n",
    "# #layer 3\n",
    "# model.add(Dense(64, activation= 'relu'))\n",
    "# model.add(Dropout(0.5))\n",
    "\n",
    "#final layer \n",
    "model.add(Dense(4, activation='softmax'))\n",
    "\n",
    "#compile model \n",
    "model.compile(loss='binary_crossentropy', \n",
    "              optimizer='adam', \n",
    "              metrics=['accuracy'])\n",
    "\n",
    "model_val_1 = model.fit(train_final,target_train_final,\n",
    "                    epochs=25,\n",
    "                    batch_size=256,\n",
    "                    validation_data=(val, target_val))"
   ]
  },
  {
   "cell_type": "code",
   "execution_count": 334,
   "metadata": {
    "scrolled": false
   },
   "outputs": [
    {
     "name": "stdout",
     "output_type": "stream",
     "text": [
      "71430/71430 [==============================] - 21s 298us/step\n",
      "1500/1500 [==============================] - 0s 284us/step\n",
      "train: [0.12763027144822311, 0.9673386532269355] test: [0.5969387178421021, 0.8098333333333333]\n"
     ]
    }
   ],
   "source": [
    "results_train = model.evaluate(train_final, target_train_final)\n",
    "results_test = model.evaluate(test, target_test)\n",
    "print ('train:', results_train, 'test:', results_test )"
   ]
  },
  {
   "cell_type": "code",
   "execution_count": 337,
   "metadata": {
    "scrolled": true
   },
   "outputs": [
    {
     "data": {
      "image/png": "[encoded data removed]",
      "text/plain": [
       "<Figure size 432x288 with 1 Axes>"
      ]
     },
     "metadata": {},
     "output_type": "display_data"
    }
   ],
   "source": [
    "import matplotlib.pyplot as plt\n",
    "model_val_dict_1 = model_val_1.history\n",
    "plt.clf()\n",
    "loss_values = model_val_dict_1['loss']\n",
    "val_loss_values = model_val_dict_1['val_loss']\n",
    "epochs = range(1, len(loss_values) + 1)\n",
    "plt.plot(epochs, loss_values, 'g', label='Training loss')\n",
    "plt.plot(epochs, val_loss_values, 'g.', label='Validation loss')\n",
    "\n",
    "plt.title('Training & validation loss')\n",
    "plt.xlabel('Epochs')\n",
    "plt.ylabel('Loss')\n",
    "plt.legend()\n",
    "plt.show()"
   ]
  },
  {
   "cell_type": "code",
   "execution_count": 338,
   "metadata": {},
   "outputs": [
    {
     "data": {
      "image/png": "[encoded data removed]",
      "text/plain": [
       "<Figure size 432x288 with 1 Axes>"
      ]
     },
     "metadata": {},
     "output_type": "display_data"
    }
   ],
   "source": [
    "plt.clf()\n",
    "acc_values = model_val_dict_1['acc'] \n",
    "val_acc_values = model_val_dict_1['val_acc']\n",
    "plt.plot(epochs, acc_values, 'r', label='Training acc')\n",
    "plt.plot(epochs, val_acc_values, 'r.', label='Validation acc')\n",
    "plt.title('Training & validation accuracy')\n",
    "plt.xlabel('Epochs')\n",
    "plt.ylabel('Loss')\n",
    "plt.legend()\n",
    "plt.show()"
   ]
  },
  {
   "cell_type": "code",
   "execution_count": 375,
   "metadata": {},
   "outputs": [
    {
     "data": {
      "text/plain": [
       "'So, you know, she calls and says she wants to go out with you tomorrow night? God bless! Devil you!'"
      ]
     },
     "execution_count": 375,
     "metadata": {},
     "output_type": "execute_result"
    }
   ],
   "source": [
    "test= df.Dialogue[29]\n",
    "test"
   ]
  },
  {
   "cell_type": "code",
   "execution_count": 387,
   "metadata": {},
   "outputs": [],
   "source": [
    "test_vec=vectorizer.transform(['So, you know, she calls and says she wants to go out with you tomorrow night? God bless! Devil you!'\n",
    "])"
   ]
  },
  {
   "cell_type": "code",
   "execution_count": 392,
   "metadata": {
    "scrolled": true
   },
   "outputs": [
    {
     "data": {
      "text/plain": [
       "1.0000001"
      ]
     },
     "execution_count": 392,
     "metadata": {},
     "output_type": "execute_result"
    }
   ],
   "source": [
    "np.sum(model.predict(test_vec))"
   ]
  },
  {
   "cell_type": "code",
   "execution_count": 552,
   "metadata": {
    "scrolled": true
   },
   "outputs": [
    {
     "data": {
      "text/plain": [
       "<39141x17716 sparse matrix of type '<class 'numpy.int64'>'\n",
       "\twith 349901 stored elements in Compressed Sparse Row format>"
      ]
     },
     "execution_count": 552,
     "metadata": {},
     "output_type": "execute_result"
    }
   ],
   "source": [
    "X_test = dial_df[\"Dialogue\"]\n",
    "vectorizer = CountVectorizer(analyzer=text_process)\n",
    "X_test = vectorizer.fit_transform(X_test)\n",
    "X_test\n"
   ]
  },
  {
   "cell_type": "code",
   "execution_count": 580,
   "metadata": {},
   "outputs": [
    {
     "data": {
      "text/plain": [
       "<39141x2000 sparse matrix of type '<class 'numpy.int64'>'\n",
       "\twith 313352 stored elements in Compressed Sparse Row format>"
      ]
     },
     "execution_count": 580,
     "metadata": {},
     "output_type": "execute_result"
    }
   ],
   "source": [
    "#feature min to 8000 features \n",
    "X = dial_df[\"Dialogue\"]\n",
    "vectorizer = CountVectorizer(max_features=8000, analyzer=text_process)\n",
    "X = vectorizer.fit_transform(X)\n",
    "X"
   ]
  },
  {
   "cell_type": "markdown",
   "metadata": {},
   "source": [
    "increase validation set "
   ]
  },
  {
   "cell_type": "code",
   "execution_count": 630,
   "metadata": {},
   "outputs": [],
   "source": [
    "#reset target and scaler \n",
    "X = dial_df[\"Dialogue\"]\n",
    "y = dial_df[\"Character\"]\n",
    "\n",
    "#limit max feature in count-vec \n",
    "vectorizer = CountVectorizer(max_features=8000, analyzer=text_process)\n",
    "X = vectorizer.fit_transform(X)\n",
    "\n",
    "#one hot encode the target values \n",
    "y = labelencoder.fit_transform(y)\n",
    "y = y.reshape(-1,1)\n",
    "#one hotencode the target values \n",
    "y = onehotencoder.fit_transform(y).toarray()\n",
    "#avoid dummy variable \n",
    "y = np.delete(y,3,1).astype(int)\n"
   ]
  },
  {
   "cell_type": "code",
   "execution_count": 640,
   "metadata": {},
   "outputs": [],
   "source": [
    "#pull out 1400 as test set \n",
    "test_indx=random.sample(range(1,39141), 4000)\n",
    "#set aside test set for the scaler \n",
    "test = X_resampled[test_index]\n",
    "#set aside train set for the scaler \n",
    "train = delete_from_csr(X_resampled, row_indices=[test_index])\n",
    "#set aside test set for the target \n",
    "target_test = y[test_index]\n",
    "#set aside train set for the target \n",
    "target_train =np.delete(y, test_index, axis=0)\n",
    "#check test/train shape \n",
    "print ('test:', np.shape(test), 'target test:', np.shape(target_test), 'target train:', np.shape(target_train))\n",
    "train"
   ]
  },
  {
   "cell_type": "code",
   "execution_count": null,
   "metadata": {},
   "outputs": [],
   "source": [
    "#let's take the first 1000 cases out of the training set to become the validation set \n",
    "random.seed(123)\n",
    "#set aside validation from scaler train\n",
    "val = train[:1000]\n",
    "train_final = train[1000:]\n",
    "#set aside validation from target train \n",
    "target_val = target_train[:1000]\n",
    "target_train_final = target_train[1000:]\n",
    "print (np.shape(val), np.shape(train_final), np.shape(target_val), np.shape(target_train_final))"
   ]
  },
  {
   "cell_type": "code",
   "execution_count": null,
   "metadata": {},
   "outputs": [],
   "source": []
  },
  {
   "cell_type": "code",
   "execution_count": null,
   "metadata": {},
   "outputs": [],
   "source": []
  },
  {
   "cell_type": "markdown",
   "metadata": {},
   "source": [
    "Build graphs to show the training and validation loss  / accuracy, and the different models \n"
   ]
  },
  {
   "cell_type": "code",
   "execution_count": 340,
   "metadata": {},
   "outputs": [
    {
     "name": "stdout",
     "output_type": "stream",
     "text": [
      "Train on 71430 samples, validate on 1000 samples\n",
      "Epoch 1/25\n",
      "71430/71430 [==============================] - 60s 836us/step - loss: 0.4452 - acc: 0.8212 - val_loss: 0.4927 - val_acc: 0.7620\n",
      "Epoch 2/25\n",
      "71430/71430 [==============================] - 47s 654us/step - loss: 0.3602 - acc: 0.8484 - val_loss: 0.4530 - val_acc: 0.7700\n",
      "Epoch 3/25\n",
      "71430/71430 [==============================] - 44s 617us/step - loss: 0.3240 - acc: 0.8626 - val_loss: 0.4558 - val_acc: 0.7632\n",
      "Epoch 4/25\n",
      "71430/71430 [==============================] - 45s 631us/step - loss: 0.2911 - acc: 0.8784 - val_loss: 0.4388 - val_acc: 0.7755\n",
      "Epoch 5/25\n",
      "71430/71430 [==============================] - 46s 641us/step - loss: 0.2638 - acc: 0.8934 - val_loss: 0.4411 - val_acc: 0.7885\n",
      "Epoch 6/25\n",
      "71430/71430 [==============================] - 45s 629us/step - loss: 0.2416 - acc: 0.9061 - val_loss: 0.4639 - val_acc: 0.7830\n",
      "Epoch 7/25\n",
      "71430/71430 [==============================] - 46s 637us/step - loss: 0.2253 - acc: 0.9157 - val_loss: 0.5004 - val_acc: 0.7875\n",
      "Epoch 8/25\n",
      "71430/71430 [==============================] - 44s 621us/step - loss: 0.2124 - acc: 0.9233 - val_loss: 0.5304 - val_acc: 0.7913\n",
      "Epoch 9/25\n",
      "71430/71430 [==============================] - 47s 654us/step - loss: 0.2010 - acc: 0.9294 - val_loss: 0.5095 - val_acc: 0.7930\n",
      "Epoch 10/25\n",
      "71430/71430 [==============================] - 50s 706us/step - loss: 0.1934 - acc: 0.9337 - val_loss: 0.5521 - val_acc: 0.7920\n",
      "Epoch 11/25\n",
      "71430/71430 [==============================] - 55s 771us/step - loss: 0.1874 - acc: 0.9374 - val_loss: 0.5357 - val_acc: 0.7930\n",
      "Epoch 12/25\n",
      "71430/71430 [==============================] - 48s 671us/step - loss: 0.1805 - acc: 0.9408 - val_loss: 0.5598 - val_acc: 0.7970\n",
      "Epoch 13/25\n",
      "71430/71430 [==============================] - 45s 633us/step - loss: 0.1768 - acc: 0.9432 - val_loss: 0.5905 - val_acc: 0.7987\n",
      "Epoch 14/25\n",
      "71430/71430 [==============================] - 48s 672us/step - loss: 0.1732 - acc: 0.9452 - val_loss: 0.6009 - val_acc: 0.7925\n",
      "Epoch 15/25\n",
      "71430/71430 [==============================] - 48s 676us/step - loss: 0.1700 - acc: 0.9466 - val_loss: 0.6174 - val_acc: 0.7945\n",
      "Epoch 16/25\n",
      "71430/71430 [==============================] - 45s 634us/step - loss: 0.1663 - acc: 0.9481 - val_loss: 0.6327 - val_acc: 0.7992\n",
      "Epoch 17/25\n",
      "71430/71430 [==============================] - 47s 655us/step - loss: 0.1649 - acc: 0.9497 - val_loss: 0.6106 - val_acc: 0.8018\n",
      "Epoch 18/25\n",
      "71430/71430 [==============================] - 51s 717us/step - loss: 0.1612 - acc: 0.9509 - val_loss: 0.6353 - val_acc: 0.8005\n",
      "Epoch 19/25\n",
      "71430/71430 [==============================] - 48s 675us/step - loss: 0.1601 - acc: 0.9517 - val_loss: 0.6469 - val_acc: 0.7992\n",
      "Epoch 20/25\n",
      "71430/71430 [==============================] - 47s 658us/step - loss: 0.1584 - acc: 0.9524 - val_loss: 0.6669 - val_acc: 0.7965\n",
      "Epoch 21/25\n",
      "71430/71430 [==============================] - 52s 721us/step - loss: 0.1575 - acc: 0.9534 - val_loss: 0.6760 - val_acc: 0.7983\n",
      "Epoch 22/25\n",
      "71430/71430 [==============================] - 46s 648us/step - loss: 0.1563 - acc: 0.9541 - val_loss: 0.6726 - val_acc: 0.7988\n",
      "Epoch 23/25\n",
      "71430/71430 [==============================] - 46s 646us/step - loss: 0.1543 - acc: 0.9547 - val_loss: 0.7071 - val_acc: 0.7993\n",
      "Epoch 24/25\n",
      "71430/71430 [==============================] - 48s 665us/step - loss: 0.1523 - acc: 0.9557 - val_loss: 0.7100 - val_acc: 0.7997\n",
      "Epoch 25/25\n",
      "71430/71430 [==============================] - 51s 711us/step - loss: 0.1510 - acc: 0.9567 - val_loss: 0.6984 - val_acc: 0.8042\n"
     ]
    }
   ],
   "source": [
    "#increase layers, decrease neuron size \n",
    "\n",
    "model_2 = Sequential()\n",
    "#layer 1\n",
    "model_2.add(Dense(513, activation= 'relu', input_shape=(8000,)))\n",
    "model_2.add(Dropout(0.5))\n",
    "\n",
    "#layer 2\n",
    "model_2.add(Dense(64, activation= 'relu'))\n",
    "model_2.add(Dropout(0.5))\n",
    "\n",
    "#layer 2\n",
    "model_2.add(Dense(32, activation= 'relu'))\n",
    "model_2.add(Dropout(0.5))\n",
    "\n",
    "#final layer \n",
    "model_2.add(Dense(4, activation='softmax'))\n",
    "\n",
    "#compile model \n",
    "model_2.compile(loss='binary_crossentropy', \n",
    "              optimizer='adam', \n",
    "              metrics=['accuracy'])\n",
    "\n",
    "model_val_2 = model_2.fit(train_final,target_train_final,\n",
    "                    epochs=25,\n",
    "                    batch_size=256,\n",
    "                    validation_data=(val, target_val))"
   ]
  },
  {
   "cell_type": "code",
   "execution_count": 341,
   "metadata": {},
   "outputs": [
    {
     "data": {
      "image/png": "[encoded data removed]",
      "text/plain": [
       "<Figure size 432x288 with 1 Axes>"
      ]
     },
     "metadata": {},
     "output_type": "display_data"
    }
   ],
   "source": [
    "#graph accuracy \n",
    "model_val_dict_2 = model_val_2.history\n",
    "plt.clf()\n",
    "acc_values = model_val_dict_2['acc'] \n",
    "val_acc_values = model_val_dict_2['val_acc']\n",
    "plt.plot(epochs, acc_values, 'r', label='Training acc')\n",
    "plt.plot(epochs, val_acc_values, 'r.', label='Validation acc')\n",
    "plt.title('Training & validation accuracy')\n",
    "plt.xlabel('Epochs')\n",
    "plt.ylabel('Loss')\n",
    "plt.legend()\n",
    "plt.show()"
   ]
  },
  {
   "cell_type": "code",
   "execution_count": 345,
   "metadata": {},
   "outputs": [
    {
     "name": "stdout",
     "output_type": "stream",
     "text": [
      "Train on 71430 samples, validate on 1000 samples\n",
      "Epoch 1/25\n",
      "71430/71430 [==============================] - 35s 484us/step - loss: 2.4566 - acc: 0.8008 - val_loss: 0.5755 - val_acc: 0.7680\n",
      "Epoch 2/25\n",
      "71430/71430 [==============================] - 29s 407us/step - loss: 0.5313 - acc: 0.8008 - val_loss: 0.5749 - val_acc: 0.7680\n",
      "Epoch 3/25\n",
      "71430/71430 [==============================] - 29s 407us/step - loss: 0.5310 - acc: 0.8008 - val_loss: 0.5749 - val_acc: 0.7680\n",
      "Epoch 4/25\n",
      "71430/71430 [==============================] - 31s 432us/step - loss: 0.5309 - acc: 0.8008 - val_loss: 0.5708 - val_acc: 0.7680\n",
      "Epoch 5/25\n",
      "71430/71430 [==============================] - 28s 399us/step - loss: 0.5307 - acc: 0.8008 - val_loss: 0.5741 - val_acc: 0.7680\n",
      "Epoch 6/25\n",
      "71430/71430 [==============================] - 29s 408us/step - loss: 0.5306 - acc: 0.8008 - val_loss: 0.5718 - val_acc: 0.7680\n",
      "Epoch 7/25\n",
      "71430/71430 [==============================] - 32s 444us/step - loss: 0.5305 - acc: 0.8008 - val_loss: 0.5725 - val_acc: 0.7680\n",
      "Epoch 8/25\n",
      "71430/71430 [==============================] - 44s 610us/step - loss: 0.5304 - acc: 0.8008 - val_loss: 0.5747 - val_acc: 0.7680\n",
      "Epoch 9/25\n",
      "71430/71430 [==============================] - 31s 430us/step - loss: 0.5303 - acc: 0.8008 - val_loss: 0.5714 - val_acc: 0.7680\n",
      "Epoch 10/25\n",
      "71430/71430 [==============================] - 30s 426us/step - loss: 0.5303 - acc: 0.8008 - val_loss: 0.5698 - val_acc: 0.7680\n",
      "Epoch 11/25\n",
      "71430/71430 [==============================] - 33s 463us/step - loss: 0.5303 - acc: 0.8008 - val_loss: 0.5748 - val_acc: 0.7680\n",
      "Epoch 12/25\n",
      "71430/71430 [==============================] - 33s 460us/step - loss: 0.5302 - acc: 0.8008 - val_loss: 0.5721 - val_acc: 0.7680\n",
      "Epoch 13/25\n",
      "71430/71430 [==============================] - 29s 406us/step - loss: 0.5302 - acc: 0.8008 - val_loss: 0.5747 - val_acc: 0.7680\n",
      "Epoch 14/25\n",
      "71430/71430 [==============================] - 29s 410us/step - loss: 0.5302 - acc: 0.8008 - val_loss: 0.5747 - val_acc: 0.7680\n",
      "Epoch 15/25\n",
      "71430/71430 [==============================] - 31s 438us/step - loss: 0.5301 - acc: 0.8008 - val_loss: 0.5725 - val_acc: 0.7680\n",
      "Epoch 16/25\n",
      "71430/71430 [==============================] - 29s 401us/step - loss: 0.5301 - acc: 0.8008 - val_loss: 0.5717 - val_acc: 0.7680\n",
      "Epoch 17/25\n",
      "71430/71430 [==============================] - 29s 409us/step - loss: 0.5301 - acc: 0.8008 - val_loss: 0.5733 - val_acc: 0.7680\n",
      "Epoch 18/25\n",
      "71430/71430 [==============================] - 32s 450us/step - loss: 0.5301 - acc: 0.8008 - val_loss: 0.5732 - val_acc: 0.7680\n",
      "Epoch 19/25\n",
      "71430/71430 [==============================] - 30s 417us/step - loss: 0.5301 - acc: 0.8008 - val_loss: 0.5750 - val_acc: 0.7680\n",
      "Epoch 20/25\n",
      "71430/71430 [==============================] - 29s 404us/step - loss: 0.5300 - acc: 0.8008 - val_loss: 0.5745 - val_acc: 0.7680\n",
      "Epoch 21/25\n",
      "33280/71430 [============>.................] - ETA: 16s - loss: 0.5298 - acc: 0.8010"
     ]
    },
    {
     "ename": "KeyboardInterrupt",
     "evalue": "",
     "output_type": "error",
     "traceback": [
      "\u001b[0;31m---------------------------------------------------------------------------\u001b[0m",
      "\u001b[0;31mKeyboardInterrupt\u001b[0m                         Traceback (most recent call last)",
      "\u001b[0;32m<ipython-input-345-9da8b49bc0f7>\u001b[0m in \u001b[0;36m<module>\u001b[0;34m()\u001b[0m\n\u001b[1;32m     13\u001b[0m                     \u001b[0mepochs\u001b[0m\u001b[0;34m=\u001b[0m\u001b[0;36m25\u001b[0m\u001b[0;34m,\u001b[0m\u001b[0;34m\u001b[0m\u001b[0m\n\u001b[1;32m     14\u001b[0m                     \u001b[0mbatch_size\u001b[0m\u001b[0;34m=\u001b[0m\u001b[0;36m256\u001b[0m\u001b[0;34m,\u001b[0m\u001b[0;34m\u001b[0m\u001b[0m\n\u001b[0;32m---> 15\u001b[0;31m                     validation_data=(val, target_val))\n\u001b[0m",
      "\u001b[0;32m/anaconda3/lib/python3.6/site-packages/keras/engine/training.py\u001b[0m in \u001b[0;36mfit\u001b[0;34m(self, x, y, batch_size, epochs, verbose, callbacks, validation_split, validation_data, shuffle, class_weight, sample_weight, initial_epoch, steps_per_epoch, validation_steps, **kwargs)\u001b[0m\n\u001b[1;32m   1035\u001b[0m                                         \u001b[0minitial_epoch\u001b[0m\u001b[0;34m=\u001b[0m\u001b[0minitial_epoch\u001b[0m\u001b[0;34m,\u001b[0m\u001b[0;34m\u001b[0m\u001b[0m\n\u001b[1;32m   1036\u001b[0m                                         \u001b[0msteps_per_epoch\u001b[0m\u001b[0;34m=\u001b[0m\u001b[0msteps_per_epoch\u001b[0m\u001b[0;34m,\u001b[0m\u001b[0;34m\u001b[0m\u001b[0m\n\u001b[0;32m-> 1037\u001b[0;31m                                         validation_steps=validation_steps)\n\u001b[0m\u001b[1;32m   1038\u001b[0m \u001b[0;34m\u001b[0m\u001b[0m\n\u001b[1;32m   1039\u001b[0m     def evaluate(self, x=None, y=None,\n",
      "\u001b[0;32m/anaconda3/lib/python3.6/site-packages/keras/engine/training_arrays.py\u001b[0m in \u001b[0;36mfit_loop\u001b[0;34m(model, f, ins, out_labels, batch_size, epochs, verbose, callbacks, val_f, val_ins, shuffle, callback_metrics, initial_epoch, steps_per_epoch, validation_steps)\u001b[0m\n\u001b[1;32m    202\u001b[0m                     \u001b[0mbatch_logs\u001b[0m\u001b[0;34m[\u001b[0m\u001b[0ml\u001b[0m\u001b[0;34m]\u001b[0m \u001b[0;34m=\u001b[0m \u001b[0mo\u001b[0m\u001b[0;34m\u001b[0m\u001b[0m\n\u001b[1;32m    203\u001b[0m \u001b[0;34m\u001b[0m\u001b[0m\n\u001b[0;32m--> 204\u001b[0;31m                 \u001b[0mcallbacks\u001b[0m\u001b[0;34m.\u001b[0m\u001b[0mon_batch_end\u001b[0m\u001b[0;34m(\u001b[0m\u001b[0mbatch_index\u001b[0m\u001b[0;34m,\u001b[0m \u001b[0mbatch_logs\u001b[0m\u001b[0;34m)\u001b[0m\u001b[0;34m\u001b[0m\u001b[0m\n\u001b[0m\u001b[1;32m    205\u001b[0m                 \u001b[0;32mif\u001b[0m \u001b[0mcallback_model\u001b[0m\u001b[0;34m.\u001b[0m\u001b[0mstop_training\u001b[0m\u001b[0;34m:\u001b[0m\u001b[0;34m\u001b[0m\u001b[0m\n\u001b[1;32m    206\u001b[0m                     \u001b[0;32mbreak\u001b[0m\u001b[0;34m\u001b[0m\u001b[0m\n",
      "\u001b[0;32m/anaconda3/lib/python3.6/site-packages/keras/callbacks.py\u001b[0m in \u001b[0;36mon_batch_end\u001b[0;34m(self, batch, logs)\u001b[0m\n\u001b[1;32m    111\u001b[0m         \u001b[0mt_before_callbacks\u001b[0m \u001b[0;34m=\u001b[0m \u001b[0mtime\u001b[0m\u001b[0;34m.\u001b[0m\u001b[0mtime\u001b[0m\u001b[0;34m(\u001b[0m\u001b[0;34m)\u001b[0m\u001b[0;34m\u001b[0m\u001b[0m\n\u001b[1;32m    112\u001b[0m         \u001b[0;32mfor\u001b[0m \u001b[0mcallback\u001b[0m \u001b[0;32min\u001b[0m \u001b[0mself\u001b[0m\u001b[0;34m.\u001b[0m\u001b[0mcallbacks\u001b[0m\u001b[0;34m:\u001b[0m\u001b[0;34m\u001b[0m\u001b[0m\n\u001b[0;32m--> 113\u001b[0;31m             \u001b[0mcallback\u001b[0m\u001b[0;34m.\u001b[0m\u001b[0mon_batch_end\u001b[0m\u001b[0;34m(\u001b[0m\u001b[0mbatch\u001b[0m\u001b[0;34m,\u001b[0m \u001b[0mlogs\u001b[0m\u001b[0;34m)\u001b[0m\u001b[0;34m\u001b[0m\u001b[0m\n\u001b[0m\u001b[1;32m    114\u001b[0m         \u001b[0mself\u001b[0m\u001b[0;34m.\u001b[0m\u001b[0m_delta_ts_batch_end\u001b[0m\u001b[0;34m.\u001b[0m\u001b[0mappend\u001b[0m\u001b[0;34m(\u001b[0m\u001b[0mtime\u001b[0m\u001b[0;34m.\u001b[0m\u001b[0mtime\u001b[0m\u001b[0;34m(\u001b[0m\u001b[0;34m)\u001b[0m \u001b[0;34m-\u001b[0m \u001b[0mt_before_callbacks\u001b[0m\u001b[0;34m)\u001b[0m\u001b[0;34m\u001b[0m\u001b[0m\n\u001b[1;32m    115\u001b[0m         \u001b[0mdelta_t_median\u001b[0m \u001b[0;34m=\u001b[0m \u001b[0mnp\u001b[0m\u001b[0;34m.\u001b[0m\u001b[0mmedian\u001b[0m\u001b[0;34m(\u001b[0m\u001b[0mself\u001b[0m\u001b[0;34m.\u001b[0m\u001b[0m_delta_ts_batch_end\u001b[0m\u001b[0;34m)\u001b[0m\u001b[0;34m\u001b[0m\u001b[0m\n",
      "\u001b[0;32m/anaconda3/lib/python3.6/site-packages/keras/callbacks.py\u001b[0m in \u001b[0;36mon_batch_end\u001b[0;34m(self, batch, logs)\u001b[0m\n\u001b[1;32m    227\u001b[0m         \u001b[0mself\u001b[0m\u001b[0;34m.\u001b[0m\u001b[0mseen\u001b[0m \u001b[0;34m+=\u001b[0m \u001b[0mbatch_size\u001b[0m\u001b[0;34m\u001b[0m\u001b[0m\n\u001b[1;32m    228\u001b[0m \u001b[0;34m\u001b[0m\u001b[0m\n\u001b[0;32m--> 229\u001b[0;31m         \u001b[0;32mfor\u001b[0m \u001b[0mk\u001b[0m\u001b[0;34m,\u001b[0m \u001b[0mv\u001b[0m \u001b[0;32min\u001b[0m \u001b[0mlogs\u001b[0m\u001b[0;34m.\u001b[0m\u001b[0mitems\u001b[0m\u001b[0;34m(\u001b[0m\u001b[0;34m)\u001b[0m\u001b[0;34m:\u001b[0m\u001b[0;34m\u001b[0m\u001b[0m\n\u001b[0m\u001b[1;32m    230\u001b[0m             \u001b[0;32mif\u001b[0m \u001b[0mk\u001b[0m \u001b[0;32min\u001b[0m \u001b[0mself\u001b[0m\u001b[0;34m.\u001b[0m\u001b[0mstateful_metrics\u001b[0m\u001b[0;34m:\u001b[0m\u001b[0;34m\u001b[0m\u001b[0m\n\u001b[1;32m    231\u001b[0m                 \u001b[0mself\u001b[0m\u001b[0;34m.\u001b[0m\u001b[0mtotals\u001b[0m\u001b[0;34m[\u001b[0m\u001b[0mk\u001b[0m\u001b[0;34m]\u001b[0m \u001b[0;34m=\u001b[0m \u001b[0mv\u001b[0m\u001b[0;34m\u001b[0m\u001b[0m\n",
      "\u001b[0;31mKeyboardInterrupt\u001b[0m: "
     ]
    }
   ],
   "source": [
    "#Try L2 regularization \n",
    "from keras import regularizers\n",
    "model_3 = Sequential()\n",
    "model_3.add(Dense(256, activation='relu',kernel_regularizer=regularizers.l2(0.005), input_shape=(8000,))) #2 hidden layers\n",
    "model_3.add(Dense(168, kernel_regularizer=regularizers.l1(0.005), activation='relu'))\n",
    "model_3.add(Dense(4, activation='softmax'))\n",
    "\n",
    "model_3.compile(optimizer='adam',\n",
    "              loss='binary_crossentropy',\n",
    "              metrics=['accuracy'])\n",
    "\n",
    "model_val_3 = model_3.fit(train_final,target_train_final,\n",
    "                    epochs=25,\n",
    "                    batch_size=256,\n",
    "                    validation_data=(val, target_val))"
   ]
  },
  {
   "cell_type": "code",
   "execution_count": null,
   "metadata": {},
   "outputs": [],
   "source": []
  }
 ],
 "metadata": {
  "kernelspec": {
   "display_name": "Python 3",
   "language": "python",
   "name": "python3"
  },
  "language_info": {
   "codemirror_mode": {
    "name": "ipython",
    "version": 3
   },
   "file_extension": ".py",
   "mimetype": "text/x-python",
   "name": "python",
   "nbconvert_exporter": "python",
   "pygments_lexer": "ipython3",
   "version": "3.6.5"
  }
 },
 "nbformat": 4,
 "nbformat_minor": 2
}
